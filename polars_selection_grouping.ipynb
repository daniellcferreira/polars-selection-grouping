{
  "cells": [
    {
      "cell_type": "markdown",
      "metadata": {
        "id": "uzv2yqSO9cn3"
      },
      "source": [
        "Você pode acessar a [fonte](https://basedosdados.org/) de coleta dos dados. A fonte primária dos dados utilizados pode ser acessada nos seguintes links:\n",
        "- [Emissões de gases de efeito estufa no Brasil - UF.csv](https://seeg.eco.br/)\n",
        "- [Instituto Nacional de Meteorologia (INMET)(2023-2024).csv](https://portal.inmet.gov.br/dadoshistoricos)\n",
        "- [CatalogoEstaçõesAutomáticas.csv](https://portal.inmet.gov.br/paginas/catalogoaut)"
      ]
    },
    {
      "cell_type": "markdown",
      "metadata": {
        "id": "ogfhD4maipZF"
      },
      "source": [
        "# Iniciando as seleções de dados"
      ]
    },
    {
      "cell_type": "code",
      "execution_count": null,
      "metadata": {
        "id": "4GFDvIEitJfg"
      },
      "outputs": [],
      "source": [
        "# Definindo a URL de origem dos dados\n",
        "url_gee = ''"
      ]
    },
    {
      "cell_type": "code",
      "execution_count": null,
      "metadata": {
        "id": "31SnCYvveFX0"
      },
      "outputs": [],
      "source": [
        "# Importando a biblioteca Polars para manipulação de dados\n",
        "import polars as pl"
      ]
    },
    {
      "cell_type": "code",
      "execution_count": null,
      "metadata": {
        "id": "UBBSKwHCeFQt"
      },
      "outputs": [],
      "source": [
        "\n",
        "# Lendo o CSV a partir da URL informada\n",
        "df = pl.read_csv(url_gee)"
      ]
    },
    {
      "cell_type": "markdown",
      "metadata": {
        "id": "tQOkkk7Ke0QB"
      },
      "source": [
        "<font size=4>[`polars.read_csv`](https://docs.pola.rs/api/python/stable/reference/api/polars.read_csv.html)</font><br>"
      ]
    },
    {
      "cell_type": "code",
      "execution_count": null,
      "metadata": {
        "colab": {
          "base_uri": "https://localhost:8080/"
        },
        "id": "FxVa4JJRhnyA",
        "outputId": "9e1944f8-2180-4e8c-c0a3-37c60c7b18a3"
      },
      "outputs": [
        {
          "data": {
            "text/plain": [
              "(2704488, 12)"
            ]
          },
          "execution_count": 4,
          "metadata": {},
          "output_type": "execute_result"
        }
      ],
      "source": [
        "# Mostra a forma do DataFrame: número de linhas e colunas\n",
        "df.shape"
      ]
    },
    {
      "cell_type": "markdown",
      "metadata": {
        "id": "2JWDfcq_eLNz"
      },
      "source": [
        "<font size=4>[`polars.DataFrame.shape`](https://docs.pola.rs/api/python/stable/reference/dataframe/api/polars.DataFrame.shape.html)</font><br>"
      ]
    },
    {
      "cell_type": "code",
      "execution_count": null,
      "metadata": {
        "colab": {
          "base_uri": "https://localhost:8080/",
          "height": 465
        },
        "id": "33REMfEkhod3",
        "outputId": "bc68943f-fa53-4699-bbb6-36e09907c585"
      },
      "outputs": [
        {
          "data": {
            "text/html": [
              "<div><style>\n",
              ".dataframe > thead > tr,\n",
              ".dataframe > tbody > tr {\n",
              "  text-align: right;\n",
              "  white-space: pre-wrap;\n",
              "}\n",
              "</style>\n",
              "<small>shape: (5, 12)</small><table border=\"1\" class=\"dataframe\"><thead><tr><th>ano</th><th>sigla_uf</th><th>nivel_1</th><th>nivel_2</th><th>nivel_3</th><th>nivel_4</th><th>nivel_5</th><th>nivel_6</th><th>tipo_emissao</th><th>gas</th><th>atividade_economica</th><th>emissao</th></tr><tr><td>i64</td><td>str</td><td>str</td><td>str</td><td>str</td><td>str</td><td>str</td><td>str</td><td>str</td><td>str</td><td>str</td><td>f64</td></tr></thead><tbody><tr><td>2002</td><td>&quot;AC&quot;</td><td>&quot;Agropecuária&quot;</td><td>&quot;Cultivo do Arroz&quot;</td><td>&quot;Diretas&quot;</td><td>&quot;Outros&quot;</td><td>&quot;Vegetal&quot;</td><td>&quot;Arroz&quot;</td><td>&quot;Emissão&quot;</td><td>&quot;CH4 (t)&quot;</td><td>&quot;AGR&quot;</td><td>0.0</td></tr><tr><td>2002</td><td>&quot;AC&quot;</td><td>&quot;Agropecuária&quot;</td><td>&quot;Cultivo do Arroz&quot;</td><td>&quot;Diretas&quot;</td><td>&quot;Outros&quot;</td><td>&quot;Vegetal&quot;</td><td>&quot;Arroz&quot;</td><td>&quot;Emissão&quot;</td><td>&quot;CO2e (t) GWP-AR5&quot;</td><td>&quot;AGR&quot;</td><td>0.0</td></tr><tr><td>2002</td><td>&quot;AC&quot;</td><td>&quot;Agropecuária&quot;</td><td>&quot;Fermentação Entérica&quot;</td><td>&quot;Diretas&quot;</td><td>&quot;Outros&quot;</td><td>&quot;Animal&quot;</td><td>&quot;Asinino&quot;</td><td>&quot;Emissão&quot;</td><td>&quot;CH4 (t)&quot;</td><td>&quot;PEC&quot;</td><td>4.64</td></tr><tr><td>2002</td><td>&quot;AC&quot;</td><td>&quot;Agropecuária&quot;</td><td>&quot;Fermentação Entérica&quot;</td><td>&quot;Diretas&quot;</td><td>&quot;Outros&quot;</td><td>&quot;Animal&quot;</td><td>&quot;Asinino&quot;</td><td>&quot;Emissão&quot;</td><td>&quot;CO2e (t) GTP-AR5&quot;</td><td>&quot;PEC&quot;</td><td>18.56</td></tr><tr><td>2002</td><td>&quot;AC&quot;</td><td>&quot;Agropecuária&quot;</td><td>&quot;Fermentação Entérica&quot;</td><td>&quot;Diretas&quot;</td><td>&quot;Outros&quot;</td><td>&quot;Animal&quot;</td><td>&quot;Asinino&quot;</td><td>&quot;Emissão&quot;</td><td>&quot;CO2e (t) GWP-AR5&quot;</td><td>&quot;PEC&quot;</td><td>129.92</td></tr></tbody></table></div>"
            ],
            "text/plain": [
              "shape: (5, 12)\n",
              "┌──────┬──────────┬─────────────┬─────────────┬───┬────────────┬────────────┬────────────┬─────────┐\n",
              "│ ano  ┆ sigla_uf ┆ nivel_1     ┆ nivel_2     ┆ … ┆ tipo_emiss ┆ gas        ┆ atividade_ ┆ emissao │\n",
              "│ ---  ┆ ---      ┆ ---         ┆ ---         ┆   ┆ ao         ┆ ---        ┆ economica  ┆ ---     │\n",
              "│ i64  ┆ str      ┆ str         ┆ str         ┆   ┆ ---        ┆ str        ┆ ---        ┆ f64     │\n",
              "│      ┆          ┆             ┆             ┆   ┆ str        ┆            ┆ str        ┆         │\n",
              "╞══════╪══════════╪═════════════╪═════════════╪═══╪════════════╪════════════╪════════════╪═════════╡\n",
              "│ 2002 ┆ AC       ┆ Agropecuári ┆ Cultivo do  ┆ … ┆ Emissão    ┆ CH4 (t)    ┆ AGR        ┆ 0.0     │\n",
              "│      ┆          ┆ a           ┆ Arroz       ┆   ┆            ┆            ┆            ┆         │\n",
              "│ 2002 ┆ AC       ┆ Agropecuári ┆ Cultivo do  ┆ … ┆ Emissão    ┆ CO2e (t)   ┆ AGR        ┆ 0.0     │\n",
              "│      ┆          ┆ a           ┆ Arroz       ┆   ┆            ┆ GWP-AR5    ┆            ┆         │\n",
              "│ 2002 ┆ AC       ┆ Agropecuári ┆ Fermentação ┆ … ┆ Emissão    ┆ CH4 (t)    ┆ PEC        ┆ 4.64    │\n",
              "│      ┆          ┆ a           ┆ Entérica    ┆   ┆            ┆            ┆            ┆         │\n",
              "│ 2002 ┆ AC       ┆ Agropecuári ┆ Fermentação ┆ … ┆ Emissão    ┆ CO2e (t)   ┆ PEC        ┆ 18.56   │\n",
              "│      ┆          ┆ a           ┆ Entérica    ┆   ┆            ┆ GTP-AR5    ┆            ┆         │\n",
              "│ 2002 ┆ AC       ┆ Agropecuári ┆ Fermentação ┆ … ┆ Emissão    ┆ CO2e (t)   ┆ PEC        ┆ 129.92  │\n",
              "│      ┆          ┆ a           ┆ Entérica    ┆   ┆            ┆ GWP-AR5    ┆            ┆         │\n",
              "└──────┴──────────┴─────────────┴─────────────┴───┴────────────┴────────────┴────────────┴─────────┘"
            ]
          },
          "execution_count": 5,
          "metadata": {},
          "output_type": "execute_result"
        }
      ],
      "source": [
        "# Mostra as primeiras 5 linhas do DataFrame\n",
        "df.head()"
      ]
    },
    {
      "cell_type": "markdown",
      "metadata": {
        "id": "HquC7Iylejb4"
      },
      "source": [
        "<font size=4>[`polars.DataFrame.head`](https://docs.pola.rs/api/python/stable/reference/dataframe/api/polars.DataFrame.head.html)</font><br>\n",
        "\n",
        "| Nome   | Descrição   | Tipo |\n",
        "|-------|-----------|------------|\n",
        "| ano | Ano                            | INT64            |\n",
        "| sigla_uf    | Sigla da Unidade da Federação | STRING           |\n",
        "| nivel_1    | Nível 1 - Setor               | STRING           |\n",
        "| nivel_2     | Nível 2 - Processo Emissor    | STRING           |\n",
        "| nivel_3      | Nível 3 - Forma de Emissão    | STRING           |\n",
        "| nivel_4      | Nível 4 - Processo Específico | STRING           |\n",
        "| nivel_5       | Nível 5 - Tipo de Atividade   | STRING           |\n",
        "| nivel_6      | Nível 6 - Atividade Específica| STRING           |\n",
        "| tipo_emissao   | Tipo de Emissão               | STRING           |\n",
        "| gas          | Gás                           | STRING           |\n",
        "| atividade_economica  | Atividade Econômica    | STRING     |\n",
        "| emissao    | Emissão                       | FLOAT64          |"
      ]
    },
    {
      "cell_type": "code",
      "execution_count": null,
      "metadata": {
        "colab": {
          "base_uri": "https://localhost:8080/",
          "height": 380
        },
        "id": "4A29CiPYhqE3",
        "outputId": "af621bc3-2465-4d17-90bb-b07bb8cdcf2b"
      },
      "outputs": [
        {
          "data": {
            "text/html": [
              "<div><style>\n",
              ".dataframe > thead > tr,\n",
              ".dataframe > tbody > tr {\n",
              "  text-align: right;\n",
              "  white-space: pre-wrap;\n",
              "}\n",
              "</style>\n",
              "<small>shape: (9, 3)</small><table border=\"1\" class=\"dataframe\"><thead><tr><th>statistic</th><th>ano</th><th>emissao</th></tr><tr><td>str</td><td>f64</td><td>f64</td></tr></thead><tbody><tr><td>&quot;count&quot;</td><td>2.704488e6</td><td>2.704488e6</td></tr><tr><td>&quot;null_count&quot;</td><td>0.0</td><td>0.0</td></tr><tr><td>&quot;mean&quot;</td><td>1996.258816</td><td>77818.816136</td></tr><tr><td>&quot;std&quot;</td><td>14.117135</td><td>4.1103e6</td></tr><tr><td>&quot;min&quot;</td><td>1970.0</td><td>-1.3280e8</td></tr><tr><td>&quot;25%&quot;</td><td>1985.0</td><td>0.0</td></tr><tr><td>&quot;50%&quot;</td><td>1997.0</td><td>0.012387</td></tr><tr><td>&quot;75%&quot;</td><td>2008.0</td><td>822.36085</td></tr><tr><td>&quot;max&quot;</td><td>2019.0</td><td>5.156e8</td></tr></tbody></table></div>"
            ],
            "text/plain": [
              "shape: (9, 3)\n",
              "┌────────────┬─────────────┬──────────────┐\n",
              "│ statistic  ┆ ano         ┆ emissao      │\n",
              "│ ---        ┆ ---         ┆ ---          │\n",
              "│ str        ┆ f64         ┆ f64          │\n",
              "╞════════════╪═════════════╪══════════════╡\n",
              "│ count      ┆ 2.704488e6  ┆ 2.704488e6   │\n",
              "│ null_count ┆ 0.0         ┆ 0.0          │\n",
              "│ mean       ┆ 1996.258816 ┆ 77818.816136 │\n",
              "│ std        ┆ 14.117135   ┆ 4.1103e6     │\n",
              "│ min        ┆ 1970.0      ┆ -1.3280e8    │\n",
              "│ 25%        ┆ 1985.0      ┆ 0.0          │\n",
              "│ 50%        ┆ 1997.0      ┆ 0.012387     │\n",
              "│ 75%        ┆ 2008.0      ┆ 822.36085    │\n",
              "│ max        ┆ 2019.0      ┆ 5.156e8      │\n",
              "└────────────┴─────────────┴──────────────┘"
            ]
          },
          "execution_count": 6,
          "metadata": {},
          "output_type": "execute_result"
        }
      ],
      "source": [
        "# Seleciona apenas as colunas 'ano' e 'emissao' e mostra estatísticas descritivas\n",
        "df.select(['ano','emissao']).describe()"
      ]
    },
    {
      "cell_type": "markdown",
      "metadata": {
        "id": "_3K9NDyXN_9I"
      },
      "source": [
        "<font size=4>[`polars.DataFrame.describe`](https://docs.pola.rs/api/python/stable/reference/dataframe/api/polars.DataFrame.describe.html), [`polars.DataFrame.select`](https://docs.pola.rs/api/python/stable/reference/dataframe/api/polars.DataFrame.select.html)</font><br>\n",
        "\n",
        "\n",
        "\n",
        "O conceito de carbono negativo seria remover mais do que se emite. Por exemplo, se determinada companhia emite 1 milhão de toneladas de CO2 na atmosfera, para que ela opere em modo carbono negativo, é preciso que ela retire ou retenha mais de 1 milhão de toneladas de CO2 da atmosfera, tornando assim sua emissão de carbono negativa.\n",
        "\n",
        "> <font size=2>[Fonte.](https://www.bureauveritas.com.br/en/node/4831)</font><br>"
      ]
    },
    {
      "cell_type": "code",
      "execution_count": null,
      "metadata": {
        "colab": {
          "base_uri": "https://localhost:8080/",
          "height": 914
        },
        "id": "qnieGfjyh-ic",
        "outputId": "a05f0150-ffc7-4bc7-bdc4-f7b8d2d0a5ba"
      },
      "outputs": [
        {
          "data": {
            "text/html": [
              "<div><style>\n",
              ".dataframe > thead > tr,\n",
              ".dataframe > tbody > tr {\n",
              "  text-align: right;\n",
              "  white-space: pre-wrap;\n",
              "}\n",
              "</style>\n",
              "<small>shape: (2_704_488, 12)</small><table border=\"1\" class=\"dataframe\"><thead><tr><th>ano</th><th>sigla_uf</th><th>nivel_1</th><th>nivel_2</th><th>nivel_3</th><th>nivel_4</th><th>nivel_5</th><th>nivel_6</th><th>tipo_emissao</th><th>gas</th><th>atividade_economica</th><th>emissao</th></tr><tr><td>i64</td><td>str</td><td>str</td><td>str</td><td>str</td><td>str</td><td>str</td><td>str</td><td>str</td><td>str</td><td>str</td><td>f64</td></tr></thead><tbody><tr><td>1970</td><td>&quot;AC&quot;</td><td>&quot;Agropecuária&quot;</td><td>&quot;Cultivo do Arroz&quot;</td><td>&quot;Diretas&quot;</td><td>&quot;Outros&quot;</td><td>&quot;Vegetal&quot;</td><td>&quot;Arroz&quot;</td><td>&quot;Emissão&quot;</td><td>&quot;CH4 (t)&quot;</td><td>&quot;AGR&quot;</td><td>0.0</td></tr><tr><td>1970</td><td>&quot;AC&quot;</td><td>&quot;Agropecuária&quot;</td><td>&quot;Cultivo do Arroz&quot;</td><td>&quot;Diretas&quot;</td><td>&quot;Outros&quot;</td><td>&quot;Vegetal&quot;</td><td>&quot;Arroz&quot;</td><td>&quot;Emissão&quot;</td><td>&quot;CO2e (t) GWP-AR5&quot;</td><td>&quot;AGR&quot;</td><td>0.0</td></tr><tr><td>1970</td><td>&quot;AC&quot;</td><td>&quot;Agropecuária&quot;</td><td>&quot;Fermentação Entérica&quot;</td><td>&quot;Diretas&quot;</td><td>&quot;Outros&quot;</td><td>&quot;Animal&quot;</td><td>&quot;Asinino&quot;</td><td>&quot;Emissão&quot;</td><td>&quot;CH4 (t)&quot;</td><td>&quot;PEC&quot;</td><td>2.23</td></tr><tr><td>1970</td><td>&quot;AC&quot;</td><td>&quot;Agropecuária&quot;</td><td>&quot;Fermentação Entérica&quot;</td><td>&quot;Diretas&quot;</td><td>&quot;Outros&quot;</td><td>&quot;Animal&quot;</td><td>&quot;Asinino&quot;</td><td>&quot;Emissão&quot;</td><td>&quot;CO2e (t) GTP-AR5&quot;</td><td>&quot;PEC&quot;</td><td>8.92</td></tr><tr><td>1970</td><td>&quot;AC&quot;</td><td>&quot;Agropecuária&quot;</td><td>&quot;Fermentação Entérica&quot;</td><td>&quot;Diretas&quot;</td><td>&quot;Outros&quot;</td><td>&quot;Animal&quot;</td><td>&quot;Asinino&quot;</td><td>&quot;Emissão&quot;</td><td>&quot;CO2e (t) GWP-AR5&quot;</td><td>&quot;PEC&quot;</td><td>62.44</td></tr><tr><td>&hellip;</td><td>&hellip;</td><td>&hellip;</td><td>&hellip;</td><td>&hellip;</td><td>&hellip;</td><td>&hellip;</td><td>&hellip;</td><td>&hellip;</td><td>&hellip;</td><td>&hellip;</td><td>&hellip;</td></tr><tr><td>2019</td><td>&quot;TO&quot;</td><td>&quot;Resíduos &quot;</td><td>&quot;Resíduos Sólidos&quot;</td><td>&quot;Tratamento Biológico de Resídu…</td><td>&quot;Resíduos Sólidos Urbanos&quot;</td><td>&quot;Compostagem&quot;</td><td>&quot;NÃO SE APLICA &quot;</td><td>&quot;Emissão&quot;</td><td>&quot;CO2e (t) GTP-AR5&quot;</td><td>&quot;SANEAMENTO&quot;</td><td>141.55963</td></tr><tr><td>2019</td><td>&quot;TO&quot;</td><td>&quot;Resíduos &quot;</td><td>&quot;Resíduos Sólidos&quot;</td><td>&quot;Tratamento Biológico de Resídu…</td><td>&quot;Resíduos Sólidos Urbanos&quot;</td><td>&quot;Compostagem&quot;</td><td>&quot;NÃO SE APLICA &quot;</td><td>&quot;Emissão&quot;</td><td>&quot;CO2e (t) GWP-AR2&quot;</td><td>&quot;SANEAMENTO&quot;</td><td>310.74065</td></tr><tr><td>2019</td><td>&quot;TO&quot;</td><td>&quot;Resíduos &quot;</td><td>&quot;Resíduos Sólidos&quot;</td><td>&quot;Tratamento Biológico de Resídu…</td><td>&quot;Resíduos Sólidos Urbanos&quot;</td><td>&quot;Compostagem&quot;</td><td>&quot;NÃO SE APLICA &quot;</td><td>&quot;Emissão&quot;</td><td>&quot;CO2e (t) GWP-AR4&quot;</td><td>&quot;SANEAMENTO&quot;</td><td>336.47876</td></tr><tr><td>2019</td><td>&quot;TO&quot;</td><td>&quot;Resíduos &quot;</td><td>&quot;Resíduos Sólidos&quot;</td><td>&quot;Tratamento Biológico de Resídu…</td><td>&quot;Resíduos Sólidos Urbanos&quot;</td><td>&quot;Compostagem&quot;</td><td>&quot;NÃO SE APLICA &quot;</td><td>&quot;Emissão&quot;</td><td>&quot;CO2e (t) GWP-AR5&quot;</td><td>&quot;SANEAMENTO&quot;</td><td>344.48269</td></tr><tr><td>2019</td><td>&quot;TO&quot;</td><td>&quot;Resíduos &quot;</td><td>&quot;Resíduos Sólidos&quot;</td><td>&quot;Tratamento Biológico de Resídu…</td><td>&quot;Resíduos Sólidos Urbanos&quot;</td><td>&quot;Compostagem&quot;</td><td>&quot;NÃO SE APLICA &quot;</td><td>&quot;Emissão&quot;</td><td>&quot;N2O (t)&quot;</td><td>&quot;SANEAMENTO&quot;</td><td>0.470819</td></tr></tbody></table></div>"
            ],
            "text/plain": [
              "shape: (2_704_488, 12)\n",
              "┌──────┬──────────┬────────────┬────────────┬───┬────────────┬────────────┬────────────┬───────────┐\n",
              "│ ano  ┆ sigla_uf ┆ nivel_1    ┆ nivel_2    ┆ … ┆ tipo_emiss ┆ gas        ┆ atividade_ ┆ emissao   │\n",
              "│ ---  ┆ ---      ┆ ---        ┆ ---        ┆   ┆ ao         ┆ ---        ┆ economica  ┆ ---       │\n",
              "│ i64  ┆ str      ┆ str        ┆ str        ┆   ┆ ---        ┆ str        ┆ ---        ┆ f64       │\n",
              "│      ┆          ┆            ┆            ┆   ┆ str        ┆            ┆ str        ┆           │\n",
              "╞══════╪══════════╪════════════╪════════════╪═══╪════════════╪════════════╪════════════╪═══════════╡\n",
              "│ 1970 ┆ AC       ┆ Agropecuár ┆ Cultivo do ┆ … ┆ Emissão    ┆ CH4 (t)    ┆ AGR        ┆ 0.0       │\n",
              "│      ┆          ┆ ia         ┆ Arroz      ┆   ┆            ┆            ┆            ┆           │\n",
              "│ 1970 ┆ AC       ┆ Agropecuár ┆ Cultivo do ┆ … ┆ Emissão    ┆ CO2e (t)   ┆ AGR        ┆ 0.0       │\n",
              "│      ┆          ┆ ia         ┆ Arroz      ┆   ┆            ┆ GWP-AR5    ┆            ┆           │\n",
              "│ 1970 ┆ AC       ┆ Agropecuár ┆ Fermentaçã ┆ … ┆ Emissão    ┆ CH4 (t)    ┆ PEC        ┆ 2.23      │\n",
              "│      ┆          ┆ ia         ┆ o Entérica ┆   ┆            ┆            ┆            ┆           │\n",
              "│ 1970 ┆ AC       ┆ Agropecuár ┆ Fermentaçã ┆ … ┆ Emissão    ┆ CO2e (t)   ┆ PEC        ┆ 8.92      │\n",
              "│      ┆          ┆ ia         ┆ o Entérica ┆   ┆            ┆ GTP-AR5    ┆            ┆           │\n",
              "│ 1970 ┆ AC       ┆ Agropecuár ┆ Fermentaçã ┆ … ┆ Emissão    ┆ CO2e (t)   ┆ PEC        ┆ 62.44     │\n",
              "│      ┆          ┆ ia         ┆ o Entérica ┆   ┆            ┆ GWP-AR5    ┆            ┆           │\n",
              "│ …    ┆ …        ┆ …          ┆ …          ┆ … ┆ …          ┆ …          ┆ …          ┆ …         │\n",
              "│ 2019 ┆ TO       ┆ Resíduos   ┆ Resíduos   ┆ … ┆ Emissão    ┆ CO2e (t)   ┆ SANEAMENTO ┆ 141.55963 │\n",
              "│      ┆          ┆            ┆ Sólidos    ┆   ┆            ┆ GTP-AR5    ┆            ┆           │\n",
              "│ 2019 ┆ TO       ┆ Resíduos   ┆ Resíduos   ┆ … ┆ Emissão    ┆ CO2e (t)   ┆ SANEAMENTO ┆ 310.74065 │\n",
              "│      ┆          ┆            ┆ Sólidos    ┆   ┆            ┆ GWP-AR2    ┆            ┆           │\n",
              "│ 2019 ┆ TO       ┆ Resíduos   ┆ Resíduos   ┆ … ┆ Emissão    ┆ CO2e (t)   ┆ SANEAMENTO ┆ 336.47876 │\n",
              "│      ┆          ┆            ┆ Sólidos    ┆   ┆            ┆ GWP-AR4    ┆            ┆           │\n",
              "│ 2019 ┆ TO       ┆ Resíduos   ┆ Resíduos   ┆ … ┆ Emissão    ┆ CO2e (t)   ┆ SANEAMENTO ┆ 344.48269 │\n",
              "│      ┆          ┆            ┆ Sólidos    ┆   ┆            ┆ GWP-AR5    ┆            ┆           │\n",
              "│ 2019 ┆ TO       ┆ Resíduos   ┆ Resíduos   ┆ … ┆ Emissão    ┆ N2O (t)    ┆ SANEAMENTO ┆ 0.470819  │\n",
              "│      ┆          ┆            ┆ Sólidos    ┆   ┆            ┆            ┆            ┆           │\n",
              "└──────┴──────────┴────────────┴────────────┴───┴────────────┴────────────┴────────────┴───────────┘"
            ]
          },
          "execution_count": 7,
          "metadata": {},
          "output_type": "execute_result"
        }
      ],
      "source": [
        "# Ordenando o DataFrame pelo ano\n",
        "df = df.sort('ano')\n",
        "df"
      ]
    },
    {
      "cell_type": "markdown",
      "metadata": {
        "id": "LZdi06i2h-ES"
      },
      "source": [
        "<font size=4>[`polars.DataFrame.sort`](https://docs.pola.rs/api/python/stable/reference/dataframe/api/polars.DataFrame.sort.html)</font><br>"
      ]
    },
    {
      "cell_type": "markdown",
      "metadata": {
        "id": "CZUsVW4Ni1GE"
      },
      "source": [
        "## Remoção de GEE"
      ]
    },
    {
      "cell_type": "markdown",
      "metadata": {
        "id": "OsHFnb40RBfd"
      },
      "source": [
        "> Nossa equipe precisa identificar dados de remoção ou compensação de gases de efeito estufa (GEE) no Brasil entre os anos de 2014 e 2019. Essas informações podem ser úteis para avaliar se, além das emissões ativas, existem iniciativas ou processos naturais significativos que estejam reduzindo ou compensando as emissões de CO₂ e outros gases nocivos nesse período. Historicamente, alguns setores ou regiões podem apresentar números expressivos de remoção (por exemplo, áreas que sofrem reflorestamento ou grandes reservas naturais que absorvem carbono). A análise pode ajudar os tomadores de decisão a entender se as remoções/compensações estão crescendo ou diminuindo ao longo dos anos.\n",
        "\n",
        "<font size=2>[Fonte.](https://www.wribrasil.org.br/noticias/estes-40-casos-mostram-como-o-reflorestamento-com-nativas-traz-retorno-economico-e)</font><br>"
      ]
    },
    {
      "cell_type": "code",
      "execution_count": null,
      "metadata": {
        "colab": {
          "base_uri": "https://localhost:8080/",
          "height": 983
        },
        "id": "liSzeBD9iTSd",
        "outputId": "b5a67d36-94f1-45b9-ba2d-c3d588734f98"
      },
      "outputs": [
        {
          "data": {
            "text/html": [
              "<div><style>\n",
              ".dataframe > thead > tr,\n",
              ".dataframe > tbody > tr {\n",
              "  text-align: right;\n",
              "  white-space: pre-wrap;\n",
              "}\n",
              "</style>\n",
              "<small>shape: (204_260, 12)</small><table border=\"1\" class=\"dataframe\"><thead><tr><th>ano</th><th>sigla_uf</th><th>nivel_1</th><th>nivel_2</th><th>nivel_3</th><th>nivel_4</th><th>nivel_5</th><th>nivel_6</th><th>tipo_emissao</th><th>gas</th><th>atividade_economica</th><th>emissao</th></tr><tr><td>i64</td><td>str</td><td>str</td><td>str</td><td>str</td><td>str</td><td>str</td><td>str</td><td>str</td><td>str</td><td>str</td><td>f64</td></tr></thead><tbody><tr><td>1970</td><td>&quot;AC&quot;</td><td>&quot;Mudança de Uso da Terra e Flor…</td><td>&quot;Remoção em Áreas Protegidas&quot;</td><td>&quot;Amazônia&quot;</td><td>&quot;em Área Protegida&quot;</td><td>&quot;NÃO SE APLICA&quot;</td><td>&quot;NÃO SE APLICA&quot;</td><td>&quot;Remoção proxy&quot;</td><td>&quot;CO2 (t)&quot;</td><td>&quot;Conservação&quot;</td><td>0.0</td></tr><tr><td>1970</td><td>&quot;AC&quot;</td><td>&quot;Mudança de Uso da Terra e Flor…</td><td>&quot;Remoção em Áreas Protegidas&quot;</td><td>&quot;Amazônia&quot;</td><td>&quot;em Área Protegida&quot;</td><td>&quot;NÃO SE APLICA&quot;</td><td>&quot;NÃO SE APLICA&quot;</td><td>&quot;Remoção proxy&quot;</td><td>&quot;CO2e (t) GTP-AR2&quot;</td><td>&quot;Conservação&quot;</td><td>0.0</td></tr><tr><td>1970</td><td>&quot;AC&quot;</td><td>&quot;Mudança de Uso da Terra e Flor…</td><td>&quot;Remoção em Áreas Protegidas&quot;</td><td>&quot;Amazônia&quot;</td><td>&quot;em Área Protegida&quot;</td><td>&quot;NÃO SE APLICA&quot;</td><td>&quot;NÃO SE APLICA&quot;</td><td>&quot;Remoção proxy&quot;</td><td>&quot;CO2e (t) GTP-AR4&quot;</td><td>&quot;Conservação&quot;</td><td>0.0</td></tr><tr><td>1970</td><td>&quot;AC&quot;</td><td>&quot;Mudança de Uso da Terra e Flor…</td><td>&quot;Remoção em Áreas Protegidas&quot;</td><td>&quot;Amazônia&quot;</td><td>&quot;em Área Protegida&quot;</td><td>&quot;NÃO SE APLICA&quot;</td><td>&quot;NÃO SE APLICA&quot;</td><td>&quot;Remoção proxy&quot;</td><td>&quot;CO2e (t) GTP-AR5&quot;</td><td>&quot;Conservação&quot;</td><td>0.0</td></tr><tr><td>1970</td><td>&quot;AC&quot;</td><td>&quot;Mudança de Uso da Terra e Flor…</td><td>&quot;Remoção em Áreas Protegidas&quot;</td><td>&quot;Amazônia&quot;</td><td>&quot;em Área Protegida&quot;</td><td>&quot;NÃO SE APLICA&quot;</td><td>&quot;NÃO SE APLICA&quot;</td><td>&quot;Remoção proxy&quot;</td><td>&quot;CO2e (t) GWP-AR2&quot;</td><td>&quot;Conservação&quot;</td><td>0.0</td></tr><tr><td>&hellip;</td><td>&hellip;</td><td>&hellip;</td><td>&hellip;</td><td>&hellip;</td><td>&hellip;</td><td>&hellip;</td><td>&hellip;</td><td>&hellip;</td><td>&hellip;</td><td>&hellip;</td><td>&hellip;</td></tr><tr><td>2019</td><td>&quot;TO&quot;</td><td>&quot;Mudança de Uso da Terra e Flor…</td><td>&quot;Remoção por Vegetação Secundár…</td><td>&quot;Cerrado&quot;</td><td>&quot;fora de Área Protegida&quot;</td><td>&quot;Vegetação nativa estável&quot;</td><td>&quot;Vegetação não florestal secund…</td><td>&quot;Remoção&quot;</td><td>&quot;CO2e (t) GTP-AR4&quot;</td><td>&quot;AGROPEC&quot;</td><td>-216258.0</td></tr><tr><td>2019</td><td>&quot;TO&quot;</td><td>&quot;Mudança de Uso da Terra e Flor…</td><td>&quot;Remoção por Vegetação Secundár…</td><td>&quot;Cerrado&quot;</td><td>&quot;fora de Área Protegida&quot;</td><td>&quot;Vegetação nativa estável&quot;</td><td>&quot;Vegetação não florestal secund…</td><td>&quot;Remoção&quot;</td><td>&quot;CO2e (t) GTP-AR5&quot;</td><td>&quot;AGROPEC&quot;</td><td>-216258.0</td></tr><tr><td>2019</td><td>&quot;TO&quot;</td><td>&quot;Mudança de Uso da Terra e Flor…</td><td>&quot;Remoção por Vegetação Secundár…</td><td>&quot;Cerrado&quot;</td><td>&quot;fora de Área Protegida&quot;</td><td>&quot;Vegetação nativa estável&quot;</td><td>&quot;Vegetação não florestal secund…</td><td>&quot;Remoção&quot;</td><td>&quot;CO2e (t) GWP-AR2&quot;</td><td>&quot;AGROPEC&quot;</td><td>-216258.0</td></tr><tr><td>2019</td><td>&quot;TO&quot;</td><td>&quot;Mudança de Uso da Terra e Flor…</td><td>&quot;Remoção por Vegetação Secundár…</td><td>&quot;Cerrado&quot;</td><td>&quot;fora de Área Protegida&quot;</td><td>&quot;Vegetação nativa estável&quot;</td><td>&quot;Vegetação não florestal secund…</td><td>&quot;Remoção&quot;</td><td>&quot;CO2e (t) GWP-AR4&quot;</td><td>&quot;AGROPEC&quot;</td><td>-216258.0</td></tr><tr><td>2019</td><td>&quot;TO&quot;</td><td>&quot;Mudança de Uso da Terra e Flor…</td><td>&quot;Remoção por Vegetação Secundár…</td><td>&quot;Cerrado&quot;</td><td>&quot;fora de Área Protegida&quot;</td><td>&quot;Vegetação nativa estável&quot;</td><td>&quot;Vegetação não florestal secund…</td><td>&quot;Remoção&quot;</td><td>&quot;CO2e (t) GWP-AR5&quot;</td><td>&quot;AGROPEC&quot;</td><td>-216258.0</td></tr></tbody></table></div>"
            ],
            "text/plain": [
              "shape: (204_260, 12)\n",
              "┌──────┬──────────┬────────────┬────────────┬───┬────────────┬────────────┬────────────┬───────────┐\n",
              "│ ano  ┆ sigla_uf ┆ nivel_1    ┆ nivel_2    ┆ … ┆ tipo_emiss ┆ gas        ┆ atividade_ ┆ emissao   │\n",
              "│ ---  ┆ ---      ┆ ---        ┆ ---        ┆   ┆ ao         ┆ ---        ┆ economica  ┆ ---       │\n",
              "│ i64  ┆ str      ┆ str        ┆ str        ┆   ┆ ---        ┆ str        ┆ ---        ┆ f64       │\n",
              "│      ┆          ┆            ┆            ┆   ┆ str        ┆            ┆ str        ┆           │\n",
              "╞══════╪══════════╪════════════╪════════════╪═══╪════════════╪════════════╪════════════╪═══════════╡\n",
              "│ 1970 ┆ AC       ┆ Mudança de ┆ Remoção em ┆ … ┆ Remoção    ┆ CO2 (t)    ┆ Conservaçã ┆ 0.0       │\n",
              "│      ┆          ┆ Uso da     ┆ Áreas      ┆   ┆ proxy      ┆            ┆ o          ┆           │\n",
              "│      ┆          ┆ Terra e    ┆ Protegidas ┆   ┆            ┆            ┆            ┆           │\n",
              "│      ┆          ┆ Flor…      ┆            ┆   ┆            ┆            ┆            ┆           │\n",
              "│ 1970 ┆ AC       ┆ Mudança de ┆ Remoção em ┆ … ┆ Remoção    ┆ CO2e (t)   ┆ Conservaçã ┆ 0.0       │\n",
              "│      ┆          ┆ Uso da     ┆ Áreas      ┆   ┆ proxy      ┆ GTP-AR2    ┆ o          ┆           │\n",
              "│      ┆          ┆ Terra e    ┆ Protegidas ┆   ┆            ┆            ┆            ┆           │\n",
              "│      ┆          ┆ Flor…      ┆            ┆   ┆            ┆            ┆            ┆           │\n",
              "│ 1970 ┆ AC       ┆ Mudança de ┆ Remoção em ┆ … ┆ Remoção    ┆ CO2e (t)   ┆ Conservaçã ┆ 0.0       │\n",
              "│      ┆          ┆ Uso da     ┆ Áreas      ┆   ┆ proxy      ┆ GTP-AR4    ┆ o          ┆           │\n",
              "│      ┆          ┆ Terra e    ┆ Protegidas ┆   ┆            ┆            ┆            ┆           │\n",
              "│      ┆          ┆ Flor…      ┆            ┆   ┆            ┆            ┆            ┆           │\n",
              "│ 1970 ┆ AC       ┆ Mudança de ┆ Remoção em ┆ … ┆ Remoção    ┆ CO2e (t)   ┆ Conservaçã ┆ 0.0       │\n",
              "│      ┆          ┆ Uso da     ┆ Áreas      ┆   ┆ proxy      ┆ GTP-AR5    ┆ o          ┆           │\n",
              "│      ┆          ┆ Terra e    ┆ Protegidas ┆   ┆            ┆            ┆            ┆           │\n",
              "│      ┆          ┆ Flor…      ┆            ┆   ┆            ┆            ┆            ┆           │\n",
              "│ 1970 ┆ AC       ┆ Mudança de ┆ Remoção em ┆ … ┆ Remoção    ┆ CO2e (t)   ┆ Conservaçã ┆ 0.0       │\n",
              "│      ┆          ┆ Uso da     ┆ Áreas      ┆   ┆ proxy      ┆ GWP-AR2    ┆ o          ┆           │\n",
              "│      ┆          ┆ Terra e    ┆ Protegidas ┆   ┆            ┆            ┆            ┆           │\n",
              "│      ┆          ┆ Flor…      ┆            ┆   ┆            ┆            ┆            ┆           │\n",
              "│ …    ┆ …        ┆ …          ┆ …          ┆ … ┆ …          ┆ …          ┆ …          ┆ …         │\n",
              "│ 2019 ┆ TO       ┆ Mudança de ┆ Remoção    ┆ … ┆ Remoção    ┆ CO2e (t)   ┆ AGROPEC    ┆ -216258.0 │\n",
              "│      ┆          ┆ Uso da     ┆ por        ┆   ┆            ┆ GTP-AR4    ┆            ┆           │\n",
              "│      ┆          ┆ Terra e    ┆ Vegetação  ┆   ┆            ┆            ┆            ┆           │\n",
              "│      ┆          ┆ Flor…      ┆ Secundár…  ┆   ┆            ┆            ┆            ┆           │\n",
              "│ 2019 ┆ TO       ┆ Mudança de ┆ Remoção    ┆ … ┆ Remoção    ┆ CO2e (t)   ┆ AGROPEC    ┆ -216258.0 │\n",
              "│      ┆          ┆ Uso da     ┆ por        ┆   ┆            ┆ GTP-AR5    ┆            ┆           │\n",
              "│      ┆          ┆ Terra e    ┆ Vegetação  ┆   ┆            ┆            ┆            ┆           │\n",
              "│      ┆          ┆ Flor…      ┆ Secundár…  ┆   ┆            ┆            ┆            ┆           │\n",
              "│ 2019 ┆ TO       ┆ Mudança de ┆ Remoção    ┆ … ┆ Remoção    ┆ CO2e (t)   ┆ AGROPEC    ┆ -216258.0 │\n",
              "│      ┆          ┆ Uso da     ┆ por        ┆   ┆            ┆ GWP-AR2    ┆            ┆           │\n",
              "│      ┆          ┆ Terra e    ┆ Vegetação  ┆   ┆            ┆            ┆            ┆           │\n",
              "│      ┆          ┆ Flor…      ┆ Secundár…  ┆   ┆            ┆            ┆            ┆           │\n",
              "│ 2019 ┆ TO       ┆ Mudança de ┆ Remoção    ┆ … ┆ Remoção    ┆ CO2e (t)   ┆ AGROPEC    ┆ -216258.0 │\n",
              "│      ┆          ┆ Uso da     ┆ por        ┆   ┆            ┆ GWP-AR4    ┆            ┆           │\n",
              "│      ┆          ┆ Terra e    ┆ Vegetação  ┆   ┆            ┆            ┆            ┆           │\n",
              "│      ┆          ┆ Flor…      ┆ Secundár…  ┆   ┆            ┆            ┆            ┆           │\n",
              "│ 2019 ┆ TO       ┆ Mudança de ┆ Remoção    ┆ … ┆ Remoção    ┆ CO2e (t)   ┆ AGROPEC    ┆ -216258.0 │\n",
              "│      ┆          ┆ Uso da     ┆ por        ┆   ┆            ┆ GWP-AR5    ┆            ┆           │\n",
              "│      ┆          ┆ Terra e    ┆ Vegetação  ┆   ┆            ┆            ┆            ┆           │\n",
              "│      ┆          ┆ Flor…      ┆ Secundár…  ┆   ┆            ┆            ┆            ┆           │\n",
              "└──────┴──────────┴────────────┴────────────┴───┴────────────┴────────────┴────────────┴───────────┘"
            ]
          },
          "execution_count": 8,
          "metadata": {},
          "output_type": "execute_result"
        }
      ],
      "source": [
        "# Filtrando dados que não correspondem a emissões (ex: remoções de GEE)\n",
        "df.filter(\n",
        "    df['tipo_emissao'] != 'Emissão'\n",
        ")"
      ]
    },
    {
      "cell_type": "markdown",
      "metadata": {
        "id": "CdKv92QGiTwp"
      },
      "source": [
        "<font size=4>[`polars.DataFrame.filter`](https://docs.pola.rs/api/python/stable/reference/dataframe/api/polars.DataFrame.filter.html)</font><br>"
      ]
    },
    {
      "cell_type": "code",
      "execution_count": null,
      "metadata": {
        "colab": {
          "base_uri": "https://localhost:8080/",
          "height": 914
        },
        "id": "3yKima3ei7zb",
        "outputId": "572e1bca-b845-43e5-c5fd-bb92bc780a96"
      },
      "outputs": [
        {
          "data": {
            "text/html": [
              "<div><style>\n",
              ".dataframe > thead > tr,\n",
              ".dataframe > tbody > tr {\n",
              "  text-align: right;\n",
              "  white-space: pre-wrap;\n",
              "}\n",
              "</style>\n",
              "<small>shape: (362_592, 12)</small><table border=\"1\" class=\"dataframe\"><thead><tr><th>ano</th><th>sigla_uf</th><th>nivel_1</th><th>nivel_2</th><th>nivel_3</th><th>nivel_4</th><th>nivel_5</th><th>nivel_6</th><th>tipo_emissao</th><th>gas</th><th>atividade_economica</th><th>emissao</th></tr><tr><td>i64</td><td>str</td><td>str</td><td>str</td><td>str</td><td>str</td><td>str</td><td>str</td><td>str</td><td>str</td><td>str</td><td>f64</td></tr></thead><tbody><tr><td>2014</td><td>&quot;AC&quot;</td><td>&quot;Agropecuária&quot;</td><td>&quot;Cultivo do Arroz&quot;</td><td>&quot;Diretas&quot;</td><td>&quot;Outros&quot;</td><td>&quot;Vegetal&quot;</td><td>&quot;Arroz&quot;</td><td>&quot;Emissão&quot;</td><td>&quot;CH4 (t)&quot;</td><td>&quot;AGR&quot;</td><td>0.0</td></tr><tr><td>2014</td><td>&quot;AC&quot;</td><td>&quot;Agropecuária&quot;</td><td>&quot;Cultivo do Arroz&quot;</td><td>&quot;Diretas&quot;</td><td>&quot;Outros&quot;</td><td>&quot;Vegetal&quot;</td><td>&quot;Arroz&quot;</td><td>&quot;Emissão&quot;</td><td>&quot;CO2e (t) GWP-AR5&quot;</td><td>&quot;AGR&quot;</td><td>0.0</td></tr><tr><td>2014</td><td>&quot;AC&quot;</td><td>&quot;Agropecuária&quot;</td><td>&quot;Fermentação Entérica&quot;</td><td>&quot;Diretas&quot;</td><td>&quot;Outros&quot;</td><td>&quot;Animal&quot;</td><td>&quot;Asinino&quot;</td><td>&quot;Emissão&quot;</td><td>&quot;CH4 (t)&quot;</td><td>&quot;PEC&quot;</td><td>8.22</td></tr><tr><td>2014</td><td>&quot;AC&quot;</td><td>&quot;Agropecuária&quot;</td><td>&quot;Fermentação Entérica&quot;</td><td>&quot;Diretas&quot;</td><td>&quot;Outros&quot;</td><td>&quot;Animal&quot;</td><td>&quot;Asinino&quot;</td><td>&quot;Emissão&quot;</td><td>&quot;CO2e (t) GTP-AR5&quot;</td><td>&quot;PEC&quot;</td><td>32.88</td></tr><tr><td>2014</td><td>&quot;AC&quot;</td><td>&quot;Agropecuária&quot;</td><td>&quot;Fermentação Entérica&quot;</td><td>&quot;Diretas&quot;</td><td>&quot;Outros&quot;</td><td>&quot;Animal&quot;</td><td>&quot;Asinino&quot;</td><td>&quot;Emissão&quot;</td><td>&quot;CO2e (t) GWP-AR5&quot;</td><td>&quot;PEC&quot;</td><td>230.16</td></tr><tr><td>&hellip;</td><td>&hellip;</td><td>&hellip;</td><td>&hellip;</td><td>&hellip;</td><td>&hellip;</td><td>&hellip;</td><td>&hellip;</td><td>&hellip;</td><td>&hellip;</td><td>&hellip;</td><td>&hellip;</td></tr><tr><td>2019</td><td>&quot;TO&quot;</td><td>&quot;Resíduos &quot;</td><td>&quot;Resíduos Sólidos&quot;</td><td>&quot;Tratamento Biológico de Resídu…</td><td>&quot;Resíduos Sólidos Urbanos&quot;</td><td>&quot;Compostagem&quot;</td><td>&quot;NÃO SE APLICA &quot;</td><td>&quot;Emissão&quot;</td><td>&quot;CO2e (t) GTP-AR5&quot;</td><td>&quot;SANEAMENTO&quot;</td><td>141.55963</td></tr><tr><td>2019</td><td>&quot;TO&quot;</td><td>&quot;Resíduos &quot;</td><td>&quot;Resíduos Sólidos&quot;</td><td>&quot;Tratamento Biológico de Resídu…</td><td>&quot;Resíduos Sólidos Urbanos&quot;</td><td>&quot;Compostagem&quot;</td><td>&quot;NÃO SE APLICA &quot;</td><td>&quot;Emissão&quot;</td><td>&quot;CO2e (t) GWP-AR2&quot;</td><td>&quot;SANEAMENTO&quot;</td><td>310.74065</td></tr><tr><td>2019</td><td>&quot;TO&quot;</td><td>&quot;Resíduos &quot;</td><td>&quot;Resíduos Sólidos&quot;</td><td>&quot;Tratamento Biológico de Resídu…</td><td>&quot;Resíduos Sólidos Urbanos&quot;</td><td>&quot;Compostagem&quot;</td><td>&quot;NÃO SE APLICA &quot;</td><td>&quot;Emissão&quot;</td><td>&quot;CO2e (t) GWP-AR4&quot;</td><td>&quot;SANEAMENTO&quot;</td><td>336.47876</td></tr><tr><td>2019</td><td>&quot;TO&quot;</td><td>&quot;Resíduos &quot;</td><td>&quot;Resíduos Sólidos&quot;</td><td>&quot;Tratamento Biológico de Resídu…</td><td>&quot;Resíduos Sólidos Urbanos&quot;</td><td>&quot;Compostagem&quot;</td><td>&quot;NÃO SE APLICA &quot;</td><td>&quot;Emissão&quot;</td><td>&quot;CO2e (t) GWP-AR5&quot;</td><td>&quot;SANEAMENTO&quot;</td><td>344.48269</td></tr><tr><td>2019</td><td>&quot;TO&quot;</td><td>&quot;Resíduos &quot;</td><td>&quot;Resíduos Sólidos&quot;</td><td>&quot;Tratamento Biológico de Resídu…</td><td>&quot;Resíduos Sólidos Urbanos&quot;</td><td>&quot;Compostagem&quot;</td><td>&quot;NÃO SE APLICA &quot;</td><td>&quot;Emissão&quot;</td><td>&quot;N2O (t)&quot;</td><td>&quot;SANEAMENTO&quot;</td><td>0.470819</td></tr></tbody></table></div>"
            ],
            "text/plain": [
              "shape: (362_592, 12)\n",
              "┌──────┬──────────┬────────────┬────────────┬───┬────────────┬────────────┬────────────┬───────────┐\n",
              "│ ano  ┆ sigla_uf ┆ nivel_1    ┆ nivel_2    ┆ … ┆ tipo_emiss ┆ gas        ┆ atividade_ ┆ emissao   │\n",
              "│ ---  ┆ ---      ┆ ---        ┆ ---        ┆   ┆ ao         ┆ ---        ┆ economica  ┆ ---       │\n",
              "│ i64  ┆ str      ┆ str        ┆ str        ┆   ┆ ---        ┆ str        ┆ ---        ┆ f64       │\n",
              "│      ┆          ┆            ┆            ┆   ┆ str        ┆            ┆ str        ┆           │\n",
              "╞══════╪══════════╪════════════╪════════════╪═══╪════════════╪════════════╪════════════╪═══════════╡\n",
              "│ 2014 ┆ AC       ┆ Agropecuár ┆ Cultivo do ┆ … ┆ Emissão    ┆ CH4 (t)    ┆ AGR        ┆ 0.0       │\n",
              "│      ┆          ┆ ia         ┆ Arroz      ┆   ┆            ┆            ┆            ┆           │\n",
              "│ 2014 ┆ AC       ┆ Agropecuár ┆ Cultivo do ┆ … ┆ Emissão    ┆ CO2e (t)   ┆ AGR        ┆ 0.0       │\n",
              "│      ┆          ┆ ia         ┆ Arroz      ┆   ┆            ┆ GWP-AR5    ┆            ┆           │\n",
              "│ 2014 ┆ AC       ┆ Agropecuár ┆ Fermentaçã ┆ … ┆ Emissão    ┆ CH4 (t)    ┆ PEC        ┆ 8.22      │\n",
              "│      ┆          ┆ ia         ┆ o Entérica ┆   ┆            ┆            ┆            ┆           │\n",
              "│ 2014 ┆ AC       ┆ Agropecuár ┆ Fermentaçã ┆ … ┆ Emissão    ┆ CO2e (t)   ┆ PEC        ┆ 32.88     │\n",
              "│      ┆          ┆ ia         ┆ o Entérica ┆   ┆            ┆ GTP-AR5    ┆            ┆           │\n",
              "│ 2014 ┆ AC       ┆ Agropecuár ┆ Fermentaçã ┆ … ┆ Emissão    ┆ CO2e (t)   ┆ PEC        ┆ 230.16    │\n",
              "│      ┆          ┆ ia         ┆ o Entérica ┆   ┆            ┆ GWP-AR5    ┆            ┆           │\n",
              "│ …    ┆ …        ┆ …          ┆ …          ┆ … ┆ …          ┆ …          ┆ …          ┆ …         │\n",
              "│ 2019 ┆ TO       ┆ Resíduos   ┆ Resíduos   ┆ … ┆ Emissão    ┆ CO2e (t)   ┆ SANEAMENTO ┆ 141.55963 │\n",
              "│      ┆          ┆            ┆ Sólidos    ┆   ┆            ┆ GTP-AR5    ┆            ┆           │\n",
              "│ 2019 ┆ TO       ┆ Resíduos   ┆ Resíduos   ┆ … ┆ Emissão    ┆ CO2e (t)   ┆ SANEAMENTO ┆ 310.74065 │\n",
              "│      ┆          ┆            ┆ Sólidos    ┆   ┆            ┆ GWP-AR2    ┆            ┆           │\n",
              "│ 2019 ┆ TO       ┆ Resíduos   ┆ Resíduos   ┆ … ┆ Emissão    ┆ CO2e (t)   ┆ SANEAMENTO ┆ 336.47876 │\n",
              "│      ┆          ┆            ┆ Sólidos    ┆   ┆            ┆ GWP-AR4    ┆            ┆           │\n",
              "│ 2019 ┆ TO       ┆ Resíduos   ┆ Resíduos   ┆ … ┆ Emissão    ┆ CO2e (t)   ┆ SANEAMENTO ┆ 344.48269 │\n",
              "│      ┆          ┆            ┆ Sólidos    ┆   ┆            ┆ GWP-AR5    ┆            ┆           │\n",
              "│ 2019 ┆ TO       ┆ Resíduos   ┆ Resíduos   ┆ … ┆ Emissão    ┆ N2O (t)    ┆ SANEAMENTO ┆ 0.470819  │\n",
              "│      ┆          ┆            ┆ Sólidos    ┆   ┆            ┆            ┆            ┆           │\n",
              "└──────┴──────────┴────────────┴────────────┴───┴────────────┴────────────┴────────────┴───────────┘"
            ]
          },
          "execution_count": 9,
          "metadata": {},
          "output_type": "execute_result"
        }
      ],
      "source": [
        "# Filtrando por intervalo de anos\n",
        "df.filter(\n",
        "    df['ano'].is_between(2014,2019)\n",
        ")"
      ]
    },
    {
      "cell_type": "markdown",
      "metadata": {
        "id": "d21xI2nhjDe2"
      },
      "source": [
        "<font size=4>[`polars.Expr.is_between`](https://docs.pola.rs/api/python/stable/reference/expressions/api/polars.Expr.is_between.html)</font><br>"
      ]
    },
    {
      "cell_type": "code",
      "execution_count": null,
      "metadata": {
        "colab": {
          "base_uri": "https://localhost:8080/",
          "height": 983
        },
        "id": "iB3i076gUu7v",
        "outputId": "f3279656-2185-4bae-d629-7402bc12650d"
      },
      "outputs": [
        {
          "data": {
            "text/html": [
              "<div><style>\n",
              ".dataframe > thead > tr,\n",
              ".dataframe > tbody > tr {\n",
              "  text-align: right;\n",
              "  white-space: pre-wrap;\n",
              "}\n",
              "</style>\n",
              "<small>shape: (38_052, 12)</small><table border=\"1\" class=\"dataframe\"><thead><tr><th>ano</th><th>sigla_uf</th><th>nivel_1</th><th>nivel_2</th><th>nivel_3</th><th>nivel_4</th><th>nivel_5</th><th>nivel_6</th><th>tipo_emissao</th><th>gas</th><th>atividade_economica</th><th>emissao</th></tr><tr><td>i64</td><td>str</td><td>str</td><td>str</td><td>str</td><td>str</td><td>str</td><td>str</td><td>str</td><td>str</td><td>str</td><td>f64</td></tr></thead><tbody><tr><td>2014</td><td>&quot;AC&quot;</td><td>&quot;Mudança de Uso da Terra e Flor…</td><td>&quot;Remoção em Áreas Protegidas&quot;</td><td>&quot;Amazônia&quot;</td><td>&quot;em Área Protegida&quot;</td><td>&quot;NÃO SE APLICA&quot;</td><td>&quot;NÃO SE APLICA&quot;</td><td>&quot;Remoção proxy&quot;</td><td>&quot;CO2 (t)&quot;</td><td>&quot;Conservação&quot;</td><td>-9.5785e6</td></tr><tr><td>2014</td><td>&quot;AC&quot;</td><td>&quot;Mudança de Uso da Terra e Flor…</td><td>&quot;Remoção em Áreas Protegidas&quot;</td><td>&quot;Amazônia&quot;</td><td>&quot;em Área Protegida&quot;</td><td>&quot;NÃO SE APLICA&quot;</td><td>&quot;NÃO SE APLICA&quot;</td><td>&quot;Remoção proxy&quot;</td><td>&quot;CO2e (t) GTP-AR2&quot;</td><td>&quot;Conservação&quot;</td><td>-9.5785e6</td></tr><tr><td>2014</td><td>&quot;AC&quot;</td><td>&quot;Mudança de Uso da Terra e Flor…</td><td>&quot;Remoção em Áreas Protegidas&quot;</td><td>&quot;Amazônia&quot;</td><td>&quot;em Área Protegida&quot;</td><td>&quot;NÃO SE APLICA&quot;</td><td>&quot;NÃO SE APLICA&quot;</td><td>&quot;Remoção proxy&quot;</td><td>&quot;CO2e (t) GTP-AR4&quot;</td><td>&quot;Conservação&quot;</td><td>-9.5785e6</td></tr><tr><td>2014</td><td>&quot;AC&quot;</td><td>&quot;Mudança de Uso da Terra e Flor…</td><td>&quot;Remoção em Áreas Protegidas&quot;</td><td>&quot;Amazônia&quot;</td><td>&quot;em Área Protegida&quot;</td><td>&quot;NÃO SE APLICA&quot;</td><td>&quot;NÃO SE APLICA&quot;</td><td>&quot;Remoção proxy&quot;</td><td>&quot;CO2e (t) GTP-AR5&quot;</td><td>&quot;Conservação&quot;</td><td>-9.5785e6</td></tr><tr><td>2014</td><td>&quot;AC&quot;</td><td>&quot;Mudança de Uso da Terra e Flor…</td><td>&quot;Remoção em Áreas Protegidas&quot;</td><td>&quot;Amazônia&quot;</td><td>&quot;em Área Protegida&quot;</td><td>&quot;NÃO SE APLICA&quot;</td><td>&quot;NÃO SE APLICA&quot;</td><td>&quot;Remoção proxy&quot;</td><td>&quot;CO2e (t) GWP-AR2&quot;</td><td>&quot;Conservação&quot;</td><td>-9.5785e6</td></tr><tr><td>&hellip;</td><td>&hellip;</td><td>&hellip;</td><td>&hellip;</td><td>&hellip;</td><td>&hellip;</td><td>&hellip;</td><td>&hellip;</td><td>&hellip;</td><td>&hellip;</td><td>&hellip;</td><td>&hellip;</td></tr><tr><td>2019</td><td>&quot;TO&quot;</td><td>&quot;Mudança de Uso da Terra e Flor…</td><td>&quot;Remoção por Vegetação Secundár…</td><td>&quot;Cerrado&quot;</td><td>&quot;fora de Área Protegida&quot;</td><td>&quot;Vegetação nativa estável&quot;</td><td>&quot;Vegetação não florestal secund…</td><td>&quot;Remoção&quot;</td><td>&quot;CO2e (t) GTP-AR4&quot;</td><td>&quot;AGROPEC&quot;</td><td>-216258.0</td></tr><tr><td>2019</td><td>&quot;TO&quot;</td><td>&quot;Mudança de Uso da Terra e Flor…</td><td>&quot;Remoção por Vegetação Secundár…</td><td>&quot;Cerrado&quot;</td><td>&quot;fora de Área Protegida&quot;</td><td>&quot;Vegetação nativa estável&quot;</td><td>&quot;Vegetação não florestal secund…</td><td>&quot;Remoção&quot;</td><td>&quot;CO2e (t) GTP-AR5&quot;</td><td>&quot;AGROPEC&quot;</td><td>-216258.0</td></tr><tr><td>2019</td><td>&quot;TO&quot;</td><td>&quot;Mudança de Uso da Terra e Flor…</td><td>&quot;Remoção por Vegetação Secundár…</td><td>&quot;Cerrado&quot;</td><td>&quot;fora de Área Protegida&quot;</td><td>&quot;Vegetação nativa estável&quot;</td><td>&quot;Vegetação não florestal secund…</td><td>&quot;Remoção&quot;</td><td>&quot;CO2e (t) GWP-AR2&quot;</td><td>&quot;AGROPEC&quot;</td><td>-216258.0</td></tr><tr><td>2019</td><td>&quot;TO&quot;</td><td>&quot;Mudança de Uso da Terra e Flor…</td><td>&quot;Remoção por Vegetação Secundár…</td><td>&quot;Cerrado&quot;</td><td>&quot;fora de Área Protegida&quot;</td><td>&quot;Vegetação nativa estável&quot;</td><td>&quot;Vegetação não florestal secund…</td><td>&quot;Remoção&quot;</td><td>&quot;CO2e (t) GWP-AR4&quot;</td><td>&quot;AGROPEC&quot;</td><td>-216258.0</td></tr><tr><td>2019</td><td>&quot;TO&quot;</td><td>&quot;Mudança de Uso da Terra e Flor…</td><td>&quot;Remoção por Vegetação Secundár…</td><td>&quot;Cerrado&quot;</td><td>&quot;fora de Área Protegida&quot;</td><td>&quot;Vegetação nativa estável&quot;</td><td>&quot;Vegetação não florestal secund…</td><td>&quot;Remoção&quot;</td><td>&quot;CO2e (t) GWP-AR5&quot;</td><td>&quot;AGROPEC&quot;</td><td>-216258.0</td></tr></tbody></table></div>"
            ],
            "text/plain": [
              "shape: (38_052, 12)\n",
              "┌──────┬──────────┬────────────┬────────────┬───┬────────────┬────────────┬────────────┬───────────┐\n",
              "│ ano  ┆ sigla_uf ┆ nivel_1    ┆ nivel_2    ┆ … ┆ tipo_emiss ┆ gas        ┆ atividade_ ┆ emissao   │\n",
              "│ ---  ┆ ---      ┆ ---        ┆ ---        ┆   ┆ ao         ┆ ---        ┆ economica  ┆ ---       │\n",
              "│ i64  ┆ str      ┆ str        ┆ str        ┆   ┆ ---        ┆ str        ┆ ---        ┆ f64       │\n",
              "│      ┆          ┆            ┆            ┆   ┆ str        ┆            ┆ str        ┆           │\n",
              "╞══════╪══════════╪════════════╪════════════╪═══╪════════════╪════════════╪════════════╪═══════════╡\n",
              "│ 2014 ┆ AC       ┆ Mudança de ┆ Remoção em ┆ … ┆ Remoção    ┆ CO2 (t)    ┆ Conservaçã ┆ -9.5785e6 │\n",
              "│      ┆          ┆ Uso da     ┆ Áreas      ┆   ┆ proxy      ┆            ┆ o          ┆           │\n",
              "│      ┆          ┆ Terra e    ┆ Protegidas ┆   ┆            ┆            ┆            ┆           │\n",
              "│      ┆          ┆ Flor…      ┆            ┆   ┆            ┆            ┆            ┆           │\n",
              "│ 2014 ┆ AC       ┆ Mudança de ┆ Remoção em ┆ … ┆ Remoção    ┆ CO2e (t)   ┆ Conservaçã ┆ -9.5785e6 │\n",
              "│      ┆          ┆ Uso da     ┆ Áreas      ┆   ┆ proxy      ┆ GTP-AR2    ┆ o          ┆           │\n",
              "│      ┆          ┆ Terra e    ┆ Protegidas ┆   ┆            ┆            ┆            ┆           │\n",
              "│      ┆          ┆ Flor…      ┆            ┆   ┆            ┆            ┆            ┆           │\n",
              "│ 2014 ┆ AC       ┆ Mudança de ┆ Remoção em ┆ … ┆ Remoção    ┆ CO2e (t)   ┆ Conservaçã ┆ -9.5785e6 │\n",
              "│      ┆          ┆ Uso da     ┆ Áreas      ┆   ┆ proxy      ┆ GTP-AR4    ┆ o          ┆           │\n",
              "│      ┆          ┆ Terra e    ┆ Protegidas ┆   ┆            ┆            ┆            ┆           │\n",
              "│      ┆          ┆ Flor…      ┆            ┆   ┆            ┆            ┆            ┆           │\n",
              "│ 2014 ┆ AC       ┆ Mudança de ┆ Remoção em ┆ … ┆ Remoção    ┆ CO2e (t)   ┆ Conservaçã ┆ -9.5785e6 │\n",
              "│      ┆          ┆ Uso da     ┆ Áreas      ┆   ┆ proxy      ┆ GTP-AR5    ┆ o          ┆           │\n",
              "│      ┆          ┆ Terra e    ┆ Protegidas ┆   ┆            ┆            ┆            ┆           │\n",
              "│      ┆          ┆ Flor…      ┆            ┆   ┆            ┆            ┆            ┆           │\n",
              "│ 2014 ┆ AC       ┆ Mudança de ┆ Remoção em ┆ … ┆ Remoção    ┆ CO2e (t)   ┆ Conservaçã ┆ -9.5785e6 │\n",
              "│      ┆          ┆ Uso da     ┆ Áreas      ┆   ┆ proxy      ┆ GWP-AR2    ┆ o          ┆           │\n",
              "│      ┆          ┆ Terra e    ┆ Protegidas ┆   ┆            ┆            ┆            ┆           │\n",
              "│      ┆          ┆ Flor…      ┆            ┆   ┆            ┆            ┆            ┆           │\n",
              "│ …    ┆ …        ┆ …          ┆ …          ┆ … ┆ …          ┆ …          ┆ …          ┆ …         │\n",
              "│ 2019 ┆ TO       ┆ Mudança de ┆ Remoção    ┆ … ┆ Remoção    ┆ CO2e (t)   ┆ AGROPEC    ┆ -216258.0 │\n",
              "│      ┆          ┆ Uso da     ┆ por        ┆   ┆            ┆ GTP-AR4    ┆            ┆           │\n",
              "│      ┆          ┆ Terra e    ┆ Vegetação  ┆   ┆            ┆            ┆            ┆           │\n",
              "│      ┆          ┆ Flor…      ┆ Secundár…  ┆   ┆            ┆            ┆            ┆           │\n",
              "│ 2019 ┆ TO       ┆ Mudança de ┆ Remoção    ┆ … ┆ Remoção    ┆ CO2e (t)   ┆ AGROPEC    ┆ -216258.0 │\n",
              "│      ┆          ┆ Uso da     ┆ por        ┆   ┆            ┆ GTP-AR5    ┆            ┆           │\n",
              "│      ┆          ┆ Terra e    ┆ Vegetação  ┆   ┆            ┆            ┆            ┆           │\n",
              "│      ┆          ┆ Flor…      ┆ Secundár…  ┆   ┆            ┆            ┆            ┆           │\n",
              "│ 2019 ┆ TO       ┆ Mudança de ┆ Remoção    ┆ … ┆ Remoção    ┆ CO2e (t)   ┆ AGROPEC    ┆ -216258.0 │\n",
              "│      ┆          ┆ Uso da     ┆ por        ┆   ┆            ┆ GWP-AR2    ┆            ┆           │\n",
              "│      ┆          ┆ Terra e    ┆ Vegetação  ┆   ┆            ┆            ┆            ┆           │\n",
              "│      ┆          ┆ Flor…      ┆ Secundár…  ┆   ┆            ┆            ┆            ┆           │\n",
              "│ 2019 ┆ TO       ┆ Mudança de ┆ Remoção    ┆ … ┆ Remoção    ┆ CO2e (t)   ┆ AGROPEC    ┆ -216258.0 │\n",
              "│      ┆          ┆ Uso da     ┆ por        ┆   ┆            ┆ GWP-AR4    ┆            ┆           │\n",
              "│      ┆          ┆ Terra e    ┆ Vegetação  ┆   ┆            ┆            ┆            ┆           │\n",
              "│      ┆          ┆ Flor…      ┆ Secundár…  ┆   ┆            ┆            ┆            ┆           │\n",
              "│ 2019 ┆ TO       ┆ Mudança de ┆ Remoção    ┆ … ┆ Remoção    ┆ CO2e (t)   ┆ AGROPEC    ┆ -216258.0 │\n",
              "│      ┆          ┆ Uso da     ┆ por        ┆   ┆            ┆ GWP-AR5    ┆            ┆           │\n",
              "│      ┆          ┆ Terra e    ┆ Vegetação  ┆   ┆            ┆            ┆            ┆           │\n",
              "│      ┆          ┆ Flor…      ┆ Secundár…  ┆   ┆            ┆            ┆            ┆           │\n",
              "└──────┴──────────┴────────────┴────────────┴───┴────────────┴────────────┴────────────┴───────────┘"
            ]
          },
          "execution_count": 10,
          "metadata": {},
          "output_type": "execute_result"
        }
      ],
      "source": [
        "# Combinando os filtros\n",
        "remocao_gases = df.filter(\n",
        "    df['tipo_emissao'] != 'Emissão',\n",
        "    df['ano'].is_between(2014,2019)\n",
        ")\n",
        "remocao_gases"
      ]
    },
    {
      "cell_type": "code",
      "execution_count": null,
      "metadata": {
        "id": "Snk-0Oiwi8kc"
      },
      "outputs": [],
      "source": [
        "# Salvando os dados de remoção em CSV\n",
        "remocao_gases.write_csv('GEE Brasil - Valores de remoção.csv')"
      ]
    },
    {
      "cell_type": "markdown",
      "metadata": {
        "id": "DTYb34YSidws"
      },
      "source": [
        "<font size=4>[`polars.DataFrame.write_csv`](https://docs.pola.rs/api/python/stable/reference/api/polars.DataFrame.write_csv.html)</font><br>"
      ]
    },
    {
      "cell_type": "markdown",
      "metadata": {
        "id": "39qo_XwZnb_k"
      },
      "source": [
        "## Separando dados por UF"
      ]
    },
    {
      "cell_type": "markdown",
      "metadata": {
        "id": "MtgZjdkOnEOU"
      },
      "source": [
        "> Outra informação que precisamos receber está associado aos valores de emissão de GEE nos anos de 2009 a 2019 no Pará. O Pará está localizado na região amazônica, historicamente impactada por desmatamento e mudanças no uso da terra, o que pode influenciar diretamente as emissões de gases de efeito estufa. Levar esses dados para a equipe vai permitir que análises sejam feitas para verificar se existe tendência de aumento ou redução e relacionar com potenciais políticas públicas de controle e manejo sustentável.\n",
        "\n",
        "<font size=2>[Fonte 1,](https://cnm.org.br/comunicacao/noticias/desmatamento-na-amaz%C3%B4nia-contribui-com-25-da-emiss%C3%A3o-de-gees) [Fonte 2.](https://energiaeambiente.org.br/oito-dos-dez-municipios-que-mais-emitem-gases-de-efeito-estufa-estao-na-amazonia-20220617)</font><br>"
      ]
    },
    {
      "cell_type": "code",
      "execution_count": null,
      "metadata": {
        "colab": {
          "base_uri": "https://localhost:8080/"
        },
        "id": "7fb0xXCqj0xa",
        "outputId": "ef8f9b46-930f-425b-ccea-0354f34361b3"
      },
      "outputs": [
        {
          "data": {
            "text/html": [
              "<div><style>\n",
              ".dataframe > thead > tr,\n",
              ".dataframe > tbody > tr {\n",
              "  text-align: right;\n",
              "  white-space: pre-wrap;\n",
              "}\n",
              "</style>\n",
              "<small>shape: (20_438, 12)</small><table border=\"1\" class=\"dataframe\"><thead><tr><th>ano</th><th>sigla_uf</th><th>nivel_1</th><th>nivel_2</th><th>nivel_3</th><th>nivel_4</th><th>nivel_5</th><th>nivel_6</th><th>tipo_emissao</th><th>gas</th><th>atividade_economica</th><th>emissao</th></tr><tr><td>i64</td><td>str</td><td>str</td><td>str</td><td>str</td><td>str</td><td>str</td><td>str</td><td>str</td><td>str</td><td>str</td><td>f64</td></tr></thead><tbody><tr><td>2009</td><td>&quot;PA&quot;</td><td>&quot;Agropecuária&quot;</td><td>&quot;Cultivo do Arroz&quot;</td><td>&quot;Diretas&quot;</td><td>&quot;Outros&quot;</td><td>&quot;Vegetal&quot;</td><td>&quot;Arroz&quot;</td><td>&quot;Emissão&quot;</td><td>&quot;CH4 (t)&quot;</td><td>&quot;AGR&quot;</td><td>0.0</td></tr><tr><td>2009</td><td>&quot;PA&quot;</td><td>&quot;Agropecuária&quot;</td><td>&quot;Cultivo do Arroz&quot;</td><td>&quot;Diretas&quot;</td><td>&quot;Outros&quot;</td><td>&quot;Vegetal&quot;</td><td>&quot;Arroz&quot;</td><td>&quot;Emissão&quot;</td><td>&quot;CO2e (t) GWP-AR5&quot;</td><td>&quot;AGR&quot;</td><td>0.0</td></tr><tr><td>2009</td><td>&quot;PA&quot;</td><td>&quot;Agropecuária&quot;</td><td>&quot;Fermentação Entérica&quot;</td><td>&quot;Diretas&quot;</td><td>&quot;Outros&quot;</td><td>&quot;Animal&quot;</td><td>&quot;Asinino&quot;</td><td>&quot;Emissão&quot;</td><td>&quot;CH4 (t)&quot;</td><td>&quot;PEC&quot;</td><td>209.98</td></tr><tr><td>2009</td><td>&quot;PA&quot;</td><td>&quot;Agropecuária&quot;</td><td>&quot;Fermentação Entérica&quot;</td><td>&quot;Diretas&quot;</td><td>&quot;Outros&quot;</td><td>&quot;Animal&quot;</td><td>&quot;Asinino&quot;</td><td>&quot;Emissão&quot;</td><td>&quot;CO2e (t) GTP-AR5&quot;</td><td>&quot;PEC&quot;</td><td>839.92</td></tr><tr><td>2009</td><td>&quot;PA&quot;</td><td>&quot;Agropecuária&quot;</td><td>&quot;Fermentação Entérica&quot;</td><td>&quot;Diretas&quot;</td><td>&quot;Outros&quot;</td><td>&quot;Animal&quot;</td><td>&quot;Asinino&quot;</td><td>&quot;Emissão&quot;</td><td>&quot;CO2e (t) GWP-AR5&quot;</td><td>&quot;PEC&quot;</td><td>5879.44</td></tr><tr><td>&hellip;</td><td>&hellip;</td><td>&hellip;</td><td>&hellip;</td><td>&hellip;</td><td>&hellip;</td><td>&hellip;</td><td>&hellip;</td><td>&hellip;</td><td>&hellip;</td><td>&hellip;</td><td>&hellip;</td></tr><tr><td>2019</td><td>&quot;PA&quot;</td><td>&quot;Resíduos &quot;</td><td>&quot;Resíduos Sólidos&quot;</td><td>&quot;Tratamento Biológico de Resídu…</td><td>&quot;Resíduos Sólidos Urbanos&quot;</td><td>&quot;Compostagem&quot;</td><td>&quot;NÃO SE APLICA &quot;</td><td>&quot;Emissão&quot;</td><td>&quot;CO2e (t) GTP-AR5&quot;</td><td>&quot;SANEAMENTO&quot;</td><td>768.63942</td></tr><tr><td>2019</td><td>&quot;PA&quot;</td><td>&quot;Resíduos &quot;</td><td>&quot;Resíduos Sólidos&quot;</td><td>&quot;Tratamento Biológico de Resídu…</td><td>&quot;Resíduos Sólidos Urbanos&quot;</td><td>&quot;Compostagem&quot;</td><td>&quot;NÃO SE APLICA &quot;</td><td>&quot;Emissão&quot;</td><td>&quot;CO2e (t) GWP-AR2&quot;</td><td>&quot;SANEAMENTO&quot;</td><td>1687.2573</td></tr><tr><td>2019</td><td>&quot;PA&quot;</td><td>&quot;Resíduos &quot;</td><td>&quot;Resíduos Sólidos&quot;</td><td>&quot;Tratamento Biológico de Resídu…</td><td>&quot;Resíduos Sólidos Urbanos&quot;</td><td>&quot;Compostagem&quot;</td><td>&quot;NÃO SE APLICA &quot;</td><td>&quot;Emissão&quot;</td><td>&quot;CO2e (t) GWP-AR4&quot;</td><td>&quot;SANEAMENTO&quot;</td><td>1827.0099</td></tr><tr><td>2019</td><td>&quot;PA&quot;</td><td>&quot;Resíduos &quot;</td><td>&quot;Resíduos Sólidos&quot;</td><td>&quot;Tratamento Biológico de Resídu…</td><td>&quot;Resíduos Sólidos Urbanos&quot;</td><td>&quot;Compostagem&quot;</td><td>&quot;NÃO SE APLICA &quot;</td><td>&quot;Emissão&quot;</td><td>&quot;CO2e (t) GWP-AR5&quot;</td><td>&quot;SANEAMENTO&quot;</td><td>1870.4695</td></tr><tr><td>2019</td><td>&quot;PA&quot;</td><td>&quot;Resíduos &quot;</td><td>&quot;Resíduos Sólidos&quot;</td><td>&quot;Tratamento Biológico de Resídu…</td><td>&quot;Resíduos Sólidos Urbanos&quot;</td><td>&quot;Compostagem&quot;</td><td>&quot;NÃO SE APLICA &quot;</td><td>&quot;Emissão&quot;</td><td>&quot;N2O (t)&quot;</td><td>&quot;SANEAMENTO&quot;</td><td>2.5564504</td></tr></tbody></table></div>"
            ],
            "text/plain": [
              "shape: (20_438, 12)\n",
              "┌──────┬──────────┬────────────┬────────────┬───┬────────────┬────────────┬────────────┬───────────┐\n",
              "│ ano  ┆ sigla_uf ┆ nivel_1    ┆ nivel_2    ┆ … ┆ tipo_emiss ┆ gas        ┆ atividade_ ┆ emissao   │\n",
              "│ ---  ┆ ---      ┆ ---        ┆ ---        ┆   ┆ ao         ┆ ---        ┆ economica  ┆ ---       │\n",
              "│ i64  ┆ str      ┆ str        ┆ str        ┆   ┆ ---        ┆ str        ┆ ---        ┆ f64       │\n",
              "│      ┆          ┆            ┆            ┆   ┆ str        ┆            ┆ str        ┆           │\n",
              "╞══════╪══════════╪════════════╪════════════╪═══╪════════════╪════════════╪════════════╪═══════════╡\n",
              "│ 2009 ┆ PA       ┆ Agropecuár ┆ Cultivo do ┆ … ┆ Emissão    ┆ CH4 (t)    ┆ AGR        ┆ 0.0       │\n",
              "│      ┆          ┆ ia         ┆ Arroz      ┆   ┆            ┆            ┆            ┆           │\n",
              "│ 2009 ┆ PA       ┆ Agropecuár ┆ Cultivo do ┆ … ┆ Emissão    ┆ CO2e (t)   ┆ AGR        ┆ 0.0       │\n",
              "│      ┆          ┆ ia         ┆ Arroz      ┆   ┆            ┆ GWP-AR5    ┆            ┆           │\n",
              "│ 2009 ┆ PA       ┆ Agropecuár ┆ Fermentaçã ┆ … ┆ Emissão    ┆ CH4 (t)    ┆ PEC        ┆ 209.98    │\n",
              "│      ┆          ┆ ia         ┆ o Entérica ┆   ┆            ┆            ┆            ┆           │\n",
              "│ 2009 ┆ PA       ┆ Agropecuár ┆ Fermentaçã ┆ … ┆ Emissão    ┆ CO2e (t)   ┆ PEC        ┆ 839.92    │\n",
              "│      ┆          ┆ ia         ┆ o Entérica ┆   ┆            ┆ GTP-AR5    ┆            ┆           │\n",
              "│ 2009 ┆ PA       ┆ Agropecuár ┆ Fermentaçã ┆ … ┆ Emissão    ┆ CO2e (t)   ┆ PEC        ┆ 5879.44   │\n",
              "│      ┆          ┆ ia         ┆ o Entérica ┆   ┆            ┆ GWP-AR5    ┆            ┆           │\n",
              "│ …    ┆ …        ┆ …          ┆ …          ┆ … ┆ …          ┆ …          ┆ …          ┆ …         │\n",
              "│ 2019 ┆ PA       ┆ Resíduos   ┆ Resíduos   ┆ … ┆ Emissão    ┆ CO2e (t)   ┆ SANEAMENTO ┆ 768.63942 │\n",
              "│      ┆          ┆            ┆ Sólidos    ┆   ┆            ┆ GTP-AR5    ┆            ┆           │\n",
              "│ 2019 ┆ PA       ┆ Resíduos   ┆ Resíduos   ┆ … ┆ Emissão    ┆ CO2e (t)   ┆ SANEAMENTO ┆ 1687.2573 │\n",
              "│      ┆          ┆            ┆ Sólidos    ┆   ┆            ┆ GWP-AR2    ┆            ┆           │\n",
              "│ 2019 ┆ PA       ┆ Resíduos   ┆ Resíduos   ┆ … ┆ Emissão    ┆ CO2e (t)   ┆ SANEAMENTO ┆ 1827.0099 │\n",
              "│      ┆          ┆            ┆ Sólidos    ┆   ┆            ┆ GWP-AR4    ┆            ┆           │\n",
              "│ 2019 ┆ PA       ┆ Resíduos   ┆ Resíduos   ┆ … ┆ Emissão    ┆ CO2e (t)   ┆ SANEAMENTO ┆ 1870.4695 │\n",
              "│      ┆          ┆            ┆ Sólidos    ┆   ┆            ┆ GWP-AR5    ┆            ┆           │\n",
              "│ 2019 ┆ PA       ┆ Resíduos   ┆ Resíduos   ┆ … ┆ Emissão    ┆ N2O (t)    ┆ SANEAMENTO ┆ 2.5564504 │\n",
              "│      ┆          ┆            ┆ Sólidos    ┆   ┆            ┆            ┆            ┆           │\n",
              "└──────┴──────────┴────────────┴────────────┴───┴────────────┴────────────┴────────────┴───────────┘"
            ]
          },
          "execution_count": 12,
          "metadata": {},
          "output_type": "execute_result"
        }
      ],
      "source": [
        "# Separando dados por Unidade Federativa (UF)\n",
        "dados_para = df.filter(\n",
        "    df['ano'].is_between(2009,2019),\n",
        "    df['tipo_emissao'] == 'Emissão',\n",
        "    df['sigla_uf'].is_in(['PA'])\n",
        ")\n",
        "dados_para"
      ]
    },
    {
      "cell_type": "markdown",
      "metadata": {
        "id": "JVTfjFtWj0_D"
      },
      "source": [
        "<font size=4>[`polars.Expr.is_in`](https://docs.pola.rs/api/python/stable/reference/expressions/api/polars.Expr.is_in.html)</font><br>"
      ]
    },
    {
      "cell_type": "code",
      "execution_count": null,
      "metadata": {
        "id": "r2s_PL2ij8Fh"
      },
      "outputs": [],
      "source": [
        "# Separando dados por Unidade Federativa (UF)\n",
        "dados_para.write_csv('GEE Brasil - PA 2009-2019.csv')"
      ]
    },
    {
      "cell_type": "markdown",
      "metadata": {
        "id": "b5I0cmI0JPkN"
      },
      "source": [
        "# Aula 2 - Selecionando valores GEE através de textos"
      ]
    },
    {
      "cell_type": "markdown",
      "metadata": {
        "id": "oZjj3vO8-RZE"
      },
      "source": [
        "## Encontrando as emissões de NOx"
      ]
    },
    {
      "cell_type": "code",
      "execution_count": null,
      "metadata": {
        "colab": {
          "base_uri": "https://localhost:8080/"
        },
        "id": "xtVQzGQulASn",
        "outputId": "b67e9449-49fe-4639-f346-4dc349f3b388"
      },
      "outputs": [
        {
          "data": {
            "text/plain": [
              "['CO2e (t) GTP-AR4',\n",
              " 'C2F6 (t)',\n",
              " 'CO2e (t) GWP-AR4',\n",
              " 'CO2e (t) GTP-AR5',\n",
              " 'COVNM (t)',\n",
              " 'CO2e (t) GTP-AR2',\n",
              " 'CF4 (t)',\n",
              " 'CO (t)',\n",
              " 'NOX (t)',\n",
              " 'N2O (t)',\n",
              " 'CH4 (t)',\n",
              " 'SF6 (t)',\n",
              " 'NOx (t)',\n",
              " 'CO2e (t) GWP-AR2',\n",
              " 'CO2 (t)',\n",
              " 'CO2e (t) GWP-AR5']"
            ]
          },
          "execution_count": 14,
          "metadata": {},
          "output_type": "execute_result"
        }
      ],
      "source": [
        "df['gas'].unique().to_list()"
      ]
    },
    {
      "cell_type": "markdown",
      "metadata": {
        "id": "UyTU2y5niffw"
      },
      "source": [
        "<font size=4>[`polars.Expr.unique`](https://docs.pola.rs/api/python/stable/reference/expressions/api/polars.Expr.unique.html), [`polars.Expr.arr.to_list`](https://docs.pola.rs/api/python/stable/reference/expressions/api/polars.Expr.arr.to_list.html)</font><br>"
      ]
    },
    {
      "cell_type": "markdown",
      "metadata": {
        "id": "wvu7dV7S6XEk"
      },
      "source": [
        "> Os óxidos de nitrogênio (NOx) compõe o GEE. No entanto, no conjunto de dados, há colunas separadas para “NOx” e “NOX” que, na prática, representam a mesma categoria, mas foram preenchidas de forma distinta. Nossa equipe deseja obter o valor total registrado de óxidos de nitrogênio no ano de 2019, buscando uma análise consistente das emissões.\n",
        "\n",
        "<font size=2>[Fonte.](https://www.em.com.br/app/noticia/internacional/2015/11/04/interna_internacional,704478/o-nox-um-contaminante-atmosferico-e-o-co2-um-gas-de-efeito-estufa.shtml)</font><br>\n"
      ]
    },
    {
      "cell_type": "code",
      "execution_count": null,
      "metadata": {
        "colab": {
          "base_uri": "https://localhost:8080/"
        },
        "id": "kUB5XiCwljtK",
        "outputId": "d922da34-4fc2-4fc7-ac0c-8d9e61dcef98"
      },
      "outputs": [
        {
          "data": {
            "text/html": [
              "<div><style>\n",
              ".dataframe > thead > tr,\n",
              ".dataframe > tbody > tr {\n",
              "  text-align: right;\n",
              "  white-space: pre-wrap;\n",
              "}\n",
              "</style>\n",
              "<small>shape: (2,)</small><table border=\"1\" class=\"dataframe\"><thead><tr><th>gas</th></tr><tr><td>str</td></tr></thead><tbody><tr><td>&quot;NOX (t)&quot;</td></tr><tr><td>&quot;NOx (t)&quot;</td></tr></tbody></table></div>"
            ],
            "text/plain": [
              "shape: (2,)\n",
              "Series: 'gas' [str]\n",
              "[\n",
              "\t\"NOX (t)\"\n",
              "\t\"NOx (t)\"\n",
              "]"
            ]
          },
          "execution_count": 15,
          "metadata": {},
          "output_type": "execute_result"
        }
      ],
      "source": [
        "df.filter(pl.col('gas').str.contains('NO'))['gas'].unique()"
      ]
    },
    {
      "cell_type": "markdown",
      "metadata": {
        "id": "3VcPK2xYiirR"
      },
      "source": [
        "<font size=4>[`polars.Expr.str.contains`](https://docs.pola.rs/api/python/stable/reference/expressions/api/polars.Expr.str.contains.html)</font><br>"
      ]
    },
    {
      "cell_type": "code",
      "execution_count": null,
      "metadata": {
        "colab": {
          "base_uri": "https://localhost:8080/"
        },
        "id": "e_89k-oElokF",
        "outputId": "6e0c9f42-2a0d-43ce-b9cc-172bca1b1c05"
      },
      "outputs": [
        {
          "name": "stdout",
          "output_type": "stream",
          "text": [
            "Total de emissões de NOx em 2019: 2168680.456225528\n"
          ]
        }
      ],
      "source": [
        "total_nox = (\n",
        "    df.filter(pl.col('gas').str.contains('NO'), df['ano'] == 2019)\n",
        "    .select(pl.col('emissao').sum())\n",
        "    .item()\n",
        ")\n",
        "print(f'Total de emissões de NOx em 2019: {total_nox}')"
      ]
    },
    {
      "cell_type": "markdown",
      "metadata": {
        "id": "VqUl3yacikXf"
      },
      "source": [
        "<font size=4> [`polars.Expr.sum`](https://docs.pola.rs/api/python/stable/reference/expressions/api/polars.Expr.sum.html), [`polars.DataFrame.item`](https://docs.pola.rs/api/python/stable/reference/dataframe/api/polars.DataFrame.item.html)</font><br>"
      ]
    },
    {
      "cell_type": "markdown",
      "metadata": {
        "id": "n4TFddiGfkoR"
      },
      "source": [
        "## Entendendo as emissões de NOx"
      ]
    },
    {
      "cell_type": "markdown",
      "metadata": {
        "id": "ut-k1Pit-Di-"
      },
      "source": [
        "> As emissões de óxidos de nitrogênio (NOx) estão associadas a diversas atividades industriais e de transporte. No entanto, para uma análise mais específica, nossa equipe deseja compreender quais formas de emissão dentro dessas categorias mais contribuem para as emissões. A separação por formas industriais, transportes e produção permitirá identificar padrões e subsidiar decisões voltadas para mitigação e controle de poluentes.\n",
        "\n",
        "<font size=2>[Fonte traduzida com Google Tradutor.](https://www-noxfondet-no.translate.goog/en/articles/what-is-nox/?_x_tr_sl=pt&_x_tr_tl=en&_x_tr_hl=pt-BR&_x_tr_pto=wapp)</font><br>\n"
      ]
    },
    {
      "cell_type": "code",
      "execution_count": null,
      "metadata": {
        "id": "z7cX_sOMmJcd"
      },
      "outputs": [],
      "source": [
        "df_nox = df.filter(pl.col('gas').str.contains('NO'))"
      ]
    },
    {
      "cell_type": "code",
      "execution_count": null,
      "metadata": {
        "colab": {
          "base_uri": "https://localhost:8080/"
        },
        "id": "nnBv-V9d1Y6H",
        "outputId": "3e334373-6685-414a-d345-7d8d555237a6"
      },
      "outputs": [
        {
          "data": {
            "text/html": [
              "<div><style>\n",
              ".dataframe > thead > tr,\n",
              ".dataframe > tbody > tr {\n",
              "  text-align: right;\n",
              "  white-space: pre-wrap;\n",
              "}\n",
              "</style>\n",
              "<small>shape: (13,)</small><table border=\"1\" class=\"dataframe\"><thead><tr><th>nivel_3</th></tr><tr><td>str</td></tr></thead><tbody><tr><td>&quot;Produção de Ferro Gusa e Aço&quot;</td></tr><tr><td>&quot;Agropecuário&quot;</td></tr><tr><td>&quot;Transportes&quot;</td></tr><tr><td>&quot;Produção de Ácido Adípico&quot;</td></tr><tr><td>&quot;Produção de Ácido Nítrico&quot;</td></tr><tr><td>&hellip;</td></tr><tr><td>&quot;Residencial&quot;</td></tr><tr><td>&quot;Comercial&quot;</td></tr><tr><td>&quot;Geração de Eletricidade (Servi…</td></tr><tr><td>&quot;Público&quot;</td></tr><tr><td>&quot;Industrial&quot;</td></tr></tbody></table></div>"
            ],
            "text/plain": [
              "shape: (13,)\n",
              "Series: 'nivel_3' [str]\n",
              "[\n",
              "\t\"Produção de Ferro Gusa e Aço\"\n",
              "\t\"Agropecuário\"\n",
              "\t\"Transportes\"\n",
              "\t\"Produção de Ácido Adípico\"\n",
              "\t\"Produção de Ácido Nítrico\"\n",
              "\t…\n",
              "\t\"Residencial\"\n",
              "\t\"Comercial\"\n",
              "\t\"Geração de Eletricidade (Servi…\n",
              "\t\"Público\"\n",
              "\t\"Industrial\"\n",
              "]"
            ]
          },
          "execution_count": 18,
          "metadata": {},
          "output_type": "execute_result"
        }
      ],
      "source": [
        "df_nox['nivel_3'].unique()"
      ]
    },
    {
      "cell_type": "code",
      "execution_count": null,
      "metadata": {
        "colab": {
          "base_uri": "https://localhost:8080/"
        },
        "id": "ozeVWI4g1bJJ",
        "outputId": "f4c95208-c144-4bff-adae-571d2a532bd1"
      },
      "outputs": [
        {
          "data": {
            "text/html": [
              "<div><style>\n",
              ".dataframe > thead > tr,\n",
              ".dataframe > tbody > tr {\n",
              "  text-align: right;\n",
              "  white-space: pre-wrap;\n",
              "}\n",
              "</style>\n",
              "<small>shape: (2,)</small><table border=\"1\" class=\"dataframe\"><thead><tr><th>nivel_3</th></tr><tr><td>str</td></tr></thead><tbody><tr><td>&quot;Transportes&quot;</td></tr><tr><td>&quot;Industrial&quot;</td></tr></tbody></table></div>"
            ],
            "text/plain": [
              "shape: (2,)\n",
              "Series: 'nivel_3' [str]\n",
              "[\n",
              "\t\"Transportes\"\n",
              "\t\"Industrial\"\n",
              "]"
            ]
          },
          "execution_count": 19,
          "metadata": {},
          "output_type": "execute_result"
        }
      ],
      "source": [
        "df_nox.filter(df_nox['nivel_3'].is_in(['Industrial', 'Transportes', 'Produção']))['nivel_3'].unique()"
      ]
    },
    {
      "cell_type": "code",
      "execution_count": null,
      "metadata": {
        "colab": {
          "base_uri": "https://localhost:8080/"
        },
        "id": "B7Fh-YpR1cIu",
        "outputId": "e126211b-9af7-427a-a838-bea7c56939e2"
      },
      "outputs": [
        {
          "data": {
            "text/html": [
              "<div><style>\n",
              ".dataframe > thead > tr,\n",
              ".dataframe > tbody > tr {\n",
              "  text-align: right;\n",
              "  white-space: pre-wrap;\n",
              "}\n",
              "</style>\n",
              "<small>shape: (7,)</small><table border=\"1\" class=\"dataframe\"><thead><tr><th>nivel_3</th></tr><tr><td>str</td></tr></thead><tbody><tr><td>&quot;Produção de Ferro Gusa e Aço&quot;</td></tr><tr><td>&quot;Transportes&quot;</td></tr><tr><td>&quot;Produção de Ácido Nítrico&quot;</td></tr><tr><td>&quot;Produção de Ferroligas&quot;</td></tr><tr><td>&quot;Industrial&quot;</td></tr><tr><td>&quot;Produção de Ácido Adípico&quot;</td></tr><tr><td>&quot;Produção de Combustíveis&quot;</td></tr></tbody></table></div>"
            ],
            "text/plain": [
              "shape: (7,)\n",
              "Series: 'nivel_3' [str]\n",
              "[\n",
              "\t\"Produção de Ferro Gusa e Aço\"\n",
              "\t\"Transportes\"\n",
              "\t\"Produção de Ácido Nítrico\"\n",
              "\t\"Produção de Ferroligas\"\n",
              "\t\"Industrial\"\n",
              "\t\"Produção de Ácido Adípico\"\n",
              "\t\"Produção de Combustíveis\"\n",
              "]"
            ]
          },
          "execution_count": 20,
          "metadata": {},
          "output_type": "execute_result"
        }
      ],
      "source": [
        "df_nox_filtrado = df_nox.filter(df_nox['nivel_3'].str.contains(r'Industrial|Transportes|Produção'))\n",
        "df_nox_filtrado['nivel_3'].unique()"
      ]
    },
    {
      "cell_type": "code",
      "execution_count": null,
      "metadata": {
        "colab": {
          "base_uri": "https://localhost:8080/"
        },
        "id": "SwXRJCzb1c4r",
        "outputId": "81437a48-fa19-424c-a509-ebeeb3bf3720"
      },
      "outputs": [
        {
          "data": {
            "text/html": [
              "<div><style>\n",
              ".dataframe > thead > tr,\n",
              ".dataframe > tbody > tr {\n",
              "  text-align: right;\n",
              "  white-space: pre-wrap;\n",
              "}\n",
              "</style>\n",
              "<small>shape: (7, 2)</small><table border=\"1\" class=\"dataframe\"><thead><tr><th>nivel_3</th><th>total_emissao_nox</th></tr><tr><td>str</td><td>f64</td></tr></thead><tbody><tr><td>&quot;Transportes&quot;</td><td>4.0508e7</td></tr><tr><td>&quot;Produção de Combustíveis&quot;</td><td>6.2774e6</td></tr><tr><td>&quot;Industrial&quot;</td><td>3.2843e6</td></tr><tr><td>&quot;Produção de Ferro Gusa e Aço&quot;</td><td>2.3181e6</td></tr><tr><td>&quot;Produção de Ferroligas&quot;</td><td>71470.465074</td></tr><tr><td>&quot;Produção de Ácido Nítrico&quot;</td><td>26718.266157</td></tr><tr><td>&quot;Produção de Ácido Adípico&quot;</td><td>14627.81</td></tr></tbody></table></div>"
            ],
            "text/plain": [
              "shape: (7, 2)\n",
              "┌──────────────────────────────┬───────────────────┐\n",
              "│ nivel_3                      ┆ total_emissao_nox │\n",
              "│ ---                          ┆ ---               │\n",
              "│ str                          ┆ f64               │\n",
              "╞══════════════════════════════╪═══════════════════╡\n",
              "│ Transportes                  ┆ 4.0508e7          │\n",
              "│ Produção de Combustíveis     ┆ 6.2774e6          │\n",
              "│ Industrial                   ┆ 3.2843e6          │\n",
              "│ Produção de Ferro Gusa e Aço ┆ 2.3181e6          │\n",
              "│ Produção de Ferroligas       ┆ 71470.465074      │\n",
              "│ Produção de Ácido Nítrico    ┆ 26718.266157      │\n",
              "│ Produção de Ácido Adípico    ┆ 14627.81          │\n",
              "└──────────────────────────────┴───────────────────┘"
            ]
          },
          "execution_count": 21,
          "metadata": {},
          "output_type": "execute_result"
        }
      ],
      "source": [
        "df_nox_nivel3 = (\n",
        "    df_nox_filtrado.group_by('nivel_3')\n",
        "    .agg(pl.col('emissao').sum().alias('total_emissao_nox'))\n",
        "    .sort('total_emissao_nox', descending=True)\n",
        ")\n",
        "df_nox_nivel3"
      ]
    },
    {
      "cell_type": "markdown",
      "metadata": {
        "id": "oEd021SJkcPN"
      },
      "source": [
        "<font size=4>[`polars.DataFrame.group_by`](https://docs.pola.rs/api/python/stable/reference/dataframe/api/polars.DataFrame.group_by.html), [`polars.dataframe.group_by.GroupBy.agg`](https://docs.pola.rs/api/python/stable/reference/dataframe/api/polars.dataframe.group_by.GroupBy.agg.html), [`polars.dataframe.group_by.GroupBy.sum`](https://docs.pola.rs/api/python/stable/reference/dataframe/api/polars.dataframe.group_by.GroupBy.sum.html), [`polars.Expr.alias`](https://docs.pola.rs/api/python/stable/reference/expressions/api/polars.Expr.alias.html)</font><br>"
      ]
    },
    {
      "cell_type": "code",
      "execution_count": null,
      "metadata": {
        "id": "W7utKcnibt2-"
      },
      "outputs": [],
      "source": [
        "import matplotlib.pyplot as plt\n",
        "\n",
        "def tabela(df, titulo = '', nota='', tamanho = (7, 2)):\n",
        "  # Criar a figura e o eixo\n",
        "  fig, ax = plt.subplots(figsize=tamanho)  # Ajuste o tamanho conforme necessário\n",
        "  ax.axis('off')\n",
        "\n",
        "  # Criar tabela\n",
        "  tabela = ax.table(cellText=df.to_pandas().round(2).values,\n",
        "                    colLabels=df.columns,\n",
        "                    colColours=['#D3D3D3'] * len(df.columns),\n",
        "                    cellLoc='center',\n",
        "                    loc='center')\n",
        "  # Adicionar um título\n",
        "  plt.title(titulo)\n",
        "\n",
        "  # Adcionar uma nota\n",
        "  if nota!='':\n",
        "    plt.figtext(0.5, 0.02, f'Nota: {nota}',\n",
        "                ha='center', fontsize=8, fontstyle='italic')\n",
        "  # Salvar como imagem\n",
        "  plt.savefig(f'TABELA - {titulo}.png', dpi=300, bbox_inches='tight')\n",
        "\n",
        "  # Exibir a imagem\n",
        "  plt.show()"
      ]
    },
    {
      "cell_type": "markdown",
      "metadata": {
        "id": "7Spwh-xokjre"
      },
      "source": [
        "<font size=4>[`matplotlib.pyplot`](https://matplotlib.org/3.5.3/api/_as_gen/matplotlib.pyplot.html)</font><br>"
      ]
    },
    {
      "cell_type": "code",
      "execution_count": null,
      "metadata": {
        "colab": {
          "base_uri": "https://localhost:8080/"
        },
        "id": "EhJ0-W-xncad",
        "outputId": "d9d234ec-2578-4492-c550-04cc01fefff1"
      },
      "outputs": [
        {
          "data": {
            "image/png": "[encoded data removed]",
            "text/plain": [
              "<Figure size 700x200 with 1 Axes>"
            ]
          },
          "metadata": {},
          "output_type": "display_data"
        }
      ],
      "source": [
        "tabela(df_nox_nivel3, 'Total emissões NOx por forma de emissão (Nível 3)',\n",
        "       nota = 'Total de emissões de NOx em 2019: 2168680.45')"
      ]
    },
    {
      "cell_type": "markdown",
      "metadata": {
        "id": "7XWkNIQIovU8"
      },
      "source": [
        "> Além de entender quais formas mais contribuem para as emissões de NOx, é importante analisar essas emissões em um nível mais amplo. Por isso é necessário identificar a relação entre categorias gerais de setores (nível 1) e as formas de emissão (nível 3) para compreender melhor a estrutura das emissões e possíveis alvos para redução.\n"
      ]
    },
    {
      "cell_type": "code",
      "execution_count": null,
      "metadata": {
        "colab": {
          "base_uri": "https://localhost:8080/"
        },
        "id": "MxGjOvrpnhwR",
        "outputId": "5222d4ef-de73-417f-be32-3b0056ea4f2c"
      },
      "outputs": [
        {
          "data": {
            "text/html": [
              "<div><style>\n",
              ".dataframe > thead > tr,\n",
              ".dataframe > tbody > tr {\n",
              "  text-align: right;\n",
              "  white-space: pre-wrap;\n",
              "}\n",
              "</style>\n",
              "<small>shape: (7, 3)</small><table border=\"1\" class=\"dataframe\"><thead><tr><th>nivel_1</th><th>nivel_3</th><th>total_emissao_nox</th></tr><tr><td>str</td><td>str</td><td>f64</td></tr></thead><tbody><tr><td>&quot;Energia&quot;</td><td>&quot;Transportes&quot;</td><td>4.0508e7</td></tr><tr><td>&quot;Energia&quot;</td><td>&quot;Produção de Combustíveis&quot;</td><td>6.2774e6</td></tr><tr><td>&quot;Energia&quot;</td><td>&quot;Industrial&quot;</td><td>3.2843e6</td></tr><tr><td>&quot;Processos Industriais&quot;</td><td>&quot;Produção de Ferro Gusa e Aço&quot;</td><td>2.3181e6</td></tr><tr><td>&quot;Processos Industriais&quot;</td><td>&quot;Produção de Ferroligas&quot;</td><td>71470.465074</td></tr><tr><td>&quot;Processos Industriais&quot;</td><td>&quot;Produção de Ácido Nítrico&quot;</td><td>26718.266157</td></tr><tr><td>&quot;Processos Industriais&quot;</td><td>&quot;Produção de Ácido Adípico&quot;</td><td>14627.81</td></tr></tbody></table></div>"
            ],
            "text/plain": [
              "shape: (7, 3)\n",
              "┌───────────────────────┬──────────────────────────────┬───────────────────┐\n",
              "│ nivel_1               ┆ nivel_3                      ┆ total_emissao_nox │\n",
              "│ ---                   ┆ ---                          ┆ ---               │\n",
              "│ str                   ┆ str                          ┆ f64               │\n",
              "╞═══════════════════════╪══════════════════════════════╪═══════════════════╡\n",
              "│ Energia               ┆ Transportes                  ┆ 4.0508e7          │\n",
              "│ Energia               ┆ Produção de Combustíveis     ┆ 6.2774e6          │\n",
              "│ Energia               ┆ Industrial                   ┆ 3.2843e6          │\n",
              "│ Processos Industriais ┆ Produção de Ferro Gusa e Aço ┆ 2.3181e6          │\n",
              "│ Processos Industriais ┆ Produção de Ferroligas       ┆ 71470.465074      │\n",
              "│ Processos Industriais ┆ Produção de Ácido Nítrico    ┆ 26718.266157      │\n",
              "│ Processos Industriais ┆ Produção de Ácido Adípico    ┆ 14627.81          │\n",
              "└───────────────────────┴──────────────────────────────┴───────────────────┘"
            ]
          },
          "execution_count": 24,
          "metadata": {},
          "output_type": "execute_result"
        }
      ],
      "source": [
        "df_nox_nivel1_nivel3 = (\n",
        "    df_nox_filtrado.group_by(['nivel_1', 'nivel_3'])\n",
        "    .agg(pl.col('emissao').sum().alias('total_emissao_nox'))\n",
        "    .sort('total_emissao_nox', descending=True)\n",
        ")\n",
        "df_nox_nivel1_nivel3"
      ]
    },
    {
      "cell_type": "code",
      "execution_count": null,
      "metadata": {
        "colab": {
          "base_uri": "https://localhost:8080/"
        },
        "id": "o7RoIGzsniek",
        "outputId": "7ead4516-4a7b-4e72-dfe0-43fd330e4e0b"
      },
      "outputs": [
        {
          "data": {
            "image/png": "[encoded data removed]",
            "text/plain": [
              "<Figure size 1000x200 with 1 Axes>"
            ]
          },
          "metadata": {},
          "output_type": "display_data"
        }
      ],
      "source": [
        "tabela(df_nox_nivel1_nivel3, 'Emissões por setor e forma de emissão (nível 1 e 3)',\n",
        "       nota = 'Total de emissões de NOx em 2019: 2168680.45', tamanho = (10,2))"
      ]
    },
    {
      "cell_type": "markdown",
      "metadata": {
        "id": "Br-jvd5ev-0l"
      },
      "source": [
        "# Aula 3 - Explorando categorias de GEE"
      ]
    },
    {
      "cell_type": "markdown",
      "metadata": {
        "id": "JVN5pkCCMkoz"
      },
      "source": [
        "## Reclassificando os gases emitidos"
      ]
    },
    {
      "cell_type": "code",
      "execution_count": null,
      "metadata": {
        "colab": {
          "base_uri": "https://localhost:8080/"
        },
        "id": "xBaJHtg-KFFJ",
        "outputId": "5b575442-3ca4-46d7-e87a-ba2fc8669c11"
      },
      "outputs": [
        {
          "data": {
            "text/plain": [
              "['CO2e (t) GWP-AR2',\n",
              " 'CO2e (t) GTP-AR5',\n",
              " 'CO2e (t) GTP-AR4',\n",
              " 'N2O (t)',\n",
              " 'CO2 (t)',\n",
              " 'CH4 (t)',\n",
              " 'NOx (t)',\n",
              " 'CO (t)',\n",
              " 'CF4 (t)',\n",
              " 'NOX (t)',\n",
              " 'COVNM (t)',\n",
              " 'SF6 (t)',\n",
              " 'CO2e (t) GWP-AR4',\n",
              " 'CO2e (t) GWP-AR5',\n",
              " 'C2F6 (t)',\n",
              " 'CO2e (t) GTP-AR2']"
            ]
          },
          "execution_count": 26,
          "metadata": {},
          "output_type": "execute_result"
        }
      ],
      "source": [
        "df['gas'].unique().to_list()"
      ]
    },
    {
      "cell_type": "markdown",
      "metadata": {
        "id": "1EnECfLbWFXk"
      },
      "source": [
        "**Lista de GEE:**\n",
        "\n",
        "1. CO2 - Dióxido de Carbono.\n",
        "2. CH4 - Metano.\n",
        "3. N2O - Óxido Nitroso.  \n",
        "4. NOx/NOX - óxidos de nitrogênio - um conjunto de gases contendo nitrogênio e oxigênio.\n",
        "5. CO - Monóxido de Carbono.  \n",
        "6. COVNM - Compostos Orgânicos Voláteis Não Metanosos.\n",
        "7. CF4 - Tetrafluorometano.\n",
        "8. C2F6 - Hexafluoretano.\n",
        "9. SF6 - Hexafluoreto de Enxofre.\n",
        "\n",
        "<font size=2>[Fonte.](https://semil.sp.gov.br/educacaoambiental/prateleira-ambiental/gases-de-efeito-estufa-gee/)</font><br>\n",
        "\n",
        "**O que é “CO2e”?**\n",
        "\n",
        "CO2e significa “**dióxido de carbono equivalente**”. É uma forma de padronizar o impacto dos diferentes gases usando o CO2 como referência.\n",
        "\n",
        "A diferença entre “GWP” e “GTP” muda a forma de calcular o fator de conversão para “CO2 equivalente”, e a diferença entre “AR2”, “AR4” e “AR5” reflete as atualizações e melhorias científicas entre cada relatório do [IPCC](https://www.ipcc.ch/about/)\n",
        "\n",
        "- Caso tenha interesse, consulte a [tabela com valores equivalentes por tipo de gás](https://ghgprotocol.org/sites/default/files/Global-Warming-Potential-Values%20%28Feb%2016%202016%29_1.pdf)"
      ]
    },
    {
      "cell_type": "markdown",
      "metadata": {
        "id": "JrPoVAEXqf_l"
      },
      "source": [
        "> A análise das emissões de gases de efeito estufa (GEE) frequentemente requer a categorização dos diferentes tipos de gases para facilitar a interpretação e comparação dos dados. Nossa equipe deseja agrupar os gases reportados no conjunto de dados em categorias padronizadas (CO₂, CO₂ equivalente, CH₄, N₂O e Outros) e, a partir disso, entender a distribuição das emissões em 2019."
      ]
    },
    {
      "cell_type": "code",
      "execution_count": null,
      "metadata": {
        "id": "hyKYwooFn4BN"
      },
      "outputs": [],
      "source": [
        "df_gases = df.with_columns(\n",
        "    pl.when(pl.col('gas').str.contains('CO2 '))\n",
        "    .then(pl.lit('CO2'))\n",
        "    .when(pl.col('gas').str.contains('CO2e'))\n",
        "    .then(pl.lit('CO2_equivalente'))\n",
        "    .when(pl.col('gas').str.contains('CH4'))\n",
        "    .then(pl.lit('CH4'))\n",
        "    .when(pl.col('gas').str.contains('N2O'))\n",
        "    .then(pl.lit('N2O'))\n",
        "    .otherwise(pl.lit('Outros'))\n",
        "    .alias('categoria_gas')\n",
        ")"
      ]
    },
    {
      "cell_type": "markdown",
      "metadata": {
        "id": "2KObw9bLn8vM"
      },
      "source": [
        "<font size=4>[`polars.DataFrame.with_columns`](https://docs.pola.rs/api/python/stable/reference/dataframe/api/polars.DataFrame.with_columns.html), [`polars.when`](https://docs.pola.rs/api/python/stable/reference/expressions/api/polars.when.html)</font><br>\n",
        "- <font size=3>expressão `when-then-otherwise`</font><br>"
      ]
    },
    {
      "cell_type": "code",
      "execution_count": null,
      "metadata": {
        "colab": {
          "base_uri": "https://localhost:8080/"
        },
        "id": "Ntrkz16hn4qB",
        "outputId": "d55b29eb-1a3b-48ae-bd4a-d8b26f15a3cc"
      },
      "outputs": [
        {
          "data": {
            "text/html": [
              "<div><style>\n",
              ".dataframe > thead > tr,\n",
              ".dataframe > tbody > tr {\n",
              "  text-align: right;\n",
              "  white-space: pre-wrap;\n",
              "}\n",
              "</style>\n",
              "<small>shape: (5, 13)</small><table border=\"1\" class=\"dataframe\"><thead><tr><th>ano</th><th>sigla_uf</th><th>nivel_1</th><th>nivel_2</th><th>nivel_3</th><th>nivel_4</th><th>nivel_5</th><th>nivel_6</th><th>tipo_emissao</th><th>gas</th><th>atividade_economica</th><th>emissao</th><th>categoria_gas</th></tr><tr><td>i64</td><td>str</td><td>str</td><td>str</td><td>str</td><td>str</td><td>str</td><td>str</td><td>str</td><td>str</td><td>str</td><td>f64</td><td>str</td></tr></thead><tbody><tr><td>1970</td><td>&quot;AC&quot;</td><td>&quot;Agropecuária&quot;</td><td>&quot;Cultivo do Arroz&quot;</td><td>&quot;Diretas&quot;</td><td>&quot;Outros&quot;</td><td>&quot;Vegetal&quot;</td><td>&quot;Arroz&quot;</td><td>&quot;Emissão&quot;</td><td>&quot;CH4 (t)&quot;</td><td>&quot;AGR&quot;</td><td>0.0</td><td>&quot;CH4&quot;</td></tr><tr><td>1970</td><td>&quot;AC&quot;</td><td>&quot;Agropecuária&quot;</td><td>&quot;Cultivo do Arroz&quot;</td><td>&quot;Diretas&quot;</td><td>&quot;Outros&quot;</td><td>&quot;Vegetal&quot;</td><td>&quot;Arroz&quot;</td><td>&quot;Emissão&quot;</td><td>&quot;CO2e (t) GWP-AR5&quot;</td><td>&quot;AGR&quot;</td><td>0.0</td><td>&quot;CO2_equivalente&quot;</td></tr><tr><td>1970</td><td>&quot;AC&quot;</td><td>&quot;Agropecuária&quot;</td><td>&quot;Fermentação Entérica&quot;</td><td>&quot;Diretas&quot;</td><td>&quot;Outros&quot;</td><td>&quot;Animal&quot;</td><td>&quot;Asinino&quot;</td><td>&quot;Emissão&quot;</td><td>&quot;CH4 (t)&quot;</td><td>&quot;PEC&quot;</td><td>2.23</td><td>&quot;CH4&quot;</td></tr><tr><td>1970</td><td>&quot;AC&quot;</td><td>&quot;Agropecuária&quot;</td><td>&quot;Fermentação Entérica&quot;</td><td>&quot;Diretas&quot;</td><td>&quot;Outros&quot;</td><td>&quot;Animal&quot;</td><td>&quot;Asinino&quot;</td><td>&quot;Emissão&quot;</td><td>&quot;CO2e (t) GTP-AR5&quot;</td><td>&quot;PEC&quot;</td><td>8.92</td><td>&quot;CO2_equivalente&quot;</td></tr><tr><td>1970</td><td>&quot;AC&quot;</td><td>&quot;Agropecuária&quot;</td><td>&quot;Fermentação Entérica&quot;</td><td>&quot;Diretas&quot;</td><td>&quot;Outros&quot;</td><td>&quot;Animal&quot;</td><td>&quot;Asinino&quot;</td><td>&quot;Emissão&quot;</td><td>&quot;CO2e (t) GWP-AR5&quot;</td><td>&quot;PEC&quot;</td><td>62.44</td><td>&quot;CO2_equivalente&quot;</td></tr></tbody></table></div>"
            ],
            "text/plain": [
              "shape: (5, 13)\n",
              "┌──────┬──────────┬─────────────┬─────────────┬───┬────────────┬────────────┬─────────┬────────────┐\n",
              "│ ano  ┆ sigla_uf ┆ nivel_1     ┆ nivel_2     ┆ … ┆ gas        ┆ atividade_ ┆ emissao ┆ categoria_ │\n",
              "│ ---  ┆ ---      ┆ ---         ┆ ---         ┆   ┆ ---        ┆ economica  ┆ ---     ┆ gas        │\n",
              "│ i64  ┆ str      ┆ str         ┆ str         ┆   ┆ str        ┆ ---        ┆ f64     ┆ ---        │\n",
              "│      ┆          ┆             ┆             ┆   ┆            ┆ str        ┆         ┆ str        │\n",
              "╞══════╪══════════╪═════════════╪═════════════╪═══╪════════════╪════════════╪═════════╪════════════╡\n",
              "│ 1970 ┆ AC       ┆ Agropecuári ┆ Cultivo do  ┆ … ┆ CH4 (t)    ┆ AGR        ┆ 0.0     ┆ CH4        │\n",
              "│      ┆          ┆ a           ┆ Arroz       ┆   ┆            ┆            ┆         ┆            │\n",
              "│ 1970 ┆ AC       ┆ Agropecuári ┆ Cultivo do  ┆ … ┆ CO2e (t)   ┆ AGR        ┆ 0.0     ┆ CO2_equiva │\n",
              "│      ┆          ┆ a           ┆ Arroz       ┆   ┆ GWP-AR5    ┆            ┆         ┆ lente      │\n",
              "│ 1970 ┆ AC       ┆ Agropecuári ┆ Fermentação ┆ … ┆ CH4 (t)    ┆ PEC        ┆ 2.23    ┆ CH4        │\n",
              "│      ┆          ┆ a           ┆ Entérica    ┆   ┆            ┆            ┆         ┆            │\n",
              "│ 1970 ┆ AC       ┆ Agropecuári ┆ Fermentação ┆ … ┆ CO2e (t)   ┆ PEC        ┆ 8.92    ┆ CO2_equiva │\n",
              "│      ┆          ┆ a           ┆ Entérica    ┆   ┆ GTP-AR5    ┆            ┆         ┆ lente      │\n",
              "│ 1970 ┆ AC       ┆ Agropecuári ┆ Fermentação ┆ … ┆ CO2e (t)   ┆ PEC        ┆ 62.44   ┆ CO2_equiva │\n",
              "│      ┆          ┆ a           ┆ Entérica    ┆   ┆ GWP-AR5    ┆            ┆         ┆ lente      │\n",
              "└──────┴──────────┴─────────────┴─────────────┴───┴────────────┴────────────┴─────────┴────────────┘"
            ]
          },
          "execution_count": 28,
          "metadata": {},
          "output_type": "execute_result"
        }
      ],
      "source": [
        "df_gases.head()"
      ]
    },
    {
      "cell_type": "code",
      "execution_count": null,
      "metadata": {
        "colab": {
          "base_uri": "https://localhost:8080/"
        },
        "id": "3gOcHj-1oxG3",
        "outputId": "553f5f18-225f-4d5a-d803-4d2428d368d1"
      },
      "outputs": [
        {
          "data": {
            "text/html": [
              "<div><style>\n",
              ".dataframe > thead > tr,\n",
              ".dataframe > tbody > tr {\n",
              "  text-align: right;\n",
              "  white-space: pre-wrap;\n",
              "}\n",
              "</style>\n",
              "<small>shape: (5, 2)</small><table border=\"1\" class=\"dataframe\"><thead><tr><th>categoria_gas</th><th>total_emissao</th></tr><tr><td>str</td><td>f64</td></tr></thead><tbody><tr><td>&quot;CO2_equivalente&quot;</td><td>2.9243e9</td></tr><tr><td>&quot;CO2&quot;</td><td>2.8345e8</td></tr><tr><td>&quot;CH4&quot;</td><td>1.9884e7</td></tr><tr><td>&quot;Outros&quot;</td><td>9.7713e6</td></tr><tr><td>&quot;N2O&quot;</td><td>494181.089969</td></tr></tbody></table></div>"
            ],
            "text/plain": [
              "shape: (5, 2)\n",
              "┌─────────────────┬───────────────┐\n",
              "│ categoria_gas   ┆ total_emissao │\n",
              "│ ---             ┆ ---           │\n",
              "│ str             ┆ f64           │\n",
              "╞═════════════════╪═══════════════╡\n",
              "│ CO2_equivalente ┆ 2.9243e9      │\n",
              "│ CO2             ┆ 2.8345e8      │\n",
              "│ CH4             ┆ 1.9884e7      │\n",
              "│ Outros          ┆ 9.7713e6      │\n",
              "│ N2O             ┆ 494181.089969 │\n",
              "└─────────────────┴───────────────┘"
            ]
          },
          "execution_count": 29,
          "metadata": {},
          "output_type": "execute_result"
        }
      ],
      "source": [
        "df_resultados = (\n",
        "    df_gases.filter(df_gases['ano']==2019)\n",
        "    .group_by('categoria_gas')\n",
        "    .agg(pl.col('emissao').sum().alias('total_emissao'))\n",
        "    .sort('total_emissao', descending=True)\n",
        ")\n",
        "df_resultados"
      ]
    },
    {
      "cell_type": "code",
      "execution_count": null,
      "metadata": {
        "colab": {
          "base_uri": "https://localhost:8080/"
        },
        "id": "h6MaS7U9ox53",
        "outputId": "c0f039ab-6cc6-46b4-850a-d28a24db3a68"
      },
      "outputs": [
        {
          "data": {
            "image/png": "[encoded data removed]",
            "text/plain": [
              "<Figure size 700x200 with 1 Axes>"
            ]
          },
          "metadata": {},
          "output_type": "display_data"
        }
      ],
      "source": [
        "tabela(df_resultados, 'Total de emissões em 2019 por tipo de gases',\n",
        "       nota = '\"Outros\" englobam NOX, CO, COVNM, CF4, C2F6 e SF6.')"
      ]
    },
    {
      "cell_type": "markdown",
      "metadata": {
        "id": "Pdt7kM-Di5l_"
      },
      "source": [
        "## Avaliando os valores de emissão por setor"
      ]
    },
    {
      "cell_type": "markdown",
      "metadata": {
        "id": "FlkJ8VwprI7E"
      },
      "source": [
        "> Agora nosso objetivo é entender melhor a evolução das emissões de gases de efeito estufa ao longo do tempo de acordo com os setores responsáveis por essas emissões. Nossa equipe deseja verificar como diferentes categorias de setores econômicos (nível 1) contribuíram para as emissões após 2010, possibilitando a identificação de tendências e potenciais mudanças nos padrões de poluição ao longo dos anos. Uma visualização é a forma ideal de apresentar essa informação.\n",
        "\n",
        "<font size=2>[Fonte.](https://www.uol.com.br/ecoa/faq/quais-sao-setores-economicos-que-mais-impactam-o-aquecimento-global.htm)</font><br>\n"
      ]
    },
    {
      "cell_type": "code",
      "execution_count": null,
      "metadata": {
        "colab": {
          "base_uri": "https://localhost:8080/"
        },
        "id": "lJ85GsPUo33S",
        "outputId": "a8c6014d-3135-4e8e-9025-131444ec1494"
      },
      "outputs": [
        {
          "data": {
            "text/html": [
              "<div><style>\n",
              ".dataframe > thead > tr,\n",
              ".dataframe > tbody > tr {\n",
              "  text-align: right;\n",
              "  white-space: pre-wrap;\n",
              "}\n",
              "</style>\n",
              "<small>shape: (45, 3)</small><table border=\"1\" class=\"dataframe\"><thead><tr><th>ano</th><th>nivel_1</th><th>total emissao</th></tr><tr><td>i64</td><td>str</td><td>f64</td></tr></thead><tbody><tr><td>2011</td><td>&quot;Agropecuária&quot;</td><td>5.8513e8</td></tr><tr><td>2011</td><td>&quot;Energia&quot;</td><td>2.3905e9</td></tr><tr><td>2011</td><td>&quot;Mudança de Uso da Terra e Flor…</td><td>4.2466e9</td></tr><tr><td>2011</td><td>&quot;Processos Industriais&quot;</td><td>5.0315e8</td></tr><tr><td>2011</td><td>&quot;Resíduos &quot;</td><td>2.6408e8</td></tr><tr><td>&hellip;</td><td>&hellip;</td><td>&hellip;</td></tr><tr><td>2019</td><td>&quot;Agropecuária&quot;</td><td>6.0219e8</td></tr><tr><td>2019</td><td>&quot;Energia&quot;</td><td>2.5590e9</td></tr><tr><td>2019</td><td>&quot;Mudança de Uso da Terra e Flor…</td><td>6.5718e9</td></tr><tr><td>2019</td><td>&quot;Processos Industriais&quot;</td><td>4.0585e8</td></tr><tr><td>2019</td><td>&quot;Resíduos &quot;</td><td>3.1558e8</td></tr></tbody></table></div>"
            ],
            "text/plain": [
              "shape: (45, 3)\n",
              "┌──────┬─────────────────────────────────┬───────────────┐\n",
              "│ ano  ┆ nivel_1                         ┆ total emissao │\n",
              "│ ---  ┆ ---                             ┆ ---           │\n",
              "│ i64  ┆ str                             ┆ f64           │\n",
              "╞══════╪═════════════════════════════════╪═══════════════╡\n",
              "│ 2011 ┆ Agropecuária                    ┆ 5.8513e8      │\n",
              "│ 2011 ┆ Energia                         ┆ 2.3905e9      │\n",
              "│ 2011 ┆ Mudança de Uso da Terra e Flor… ┆ 4.2466e9      │\n",
              "│ 2011 ┆ Processos Industriais           ┆ 5.0315e8      │\n",
              "│ 2011 ┆ Resíduos                        ┆ 2.6408e8      │\n",
              "│ …    ┆ …                               ┆ …             │\n",
              "│ 2019 ┆ Agropecuária                    ┆ 6.0219e8      │\n",
              "│ 2019 ┆ Energia                         ┆ 2.5590e9      │\n",
              "│ 2019 ┆ Mudança de Uso da Terra e Flor… ┆ 6.5718e9      │\n",
              "│ 2019 ┆ Processos Industriais           ┆ 4.0585e8      │\n",
              "│ 2019 ┆ Resíduos                        ┆ 3.1558e8      │\n",
              "└──────┴─────────────────────────────────┴───────────────┘"
            ]
          },
          "execution_count": 31,
          "metadata": {},
          "output_type": "execute_result"
        }
      ],
      "source": [
        "df_setor = (\n",
        "    df.filter(df['ano'] > 2010, df['tipo_emissao']=='Emissão')\n",
        "    .group_by(['ano','nivel_1'])\n",
        "    .agg(pl.col('emissao').sum().alias('total emissao'))\n",
        "    .sort(['ano','nivel_1'])\n",
        ")\n",
        "df_setor"
      ]
    },
    {
      "cell_type": "code",
      "execution_count": null,
      "metadata": {
        "colab": {
          "base_uri": "https://localhost:8080/"
        },
        "id": "sIvCoJH3o5SN",
        "outputId": "7b915ab5-c56a-442e-ffef-37ef1f6331af"
      },
      "outputs": [
        {
          "data": {
            "text/html": [
              "<html>\n",
              "<head><meta charset=\"utf-8\" /></head>\n",
              "<body>\n",
              "    <div>            <script src=\"https://cdnjs.cloudflare.com/ajax/libs/mathjax/2.7.5/MathJax.js?config=TeX-AMS-MML_SVG\"></script><script type=\"text/javascript\">if (window.MathJax && window.MathJax.Hub && window.MathJax.Hub.Config) {window.MathJax.Hub.Config({SVG: {font: \"STIX-Web\"}});}</script>                <script type=\"text/javascript\">window.PlotlyConfig = {MathJaxConfig: 'local'};</script>\n",
              "        <script charset=\"utf-8\" src=\"https://cdn.plot.ly/plotly-2.35.2.min.js\"></script>                <div id=\"8861791d-126b-4ec7-a19d-7cb896026954\" class=\"plotly-graph-div\" style=\"height:525px; width:100%;\"></div>            <script type=\"text/javascript\">                                    window.PLOTLYENV=window.PLOTLYENV || {};                                    if (document.getElementById(\"8861791d-126b-4ec7-a19d-7cb896026954\")) {                    Plotly.newPlot(                        \"8861791d-126b-4ec7-a19d-7cb896026954\",                        [{\"alignmentgroup\":\"True\",\"hovertemplate\":\"nivel_1=Agropecuária\\u003cbr\\u003eano=%{x}\\u003cbr\\u003etotal emissao=%{y}\\u003cextra\\u003e\\u003c\\u002fextra\\u003e\",\"legendgroup\":\"Agropecuária\",\"marker\":{\"color\":\"#636efa\",\"pattern\":{\"shape\":\"\"}},\"name\":\"Agropecuária\",\"offsetgroup\":\"Agropecuária\",\"orientation\":\"v\",\"showlegend\":true,\"textposition\":\"auto\",\"x\":[2011,2012,2013,2014,2015,2016,2017,2018,2019],\"xaxis\":\"x\",\"y\":[585133602.6764674,578539685.9653102,583517028.7315528,587147691.1106806,596537371.1414863,608272410.8288492,601623804.7783916,596955879.6362027,602193161.5499387],\"yaxis\":\"y\",\"type\":\"bar\"},{\"alignmentgroup\":\"True\",\"hovertemplate\":\"nivel_1=Energia\\u003cbr\\u003eano=%{x}\\u003cbr\\u003etotal emissao=%{y}\\u003cextra\\u003e\\u003c\\u002fextra\\u003e\",\"legendgroup\":\"Energia\",\"marker\":{\"color\":\"#EF553B\",\"pattern\":{\"shape\":\"\"}},\"name\":\"Energia\",\"offsetgroup\":\"Energia\",\"orientation\":\"v\",\"showlegend\":true,\"textposition\":\"auto\",\"x\":[2011,2012,2013,2014,2015,2016,2017,2018,2019],\"xaxis\":\"x\",\"y\":[2390460947.511937,2624461140.7087865,2856169795.2415032,3019318071.2855277,2862182142.1648808,2657149601.0119996,2683662322.6824355,2525049382.4947705,2558991533.306563],\"yaxis\":\"y\",\"type\":\"bar\"},{\"alignmentgroup\":\"True\",\"hovertemplate\":\"nivel_1=Mudança de Uso da Terra e Floresta\\u003cbr\\u003eano=%{x}\\u003cbr\\u003etotal emissao=%{y}\\u003cextra\\u003e\\u003c\\u002fextra\\u003e\",\"legendgroup\":\"Mudança de Uso da Terra e Floresta\",\"marker\":{\"color\":\"#00cc96\",\"pattern\":{\"shape\":\"\"}},\"name\":\"Mudança de Uso da Terra e Floresta\",\"offsetgroup\":\"Mudança de Uso da Terra e Floresta\",\"orientation\":\"v\",\"showlegend\":true,\"textposition\":\"auto\",\"x\":[2011,2012,2013,2014,2015,2016,2017,2018,2019],\"xaxis\":\"x\",\"y\":[4246621591.0,4336221324.0,4918244614.0,4951165243.0,5171291936.0,5960339694.0,5357423365.0,5353949777.0,6571803623.0],\"yaxis\":\"y\",\"type\":\"bar\"},{\"alignmentgroup\":\"True\",\"hovertemplate\":\"nivel_1=Processos Industriais\\u003cbr\\u003eano=%{x}\\u003cbr\\u003etotal emissao=%{y}\\u003cextra\\u003e\\u003c\\u002fextra\\u003e\",\"legendgroup\":\"Processos Industriais\",\"marker\":{\"color\":\"#ab63fa\",\"pattern\":{\"shape\":\"\"}},\"name\":\"Processos Industriais\",\"offsetgroup\":\"Processos Industriais\",\"orientation\":\"v\",\"showlegend\":true,\"textposition\":\"auto\",\"x\":[2011,2012,2013,2014,2015,2016,2017,2018,2019],\"xaxis\":\"x\",\"y\":[503147905.41330963,504328616.54947865,507288332.61557037,455021095.0533313,445256167.30799323,411138444.2119782,414335133.1403636,417365743.7473423,405845754.460849],\"yaxis\":\"y\",\"type\":\"bar\"},{\"alignmentgroup\":\"True\",\"hovertemplate\":\"nivel_1=Resíduos \\u003cbr\\u003eano=%{x}\\u003cbr\\u003etotal emissao=%{y}\\u003cextra\\u003e\\u003c\\u002fextra\\u003e\",\"legendgroup\":\"Resíduos \",\"marker\":{\"color\":\"#FFA15A\",\"pattern\":{\"shape\":\"\"}},\"name\":\"Resíduos \",\"offsetgroup\":\"Resíduos \",\"orientation\":\"v\",\"showlegend\":true,\"textposition\":\"auto\",\"x\":[2011,2012,2013,2014,2015,2016,2017,2018,2019],\"xaxis\":\"x\",\"y\":[264077915.3007206,267378158.20782846,278134458.21716505,285475628.1710527,294829831.2184637,299219319.68560886,304429553.2943835,311498356.88441324,315576533.9993374],\"yaxis\":\"y\",\"type\":\"bar\"}],                        {\"template\":{\"data\":{\"histogram2dcontour\":[{\"type\":\"histogram2dcontour\",\"colorbar\":{\"outlinewidth\":0,\"ticks\":\"\"},\"colorscale\":[[0.0,\"#0d0887\"],[0.1111111111111111,\"#46039f\"],[0.2222222222222222,\"#7201a8\"],[0.3333333333333333,\"#9c179e\"],[0.4444444444444444,\"#bd3786\"],[0.5555555555555556,\"#d8576b\"],[0.6666666666666666,\"#ed7953\"],[0.7777777777777778,\"#fb9f3a\"],[0.8888888888888888,\"#fdca26\"],[1.0,\"#f0f921\"]]}],\"choropleth\":[{\"type\":\"choropleth\",\"colorbar\":{\"outlinewidth\":0,\"ticks\":\"\"}}],\"histogram2d\":[{\"type\":\"histogram2d\",\"colorbar\":{\"outlinewidth\":0,\"ticks\":\"\"},\"colorscale\":[[0.0,\"#0d0887\"],[0.1111111111111111,\"#46039f\"],[0.2222222222222222,\"#7201a8\"],[0.3333333333333333,\"#9c179e\"],[0.4444444444444444,\"#bd3786\"],[0.5555555555555556,\"#d8576b\"],[0.6666666666666666,\"#ed7953\"],[0.7777777777777778,\"#fb9f3a\"],[0.8888888888888888,\"#fdca26\"],[1.0,\"#f0f921\"]]}],\"heatmap\":[{\"type\":\"heatmap\",\"colorbar\":{\"outlinewidth\":0,\"ticks\":\"\"},\"colorscale\":[[0.0,\"#0d0887\"],[0.1111111111111111,\"#46039f\"],[0.2222222222222222,\"#7201a8\"],[0.3333333333333333,\"#9c179e\"],[0.4444444444444444,\"#bd3786\"],[0.5555555555555556,\"#d8576b\"],[0.6666666666666666,\"#ed7953\"],[0.7777777777777778,\"#fb9f3a\"],[0.8888888888888888,\"#fdca26\"],[1.0,\"#f0f921\"]]}],\"heatmapgl\":[{\"type\":\"heatmapgl\",\"colorbar\":{\"outlinewidth\":0,\"ticks\":\"\"},\"colorscale\":[[0.0,\"#0d0887\"],[0.1111111111111111,\"#46039f\"],[0.2222222222222222,\"#7201a8\"],[0.3333333333333333,\"#9c179e\"],[0.4444444444444444,\"#bd3786\"],[0.5555555555555556,\"#d8576b\"],[0.6666666666666666,\"#ed7953\"],[0.7777777777777778,\"#fb9f3a\"],[0.8888888888888888,\"#fdca26\"],[1.0,\"#f0f921\"]]}],\"contourcarpet\":[{\"type\":\"contourcarpet\",\"colorbar\":{\"outlinewidth\":0,\"ticks\":\"\"}}],\"contour\":[{\"type\":\"contour\",\"colorbar\":{\"outlinewidth\":0,\"ticks\":\"\"},\"colorscale\":[[0.0,\"#0d0887\"],[0.1111111111111111,\"#46039f\"],[0.2222222222222222,\"#7201a8\"],[0.3333333333333333,\"#9c179e\"],[0.4444444444444444,\"#bd3786\"],[0.5555555555555556,\"#d8576b\"],[0.6666666666666666,\"#ed7953\"],[0.7777777777777778,\"#fb9f3a\"],[0.8888888888888888,\"#fdca26\"],[1.0,\"#f0f921\"]]}],\"surface\":[{\"type\":\"surface\",\"colorbar\":{\"outlinewidth\":0,\"ticks\":\"\"},\"colorscale\":[[0.0,\"#0d0887\"],[0.1111111111111111,\"#46039f\"],[0.2222222222222222,\"#7201a8\"],[0.3333333333333333,\"#9c179e\"],[0.4444444444444444,\"#bd3786\"],[0.5555555555555556,\"#d8576b\"],[0.6666666666666666,\"#ed7953\"],[0.7777777777777778,\"#fb9f3a\"],[0.8888888888888888,\"#fdca26\"],[1.0,\"#f0f921\"]]}],\"mesh3d\":[{\"type\":\"mesh3d\",\"colorbar\":{\"outlinewidth\":0,\"ticks\":\"\"}}],\"scatter\":[{\"fillpattern\":{\"fillmode\":\"overlay\",\"size\":10,\"solidity\":0.2},\"type\":\"scatter\"}],\"parcoords\":[{\"type\":\"parcoords\",\"line\":{\"colorbar\":{\"outlinewidth\":0,\"ticks\":\"\"}}}],\"scatterpolargl\":[{\"type\":\"scatterpolargl\",\"marker\":{\"colorbar\":{\"outlinewidth\":0,\"ticks\":\"\"}}}],\"bar\":[{\"error_x\":{\"color\":\"#2a3f5f\"},\"error_y\":{\"color\":\"#2a3f5f\"},\"marker\":{\"line\":{\"color\":\"#E5ECF6\",\"width\":0.5},\"pattern\":{\"fillmode\":\"overlay\",\"size\":10,\"solidity\":0.2}},\"type\":\"bar\"}],\"scattergeo\":[{\"type\":\"scattergeo\",\"marker\":{\"colorbar\":{\"outlinewidth\":0,\"ticks\":\"\"}}}],\"scatterpolar\":[{\"type\":\"scatterpolar\",\"marker\":{\"colorbar\":{\"outlinewidth\":0,\"ticks\":\"\"}}}],\"histogram\":[{\"marker\":{\"pattern\":{\"fillmode\":\"overlay\",\"size\":10,\"solidity\":0.2}},\"type\":\"histogram\"}],\"scattergl\":[{\"type\":\"scattergl\",\"marker\":{\"colorbar\":{\"outlinewidth\":0,\"ticks\":\"\"}}}],\"scatter3d\":[{\"type\":\"scatter3d\",\"line\":{\"colorbar\":{\"outlinewidth\":0,\"ticks\":\"\"}},\"marker\":{\"colorbar\":{\"outlinewidth\":0,\"ticks\":\"\"}}}],\"scattermapbox\":[{\"type\":\"scattermapbox\",\"marker\":{\"colorbar\":{\"outlinewidth\":0,\"ticks\":\"\"}}}],\"scatterternary\":[{\"type\":\"scatterternary\",\"marker\":{\"colorbar\":{\"outlinewidth\":0,\"ticks\":\"\"}}}],\"scattercarpet\":[{\"type\":\"scattercarpet\",\"marker\":{\"colorbar\":{\"outlinewidth\":0,\"ticks\":\"\"}}}],\"carpet\":[{\"aaxis\":{\"endlinecolor\":\"#2a3f5f\",\"gridcolor\":\"white\",\"linecolor\":\"white\",\"minorgridcolor\":\"white\",\"startlinecolor\":\"#2a3f5f\"},\"baxis\":{\"endlinecolor\":\"#2a3f5f\",\"gridcolor\":\"white\",\"linecolor\":\"white\",\"minorgridcolor\":\"white\",\"startlinecolor\":\"#2a3f5f\"},\"type\":\"carpet\"}],\"table\":[{\"cells\":{\"fill\":{\"color\":\"#EBF0F8\"},\"line\":{\"color\":\"white\"}},\"header\":{\"fill\":{\"color\":\"#C8D4E3\"},\"line\":{\"color\":\"white\"}},\"type\":\"table\"}],\"barpolar\":[{\"marker\":{\"line\":{\"color\":\"#E5ECF6\",\"width\":0.5},\"pattern\":{\"fillmode\":\"overlay\",\"size\":10,\"solidity\":0.2}},\"type\":\"barpolar\"}],\"pie\":[{\"automargin\":true,\"type\":\"pie\"}]},\"layout\":{\"autotypenumbers\":\"strict\",\"colorway\":[\"#636efa\",\"#EF553B\",\"#00cc96\",\"#ab63fa\",\"#FFA15A\",\"#19d3f3\",\"#FF6692\",\"#B6E880\",\"#FF97FF\",\"#FECB52\"],\"font\":{\"color\":\"#2a3f5f\"},\"hovermode\":\"closest\",\"hoverlabel\":{\"align\":\"left\"},\"paper_bgcolor\":\"white\",\"plot_bgcolor\":\"#E5ECF6\",\"polar\":{\"bgcolor\":\"#E5ECF6\",\"angularaxis\":{\"gridcolor\":\"white\",\"linecolor\":\"white\",\"ticks\":\"\"},\"radialaxis\":{\"gridcolor\":\"white\",\"linecolor\":\"white\",\"ticks\":\"\"}},\"ternary\":{\"bgcolor\":\"#E5ECF6\",\"aaxis\":{\"gridcolor\":\"white\",\"linecolor\":\"white\",\"ticks\":\"\"},\"baxis\":{\"gridcolor\":\"white\",\"linecolor\":\"white\",\"ticks\":\"\"},\"caxis\":{\"gridcolor\":\"white\",\"linecolor\":\"white\",\"ticks\":\"\"}},\"coloraxis\":{\"colorbar\":{\"outlinewidth\":0,\"ticks\":\"\"}},\"colorscale\":{\"sequential\":[[0.0,\"#0d0887\"],[0.1111111111111111,\"#46039f\"],[0.2222222222222222,\"#7201a8\"],[0.3333333333333333,\"#9c179e\"],[0.4444444444444444,\"#bd3786\"],[0.5555555555555556,\"#d8576b\"],[0.6666666666666666,\"#ed7953\"],[0.7777777777777778,\"#fb9f3a\"],[0.8888888888888888,\"#fdca26\"],[1.0,\"#f0f921\"]],\"sequentialminus\":[[0.0,\"#0d0887\"],[0.1111111111111111,\"#46039f\"],[0.2222222222222222,\"#7201a8\"],[0.3333333333333333,\"#9c179e\"],[0.4444444444444444,\"#bd3786\"],[0.5555555555555556,\"#d8576b\"],[0.6666666666666666,\"#ed7953\"],[0.7777777777777778,\"#fb9f3a\"],[0.8888888888888888,\"#fdca26\"],[1.0,\"#f0f921\"]],\"diverging\":[[0,\"#8e0152\"],[0.1,\"#c51b7d\"],[0.2,\"#de77ae\"],[0.3,\"#f1b6da\"],[0.4,\"#fde0ef\"],[0.5,\"#f7f7f7\"],[0.6,\"#e6f5d0\"],[0.7,\"#b8e186\"],[0.8,\"#7fbc41\"],[0.9,\"#4d9221\"],[1,\"#276419\"]]},\"xaxis\":{\"gridcolor\":\"white\",\"linecolor\":\"white\",\"ticks\":\"\",\"title\":{\"standoff\":15},\"zerolinecolor\":\"white\",\"automargin\":true,\"zerolinewidth\":2},\"yaxis\":{\"gridcolor\":\"white\",\"linecolor\":\"white\",\"ticks\":\"\",\"title\":{\"standoff\":15},\"zerolinecolor\":\"white\",\"automargin\":true,\"zerolinewidth\":2},\"scene\":{\"xaxis\":{\"backgroundcolor\":\"#E5ECF6\",\"gridcolor\":\"white\",\"linecolor\":\"white\",\"showbackground\":true,\"ticks\":\"\",\"zerolinecolor\":\"white\",\"gridwidth\":2},\"yaxis\":{\"backgroundcolor\":\"#E5ECF6\",\"gridcolor\":\"white\",\"linecolor\":\"white\",\"showbackground\":true,\"ticks\":\"\",\"zerolinecolor\":\"white\",\"gridwidth\":2},\"zaxis\":{\"backgroundcolor\":\"#E5ECF6\",\"gridcolor\":\"white\",\"linecolor\":\"white\",\"showbackground\":true,\"ticks\":\"\",\"zerolinecolor\":\"white\",\"gridwidth\":2}},\"shapedefaults\":{\"line\":{\"color\":\"#2a3f5f\"}},\"annotationdefaults\":{\"arrowcolor\":\"#2a3f5f\",\"arrowhead\":0,\"arrowwidth\":1},\"geo\":{\"bgcolor\":\"white\",\"landcolor\":\"#E5ECF6\",\"subunitcolor\":\"white\",\"showland\":true,\"showlakes\":true,\"lakecolor\":\"white\"},\"title\":{\"x\":0.05},\"mapbox\":{\"style\":\"light\"}}},\"xaxis\":{\"anchor\":\"y\",\"domain\":[0.0,1.0],\"title\":{\"text\":\"ano\"}},\"yaxis\":{\"anchor\":\"x\",\"domain\":[0.0,1.0],\"title\":{\"text\":\"total emissao\"}},\"legend\":{\"title\":{\"text\":\"nivel_1\"},\"tracegroupgap\":0},\"title\":{\"text\":\"Valores de emissão por ano e categorias de setores\"},\"barmode\":\"group\"},                        {\"responsive\": true}                    ).then(function(){\n",
              "                            \n",
              "var gd = document.getElementById('8861791d-126b-4ec7-a19d-7cb896026954');\n",
              "var x = new MutationObserver(function (mutations, observer) {{\n",
              "        var display = window.getComputedStyle(gd).display;\n",
              "        if (!display || display === 'none') {{\n",
              "            console.log([gd, 'removed!']);\n",
              "            Plotly.purge(gd);\n",
              "            observer.disconnect();\n",
              "        }}\n",
              "}});\n",
              "\n",
              "// Listen for the removal of the full notebook cells\n",
              "var notebookContainer = gd.closest('#notebook-container');\n",
              "if (notebookContainer) {{\n",
              "    x.observe(notebookContainer, {childList: true});\n",
              "}}\n",
              "\n",
              "// Listen for the clearing of the current output cell\n",
              "var outputEl = gd.closest('.output');\n",
              "if (outputEl) {{\n",
              "    x.observe(outputEl, {childList: true});\n",
              "}}\n",
              "\n",
              "                        })                };                            </script>        </div>\n",
              "</body>\n",
              "</html>"
            ]
          },
          "metadata": {},
          "output_type": "display_data"
        }
      ],
      "source": [
        "import plotly.express as px\n",
        "\n",
        "df_setor_pd = df_setor.to_pandas()\n",
        "\n",
        "fig = px.bar(\n",
        "    df_setor_pd,\n",
        "    x = 'ano',\n",
        "    y = 'total emissao',\n",
        "    color = 'nivel_1',\n",
        "    barmode = 'group',\n",
        "    title = 'Valores de emissão por ano e categorias de setores'\n",
        ")\n",
        "fig.show()"
      ]
    },
    {
      "cell_type": "markdown",
      "metadata": {
        "id": "m2XTSElZNn5_"
      },
      "source": [
        "<font size=4>[`plotly.express`](https://plotly.com/python/plotly-express/)</font><br>"
      ]
    },
    {
      "cell_type": "markdown",
      "metadata": {
        "id": "Dh1FiK6ez0ke"
      },
      "source": [
        "# Aula 4 - Entendendo dados climáticos através de agrupamentos"
      ]
    },
    {
      "cell_type": "code",
      "execution_count": null,
      "metadata": {
        "id": "Nlxr7ma0yx_T"
      },
      "outputs": [],
      "source": [
        "url_m = ''"
      ]
    },
    {
      "cell_type": "code",
      "execution_count": null,
      "metadata": {
        "colab": {
          "base_uri": "https://localhost:8080/",
          "height": 361
        },
        "id": "AFyDUyZ0pTNd",
        "outputId": "53fe411f-719b-49c0-c826-055f805970a2"
      },
      "outputs": [
        {
          "data": {
            "text/html": [
              "<div><style>\n",
              ".dataframe > thead > tr,\n",
              ".dataframe > tbody > tr {\n",
              "  text-align: right;\n",
              "  white-space: pre-wrap;\n",
              "}\n",
              "</style>\n",
              "<small>shape: (5, 12)</small><table border=\"1\" class=\"dataframe\"><thead><tr><th>ano</th><th>data</th><th>hora</th><th>id_estacao</th><th>precipitacao_total</th><th>pressao_atm_hora</th><th>radiacao_global</th><th>temperatura_max</th><th>temperatura_min</th><th>umidade_rel_hora</th><th>vento_direcao</th><th>vento_velocidade</th></tr><tr><td>i64</td><td>date</td><td>time</td><td>str</td><td>f64</td><td>f64</td><td>f64</td><td>f64</td><td>f64</td><td>i64</td><td>i64</td><td>f64</td></tr></thead><tbody><tr><td>2023</td><td>2023-10-19</td><td>21:00:00</td><td>&quot;A427&quot;</td><td>0.0</td><td>1006.0</td><td>41.8</td><td>25.9</td><td>24.6</td><td>73</td><td>67</td><td>1.0</td></tr><tr><td>2023</td><td>2023-07-26</td><td>15:00:00</td><td>&quot;A831&quot;</td><td>0.0</td><td>1003.7</td><td>599.4</td><td>14.5</td><td>13.9</td><td>92</td><td>240</td><td>5.2</td></tr><tr><td>2023</td><td>2023-11-13</td><td>21:00:00</td><td>&quot;A939&quot;</td><td>0.0</td><td>983.9</td><td>885.2</td><td>35.1</td><td>33.8</td><td>45</td><td>347</td><td>2.1</td></tr><tr><td>2023</td><td>2023-11-30</td><td>12:00:00</td><td>&quot;A567&quot;</td><td>0.0</td><td>906.0</td><td>1254.2</td><td>21.6</td><td>19.8</td><td>91</td><td>290</td><td>0.7</td></tr><tr><td>2023</td><td>2023-02-24</td><td>06:00:00</td><td>&quot;A254&quot;</td><td>null</td><td>null</td><td>null</td><td>null</td><td>null</td><td>null</td><td>null</td><td>null</td></tr></tbody></table></div>"
            ],
            "text/plain": [
              "shape: (5, 12)\n",
              "┌──────┬────────────┬──────────┬────────────┬───┬────────────┬────────────┬────────────┬───────────┐\n",
              "│ ano  ┆ data       ┆ hora     ┆ id_estacao ┆ … ┆ temperatur ┆ umidade_re ┆ vento_dire ┆ vento_vel │\n",
              "│ ---  ┆ ---        ┆ ---      ┆ ---        ┆   ┆ a_min      ┆ l_hora     ┆ cao        ┆ ocidade   │\n",
              "│ i64  ┆ date       ┆ time     ┆ str        ┆   ┆ ---        ┆ ---        ┆ ---        ┆ ---       │\n",
              "│      ┆            ┆          ┆            ┆   ┆ f64        ┆ i64        ┆ i64        ┆ f64       │\n",
              "╞══════╪════════════╪══════════╪════════════╪═══╪════════════╪════════════╪════════════╪═══════════╡\n",
              "│ 2023 ┆ 2023-10-19 ┆ 21:00:00 ┆ A427       ┆ … ┆ 24.6       ┆ 73         ┆ 67         ┆ 1.0       │\n",
              "│ 2023 ┆ 2023-07-26 ┆ 15:00:00 ┆ A831       ┆ … ┆ 13.9       ┆ 92         ┆ 240        ┆ 5.2       │\n",
              "│ 2023 ┆ 2023-11-13 ┆ 21:00:00 ┆ A939       ┆ … ┆ 33.8       ┆ 45         ┆ 347        ┆ 2.1       │\n",
              "│ 2023 ┆ 2023-11-30 ┆ 12:00:00 ┆ A567       ┆ … ┆ 19.8       ┆ 91         ┆ 290        ┆ 0.7       │\n",
              "│ 2023 ┆ 2023-02-24 ┆ 06:00:00 ┆ A254       ┆ … ┆ null       ┆ null       ┆ null       ┆ null      │\n",
              "└──────┴────────────┴──────────┴────────────┴───┴────────────┴────────────┴────────────┴───────────┘"
            ]
          },
          "execution_count": 34,
          "metadata": {},
          "output_type": "execute_result"
        }
      ],
      "source": [
        "dm = pl.read_csv(url_m, try_parse_dates=True)\n",
        "dm.head()"
      ]
    },
    {
      "cell_type": "markdown",
      "metadata": {
        "id": "EBT84JydpJwn"
      },
      "source": [
        "| Nome     | Descrição       | Tipo    |\n",
        "|---------------------|----------------|---------|\n",
        "| **ano**    | Ano do  registro    | INT64   |\n",
        "| **data**            | Data do registro (formato YYYY-MM-DD)                                     | STRING  |\n",
        "| **hora**            | Hora do registro (formato HH:MM:SS)                                       | STRING  |\n",
        "| **id_estacao**      | Identificador da estação meteorológica    | STRING  |\n",
        "| **precipitacao_total** | Total de precipitação acumulada no período (mm)                           | FLOAT64 |\n",
        "| **pressao_atm_hora** | Pressão atmosférica observada no horário (hPa)                               | FLOAT64 |\n",
        "| **radiacao_global** | Radiação solar global observada (W/m²)                                     | FLOAT64 |\n",
        "| **temperatura_max** | Temperatura máxima registrada (°C)                                        | FLOAT64 |\n",
        "| **temperatura_min** | Temperatura mínima registrada (°C)                                        | FLOAT64 |\n",
        "| **umidade_rel_hora** | Umidade relativa do ar no horário (%)                                      | INT64   |\n",
        "| **vento_direcao**   | Direção do vento em graus (0–360°)                                         | INT64   |\n",
        "| **vento_velocidade**| Velocidade do vento (m/s)                                                 | FLOAT64 |"
      ]
    },
    {
      "cell_type": "code",
      "execution_count": null,
      "metadata": {
        "colab": {
          "base_uri": "https://localhost:8080/",
          "height": 636
        },
        "id": "2EUS7nNnpUlD",
        "outputId": "77026993-a805-464f-91bf-130a57410fde"
      },
      "outputs": [
        {
          "data": {
            "text/html": [
              "<div><style>\n",
              ".dataframe > thead > tr,\n",
              ".dataframe > tbody > tr {\n",
              "  text-align: right;\n",
              "  white-space: pre-wrap;\n",
              "}\n",
              "</style>\n",
              "<small>shape: (7_006_853, 12)</small><table border=\"1\" class=\"dataframe\"><thead><tr><th>ano</th><th>data</th><th>hora</th><th>id_estacao</th><th>precipitacao_total</th><th>pressao_atm_hora</th><th>radiacao_global</th><th>temperatura_max</th><th>temperatura_min</th><th>umidade_rel_hora</th><th>vento_direcao</th><th>vento_velocidade</th></tr><tr><td>i64</td><td>date</td><td>time</td><td>str</td><td>f64</td><td>f64</td><td>f64</td><td>f64</td><td>f64</td><td>i64</td><td>i64</td><td>f64</td></tr></thead><tbody><tr><td>2023</td><td>2023-01-01</td><td>00:00:00</td><td>&quot;A357&quot;</td><td>null</td><td>996.5</td><td>null</td><td>24.2</td><td>22.9</td><td>99</td><td>83</td><td>2.1</td></tr><tr><td>2023</td><td>2023-01-01</td><td>00:00:00</td><td>&quot;A320&quot;</td><td>0.0</td><td>1009.8</td><td>null</td><td>24.2</td><td>23.9</td><td>93</td><td>160</td><td>0.7</td></tr><tr><td>2023</td><td>2023-01-01</td><td>00:00:00</td><td>&quot;A570&quot;</td><td>0.4</td><td>904.1</td><td>null</td><td>19.1</td><td>18.4</td><td>null</td><td>100</td><td>1.9</td></tr><tr><td>2023</td><td>2023-01-01</td><td>00:00:00</td><td>&quot;A205&quot;</td><td>0.0</td><td>990.1</td><td>null</td><td>26.5</td><td>25.8</td><td>89</td><td>44</td><td>1.0</td></tr><tr><td>2023</td><td>2023-01-01</td><td>00:00:00</td><td>&quot;A424&quot;</td><td>0.0</td><td>928.6</td><td>null</td><td>21.0</td><td>20.1</td><td>83</td><td>127</td><td>1.3</td></tr><tr><td>&hellip;</td><td>&hellip;</td><td>&hellip;</td><td>&hellip;</td><td>&hellip;</td><td>&hellip;</td><td>&hellip;</td><td>&hellip;</td><td>&hellip;</td><td>&hellip;</td><td>&hellip;</td><td>&hellip;</td></tr><tr><td>2024</td><td>2024-05-30</td><td>23:00:00</td><td>&quot;A904&quot;</td><td>0.0</td><td>971.8</td><td>null</td><td>27.8</td><td>25.9</td><td>50</td><td>98</td><td>1.5</td></tr><tr><td>2024</td><td>2024-05-30</td><td>23:00:00</td><td>&quot;A422&quot;</td><td>null</td><td>null</td><td>null</td><td>null</td><td>null</td><td>null</td><td>null</td><td>null</td></tr><tr><td>2024</td><td>2024-05-30</td><td>23:00:00</td><td>&quot;A931&quot;</td><td>null</td><td>941.5</td><td>null</td><td>25.8</td><td>23.8</td><td>null</td><td>197</td><td>0.1</td></tr><tr><td>2024</td><td>2024-05-30</td><td>23:00:00</td><td>&quot;A842&quot;</td><td>null</td><td>null</td><td>null</td><td>null</td><td>null</td><td>null</td><td>null</td><td>null</td></tr><tr><td>2024</td><td>2024-05-30</td><td>23:00:00</td><td>&quot;A376&quot;</td><td>null</td><td>999.3</td><td>3.1</td><td>28.6</td><td>26.0</td><td>83</td><td>354</td><td>1.2</td></tr></tbody></table></div>"
            ],
            "text/plain": [
              "shape: (7_006_853, 12)\n",
              "┌──────┬────────────┬──────────┬────────────┬───┬────────────┬────────────┬────────────┬───────────┐\n",
              "│ ano  ┆ data       ┆ hora     ┆ id_estacao ┆ … ┆ temperatur ┆ umidade_re ┆ vento_dire ┆ vento_vel │\n",
              "│ ---  ┆ ---        ┆ ---      ┆ ---        ┆   ┆ a_min      ┆ l_hora     ┆ cao        ┆ ocidade   │\n",
              "│ i64  ┆ date       ┆ time     ┆ str        ┆   ┆ ---        ┆ ---        ┆ ---        ┆ ---       │\n",
              "│      ┆            ┆          ┆            ┆   ┆ f64        ┆ i64        ┆ i64        ┆ f64       │\n",
              "╞══════╪════════════╪══════════╪════════════╪═══╪════════════╪════════════╪════════════╪═══════════╡\n",
              "│ 2023 ┆ 2023-01-01 ┆ 00:00:00 ┆ A357       ┆ … ┆ 22.9       ┆ 99         ┆ 83         ┆ 2.1       │\n",
              "│ 2023 ┆ 2023-01-01 ┆ 00:00:00 ┆ A320       ┆ … ┆ 23.9       ┆ 93         ┆ 160        ┆ 0.7       │\n",
              "│ 2023 ┆ 2023-01-01 ┆ 00:00:00 ┆ A570       ┆ … ┆ 18.4       ┆ null       ┆ 100        ┆ 1.9       │\n",
              "│ 2023 ┆ 2023-01-01 ┆ 00:00:00 ┆ A205       ┆ … ┆ 25.8       ┆ 89         ┆ 44         ┆ 1.0       │\n",
              "│ 2023 ┆ 2023-01-01 ┆ 00:00:00 ┆ A424       ┆ … ┆ 20.1       ┆ 83         ┆ 127        ┆ 1.3       │\n",
              "│ …    ┆ …          ┆ …        ┆ …          ┆ … ┆ …          ┆ …          ┆ …          ┆ …         │\n",
              "│ 2024 ┆ 2024-05-30 ┆ 23:00:00 ┆ A904       ┆ … ┆ 25.9       ┆ 50         ┆ 98         ┆ 1.5       │\n",
              "│ 2024 ┆ 2024-05-30 ┆ 23:00:00 ┆ A422       ┆ … ┆ null       ┆ null       ┆ null       ┆ null      │\n",
              "│ 2024 ┆ 2024-05-30 ┆ 23:00:00 ┆ A931       ┆ … ┆ 23.8       ┆ null       ┆ 197        ┆ 0.1       │\n",
              "│ 2024 ┆ 2024-05-30 ┆ 23:00:00 ┆ A842       ┆ … ┆ null       ┆ null       ┆ null       ┆ null      │\n",
              "│ 2024 ┆ 2024-05-30 ┆ 23:00:00 ┆ A376       ┆ … ┆ 26.0       ┆ 83         ┆ 354        ┆ 1.2       │\n",
              "└──────┴────────────┴──────────┴────────────┴───┴────────────┴────────────┴────────────┴───────────┘"
            ]
          },
          "execution_count": 35,
          "metadata": {},
          "output_type": "execute_result"
        }
      ],
      "source": [
        "dm = dm.sort(['data','hora'])\n",
        "dm"
      ]
    },
    {
      "cell_type": "markdown",
      "metadata": {
        "id": "mtH2X_AOtdaw"
      },
      "source": [
        "## Selecionando dados por estação"
      ]
    },
    {
      "cell_type": "markdown",
      "metadata": {
        "id": "K8ImTRJdzJJW"
      },
      "source": [
        "> O estado do Piauí apresenta temperaturas elevadas durante grande parte do ano, com destaque para o período conhecido como B-R-O BRÓ (setembro a dezembro), quando as temperaturas atingem seus valores mais extremos. Para compreender melhor as condições climáticas nesse período, é preciso analisar a média de precipitação, a umidade relativa e as temperaturas máximas e mínimas em diferentes cidades do estado. Precisamos dessas informações em uma tabela para as cidades de Teresina, Corrente e Piripiri para obter visão mais ampla da variação climática dentro do Piauí, considerando diferentes localizações e altitudes.\n",
        "\n",
        "<font size=2>[Fonte.](https://g1.globo.com/pi/piaui/especial-publicitario/grupo-med-imagem/noticia/2024/09/30/criancas-e-idosos-sao-os-mais-afetados-pelas-altas-temperaturas-do-b-r-o-bro-afirma-especialista-do-grupo-med-imagem.ghtml)</font><br>\n",
        "\n"
      ]
    },
    {
      "cell_type": "markdown",
      "metadata": {
        "id": "tNJI_f2I8JN7"
      },
      "source": [
        "**ID DAS ESTAÇÕES**\n",
        "\n",
        "- TERESINA - `'A312'`\n",
        "- CORRENTE - `'A374'`\n",
        "- PIRIPIRI - `'A335'`"
      ]
    },
    {
      "cell_type": "code",
      "execution_count": null,
      "metadata": {
        "colab": {
          "base_uri": "https://localhost:8080/",
          "height": 636
        },
        "collapsed": true,
        "id": "bdPKKWijpwb9",
        "outputId": "160aed0e-3245-485d-f3c5-a95ea6c4516a"
      },
      "outputs": [
        {
          "data": {
            "text/html": [
              "<div><style>\n",
              ".dataframe > thead > tr,\n",
              ".dataframe > tbody > tr {\n",
              "  text-align: right;\n",
              "  white-space: pre-wrap;\n",
              "}\n",
              "</style>\n",
              "<small>shape: (8_769, 12)</small><table border=\"1\" class=\"dataframe\"><thead><tr><th>ano</th><th>data</th><th>hora</th><th>id_estacao</th><th>precipitacao_total</th><th>pressao_atm_hora</th><th>radiacao_global</th><th>temperatura_max</th><th>temperatura_min</th><th>umidade_rel_hora</th><th>vento_direcao</th><th>vento_velocidade</th></tr><tr><td>i64</td><td>date</td><td>time</td><td>str</td><td>f64</td><td>f64</td><td>f64</td><td>f64</td><td>f64</td><td>i64</td><td>i64</td><td>f64</td></tr></thead><tbody><tr><td>2023</td><td>2023-09-01</td><td>00:00:00</td><td>&quot;A335&quot;</td><td>0.0</td><td>994.4</td><td>null</td><td>28.3</td><td>27.5</td><td>68</td><td>351</td><td>3.3</td></tr><tr><td>2023</td><td>2023-09-01</td><td>00:00:00</td><td>&quot;A374&quot;</td><td>0.0</td><td>960.5</td><td>null</td><td>30.4</td><td>29.9</td><td>50</td><td>322</td><td>1.4</td></tr><tr><td>2023</td><td>2023-09-01</td><td>00:00:00</td><td>&quot;A312&quot;</td><td>0.0</td><td>1003.5</td><td>null</td><td>26.9</td><td>25.8</td><td>78</td><td>156</td><td>0.0</td></tr><tr><td>2023</td><td>2023-09-01</td><td>01:00:00</td><td>&quot;A374&quot;</td><td>0.0</td><td>961.1</td><td>null</td><td>29.9</td><td>29.0</td><td>54</td><td>344</td><td>0.9</td></tr><tr><td>2023</td><td>2023-09-01</td><td>01:00:00</td><td>&quot;A335&quot;</td><td>0.0</td><td>995.0</td><td>null</td><td>27.5</td><td>26.3</td><td>71</td><td>350</td><td>3.3</td></tr><tr><td>&hellip;</td><td>&hellip;</td><td>&hellip;</td><td>&hellip;</td><td>&hellip;</td><td>&hellip;</td><td>&hellip;</td><td>&hellip;</td><td>&hellip;</td><td>&hellip;</td><td>&hellip;</td><td>&hellip;</td></tr><tr><td>2023</td><td>2023-12-31</td><td>22:00:00</td><td>&quot;A374&quot;</td><td>0.2</td><td>960.7</td><td>3.2</td><td>24.3</td><td>23.5</td><td>86</td><td>150</td><td>0.8</td></tr><tr><td>2023</td><td>2023-12-31</td><td>22:00:00</td><td>&quot;A312&quot;</td><td>0.0</td><td>1003.2</td><td>null</td><td>27.8</td><td>27.0</td><td>81</td><td>45</td><td>0.0</td></tr><tr><td>2023</td><td>2023-12-31</td><td>23:00:00</td><td>&quot;A335&quot;</td><td>1.6</td><td>995.9</td><td>null</td><td>24.4</td><td>22.8</td><td>85</td><td>158</td><td>3.5</td></tr><tr><td>2023</td><td>2023-12-31</td><td>23:00:00</td><td>&quot;A374&quot;</td><td>null</td><td>null</td><td>null</td><td>null</td><td>null</td><td>null</td><td>null</td><td>null</td></tr><tr><td>2023</td><td>2023-12-31</td><td>23:00:00</td><td>&quot;A312&quot;</td><td>0.0</td><td>1004.6</td><td>null</td><td>27.1</td><td>26.2</td><td>84</td><td>10</td><td>1.6</td></tr></tbody></table></div>"
            ],
            "text/plain": [
              "shape: (8_769, 12)\n",
              "┌──────┬────────────┬──────────┬────────────┬───┬────────────┬────────────┬────────────┬───────────┐\n",
              "│ ano  ┆ data       ┆ hora     ┆ id_estacao ┆ … ┆ temperatur ┆ umidade_re ┆ vento_dire ┆ vento_vel │\n",
              "│ ---  ┆ ---        ┆ ---      ┆ ---        ┆   ┆ a_min      ┆ l_hora     ┆ cao        ┆ ocidade   │\n",
              "│ i64  ┆ date       ┆ time     ┆ str        ┆   ┆ ---        ┆ ---        ┆ ---        ┆ ---       │\n",
              "│      ┆            ┆          ┆            ┆   ┆ f64        ┆ i64        ┆ i64        ┆ f64       │\n",
              "╞══════╪════════════╪══════════╪════════════╪═══╪════════════╪════════════╪════════════╪═══════════╡\n",
              "│ 2023 ┆ 2023-09-01 ┆ 00:00:00 ┆ A335       ┆ … ┆ 27.5       ┆ 68         ┆ 351        ┆ 3.3       │\n",
              "│ 2023 ┆ 2023-09-01 ┆ 00:00:00 ┆ A374       ┆ … ┆ 29.9       ┆ 50         ┆ 322        ┆ 1.4       │\n",
              "│ 2023 ┆ 2023-09-01 ┆ 00:00:00 ┆ A312       ┆ … ┆ 25.8       ┆ 78         ┆ 156        ┆ 0.0       │\n",
              "│ 2023 ┆ 2023-09-01 ┆ 01:00:00 ┆ A374       ┆ … ┆ 29.0       ┆ 54         ┆ 344        ┆ 0.9       │\n",
              "│ 2023 ┆ 2023-09-01 ┆ 01:00:00 ┆ A335       ┆ … ┆ 26.3       ┆ 71         ┆ 350        ┆ 3.3       │\n",
              "│ …    ┆ …          ┆ …        ┆ …          ┆ … ┆ …          ┆ …          ┆ …          ┆ …         │\n",
              "│ 2023 ┆ 2023-12-31 ┆ 22:00:00 ┆ A374       ┆ … ┆ 23.5       ┆ 86         ┆ 150        ┆ 0.8       │\n",
              "│ 2023 ┆ 2023-12-31 ┆ 22:00:00 ┆ A312       ┆ … ┆ 27.0       ┆ 81         ┆ 45         ┆ 0.0       │\n",
              "│ 2023 ┆ 2023-12-31 ┆ 23:00:00 ┆ A335       ┆ … ┆ 22.8       ┆ 85         ┆ 158        ┆ 3.5       │\n",
              "│ 2023 ┆ 2023-12-31 ┆ 23:00:00 ┆ A374       ┆ … ┆ null       ┆ null       ┆ null       ┆ null      │\n",
              "│ 2023 ┆ 2023-12-31 ┆ 23:00:00 ┆ A312       ┆ … ┆ 26.2       ┆ 84         ┆ 10         ┆ 1.6       │\n",
              "└──────┴────────────┴──────────┴────────────┴───┴────────────┴────────────┴────────────┴───────────┘"
            ]
          },
          "execution_count": 36,
          "metadata": {},
          "output_type": "execute_result"
        }
      ],
      "source": [
        "dm_filtrado = dm.filter(\n",
        "    pl.col('data').dt.month().is_between(9,12),\n",
        "    pl.col('id_estacao').is_in(['A312','A374', 'A335'])\n",
        ")\n",
        "dm_filtrado"
      ]
    },
    {
      "cell_type": "markdown",
      "metadata": {
        "id": "B7tb-C-2pg_n"
      },
      "source": [
        "<font size=4>[`polars.Expr.dt.month`](https://docs.pola.rs/api/python/stable/reference/expressions/api/polars.Expr.dt.month.html)</font><br>"
      ]
    },
    {
      "cell_type": "code",
      "execution_count": null,
      "metadata": {
        "colab": {
          "base_uri": "https://localhost:8080/",
          "height": 636
        },
        "id": "VDHSAS16pznG",
        "outputId": "37044fa6-8136-4557-f83e-56a770ea35ee"
      },
      "outputs": [
        {
          "data": {
            "text/html": [
              "<div><style>\n",
              ".dataframe > thead > tr,\n",
              ".dataframe > tbody > tr {\n",
              "  text-align: right;\n",
              "  white-space: pre-wrap;\n",
              "}\n",
              "</style>\n",
              "<small>shape: (8_769, 14)</small><table border=\"1\" class=\"dataframe\"><thead><tr><th>ano</th><th>data</th><th>hora</th><th>id_estacao</th><th>precipitacao_total</th><th>pressao_atm_hora</th><th>radiacao_global</th><th>temperatura_max</th><th>temperatura_min</th><th>umidade_rel_hora</th><th>vento_direcao</th><th>vento_velocidade</th><th>estacao_nome</th><th>mes</th></tr><tr><td>i64</td><td>date</td><td>time</td><td>str</td><td>f64</td><td>f64</td><td>f64</td><td>f64</td><td>f64</td><td>i64</td><td>i64</td><td>f64</td><td>str</td><td>i8</td></tr></thead><tbody><tr><td>2023</td><td>2023-09-01</td><td>00:00:00</td><td>&quot;A335&quot;</td><td>0.0</td><td>994.4</td><td>null</td><td>28.3</td><td>27.5</td><td>68</td><td>351</td><td>3.3</td><td>&quot;PIRIPIRI (A335)&quot;</td><td>9</td></tr><tr><td>2023</td><td>2023-09-01</td><td>00:00:00</td><td>&quot;A374&quot;</td><td>0.0</td><td>960.5</td><td>null</td><td>30.4</td><td>29.9</td><td>50</td><td>322</td><td>1.4</td><td>&quot;CORRENTE (A374)&quot;</td><td>9</td></tr><tr><td>2023</td><td>2023-09-01</td><td>00:00:00</td><td>&quot;A312&quot;</td><td>0.0</td><td>1003.5</td><td>null</td><td>26.9</td><td>25.8</td><td>78</td><td>156</td><td>0.0</td><td>&quot;TERESINA (A312)&quot;</td><td>9</td></tr><tr><td>2023</td><td>2023-09-01</td><td>01:00:00</td><td>&quot;A374&quot;</td><td>0.0</td><td>961.1</td><td>null</td><td>29.9</td><td>29.0</td><td>54</td><td>344</td><td>0.9</td><td>&quot;CORRENTE (A374)&quot;</td><td>9</td></tr><tr><td>2023</td><td>2023-09-01</td><td>01:00:00</td><td>&quot;A335&quot;</td><td>0.0</td><td>995.0</td><td>null</td><td>27.5</td><td>26.3</td><td>71</td><td>350</td><td>3.3</td><td>&quot;PIRIPIRI (A335)&quot;</td><td>9</td></tr><tr><td>&hellip;</td><td>&hellip;</td><td>&hellip;</td><td>&hellip;</td><td>&hellip;</td><td>&hellip;</td><td>&hellip;</td><td>&hellip;</td><td>&hellip;</td><td>&hellip;</td><td>&hellip;</td><td>&hellip;</td><td>&hellip;</td><td>&hellip;</td></tr><tr><td>2023</td><td>2023-12-31</td><td>22:00:00</td><td>&quot;A374&quot;</td><td>0.2</td><td>960.7</td><td>3.2</td><td>24.3</td><td>23.5</td><td>86</td><td>150</td><td>0.8</td><td>&quot;CORRENTE (A374)&quot;</td><td>12</td></tr><tr><td>2023</td><td>2023-12-31</td><td>22:00:00</td><td>&quot;A312&quot;</td><td>0.0</td><td>1003.2</td><td>null</td><td>27.8</td><td>27.0</td><td>81</td><td>45</td><td>0.0</td><td>&quot;TERESINA (A312)&quot;</td><td>12</td></tr><tr><td>2023</td><td>2023-12-31</td><td>23:00:00</td><td>&quot;A335&quot;</td><td>1.6</td><td>995.9</td><td>null</td><td>24.4</td><td>22.8</td><td>85</td><td>158</td><td>3.5</td><td>&quot;PIRIPIRI (A335)&quot;</td><td>12</td></tr><tr><td>2023</td><td>2023-12-31</td><td>23:00:00</td><td>&quot;A374&quot;</td><td>null</td><td>null</td><td>null</td><td>null</td><td>null</td><td>null</td><td>null</td><td>null</td><td>&quot;CORRENTE (A374)&quot;</td><td>12</td></tr><tr><td>2023</td><td>2023-12-31</td><td>23:00:00</td><td>&quot;A312&quot;</td><td>0.0</td><td>1004.6</td><td>null</td><td>27.1</td><td>26.2</td><td>84</td><td>10</td><td>1.6</td><td>&quot;TERESINA (A312)&quot;</td><td>12</td></tr></tbody></table></div>"
            ],
            "text/plain": [
              "shape: (8_769, 14)\n",
              "┌──────┬────────────┬──────────┬────────────┬───┬──────────────┬──────────────┬──────────────┬─────┐\n",
              "│ ano  ┆ data       ┆ hora     ┆ id_estacao ┆ … ┆ vento_direca ┆ vento_veloci ┆ estacao_nome ┆ mes │\n",
              "│ ---  ┆ ---        ┆ ---      ┆ ---        ┆   ┆ o            ┆ dade         ┆ ---          ┆ --- │\n",
              "│ i64  ┆ date       ┆ time     ┆ str        ┆   ┆ ---          ┆ ---          ┆ str          ┆ i8  │\n",
              "│      ┆            ┆          ┆            ┆   ┆ i64          ┆ f64          ┆              ┆     │\n",
              "╞══════╪════════════╪══════════╪════════════╪═══╪══════════════╪══════════════╪══════════════╪═════╡\n",
              "│ 2023 ┆ 2023-09-01 ┆ 00:00:00 ┆ A335       ┆ … ┆ 351          ┆ 3.3          ┆ PIRIPIRI     ┆ 9   │\n",
              "│      ┆            ┆          ┆            ┆   ┆              ┆              ┆ (A335)       ┆     │\n",
              "│ 2023 ┆ 2023-09-01 ┆ 00:00:00 ┆ A374       ┆ … ┆ 322          ┆ 1.4          ┆ CORRENTE     ┆ 9   │\n",
              "│      ┆            ┆          ┆            ┆   ┆              ┆              ┆ (A374)       ┆     │\n",
              "│ 2023 ┆ 2023-09-01 ┆ 00:00:00 ┆ A312       ┆ … ┆ 156          ┆ 0.0          ┆ TERESINA     ┆ 9   │\n",
              "│      ┆            ┆          ┆            ┆   ┆              ┆              ┆ (A312)       ┆     │\n",
              "│ 2023 ┆ 2023-09-01 ┆ 01:00:00 ┆ A374       ┆ … ┆ 344          ┆ 0.9          ┆ CORRENTE     ┆ 9   │\n",
              "│      ┆            ┆          ┆            ┆   ┆              ┆              ┆ (A374)       ┆     │\n",
              "│ 2023 ┆ 2023-09-01 ┆ 01:00:00 ┆ A335       ┆ … ┆ 350          ┆ 3.3          ┆ PIRIPIRI     ┆ 9   │\n",
              "│      ┆            ┆          ┆            ┆   ┆              ┆              ┆ (A335)       ┆     │\n",
              "│ …    ┆ …          ┆ …        ┆ …          ┆ … ┆ …            ┆ …            ┆ …            ┆ …   │\n",
              "│ 2023 ┆ 2023-12-31 ┆ 22:00:00 ┆ A374       ┆ … ┆ 150          ┆ 0.8          ┆ CORRENTE     ┆ 12  │\n",
              "│      ┆            ┆          ┆            ┆   ┆              ┆              ┆ (A374)       ┆     │\n",
              "│ 2023 ┆ 2023-12-31 ┆ 22:00:00 ┆ A312       ┆ … ┆ 45           ┆ 0.0          ┆ TERESINA     ┆ 12  │\n",
              "│      ┆            ┆          ┆            ┆   ┆              ┆              ┆ (A312)       ┆     │\n",
              "│ 2023 ┆ 2023-12-31 ┆ 23:00:00 ┆ A335       ┆ … ┆ 158          ┆ 3.5          ┆ PIRIPIRI     ┆ 12  │\n",
              "│      ┆            ┆          ┆            ┆   ┆              ┆              ┆ (A335)       ┆     │\n",
              "│ 2023 ┆ 2023-12-31 ┆ 23:00:00 ┆ A374       ┆ … ┆ null         ┆ null         ┆ CORRENTE     ┆ 12  │\n",
              "│      ┆            ┆          ┆            ┆   ┆              ┆              ┆ (A374)       ┆     │\n",
              "│ 2023 ┆ 2023-12-31 ┆ 23:00:00 ┆ A312       ┆ … ┆ 10           ┆ 1.6          ┆ TERESINA     ┆ 12  │\n",
              "│      ┆            ┆          ┆            ┆   ┆              ┆              ┆ (A312)       ┆     │\n",
              "└──────┴────────────┴──────────┴────────────┴───┴──────────────┴──────────────┴──────────────┴─────┘"
            ]
          },
          "execution_count": 37,
          "metadata": {},
          "output_type": "execute_result"
        }
      ],
      "source": [
        "dm_filtrado = dm_filtrado.with_columns(\n",
        "    pl.when(pl.col('id_estacao')=='A312').then(pl.lit('TERESINA (A312)'))\n",
        "    .when(pl.col('id_estacao')=='A374').then(pl.lit('CORRENTE (A374)'))\n",
        "    .when(pl.col('id_estacao')=='A335').then(pl.lit('PIRIPIRI (A335)'))\n",
        "    .alias('estacao_nome'),\n",
        "    pl.col('data').dt.month().alias('mes')\n",
        ")\n",
        "dm_filtrado"
      ]
    },
    {
      "cell_type": "code",
      "execution_count": null,
      "metadata": {
        "colab": {
          "base_uri": "https://localhost:8080/",
          "height": 443
        },
        "id": "kwH6bkQqp2vb",
        "outputId": "3fb1c544-9450-44d4-ce3b-4e91ebbfdf99"
      },
      "outputs": [
        {
          "data": {
            "text/html": [
              "<div><style>\n",
              ".dataframe > thead > tr,\n",
              ".dataframe > tbody > tr {\n",
              "  text-align: right;\n",
              "  white-space: pre-wrap;\n",
              "}\n",
              "</style>\n",
              "<small>shape: (12, 6)</small><table border=\"1\" class=\"dataframe\"><thead><tr><th>estacao_nome</th><th>mes</th><th>precipitacao_media</th><th>umidade_media</th><th>temperatura_max_media</th><th>temperatura_min_media</th></tr><tr><td>str</td><td>i8</td><td>f64</td><td>f64</td><td>f64</td><td>f64</td></tr></thead><tbody><tr><td>&quot;CORRENTE (A374)&quot;</td><td>9</td><td>0.0</td><td>41.855714</td><td>29.467</td><td>27.980429</td></tr><tr><td>&quot;PIRIPIRI (A335)&quot;</td><td>9</td><td>0.0</td><td>55.325</td><td>30.649306</td><td>29.023472</td></tr><tr><td>&quot;TERESINA (A312)&quot;</td><td>9</td><td>0.000278</td><td>54.777778</td><td>30.483333</td><td>28.784583</td></tr><tr><td>&quot;CORRENTE (A374)&quot;</td><td>10</td><td>0.0</td><td>39.118156</td><td>31.701729</td><td>30.246686</td></tr><tr><td>&quot;PIRIPIRI (A335)&quot;</td><td>10</td><td>0.022043</td><td>55.525538</td><td>31.039785</td><td>29.409543</td></tr><tr><td>&hellip;</td><td>&hellip;</td><td>&hellip;</td><td>&hellip;</td><td>&hellip;</td><td>&hellip;</td></tr><tr><td>&quot;PIRIPIRI (A335)&quot;</td><td>11</td><td>0.000833</td><td>55.804167</td><td>31.016667</td><td>29.482778</td></tr><tr><td>&quot;TERESINA (A312)&quot;</td><td>11</td><td>0.012222</td><td>55.426389</td><td>31.142778</td><td>29.603194</td></tr><tr><td>&quot;CORRENTE (A374)&quot;</td><td>12</td><td>0.072783</td><td>56.775915</td><td>29.741006</td><td>28.465244</td></tr><tr><td>&quot;PIRIPIRI (A335)&quot;</td><td>12</td><td>0.170541</td><td>61.372973</td><td>30.495</td><td>29.097297</td></tr><tr><td>&quot;TERESINA (A312)&quot;</td><td>12</td><td>0.095251</td><td>62.405699</td><td>30.303664</td><td>28.966214</td></tr></tbody></table></div>"
            ],
            "text/plain": [
              "shape: (12, 6)\n",
              "┌─────────────────┬─────┬───────────────────┬───────────────┬───────────────────┬──────────────────┐\n",
              "│ estacao_nome    ┆ mes ┆ precipitacao_medi ┆ umidade_media ┆ temperatura_max_m ┆ temperatura_min_ │\n",
              "│ ---             ┆ --- ┆ a                 ┆ ---           ┆ edia              ┆ media            │\n",
              "│ str             ┆ i8  ┆ ---               ┆ f64           ┆ ---               ┆ ---              │\n",
              "│                 ┆     ┆ f64               ┆               ┆ f64               ┆ f64              │\n",
              "╞═════════════════╪═════╪═══════════════════╪═══════════════╪═══════════════════╪══════════════════╡\n",
              "│ CORRENTE (A374) ┆ 9   ┆ 0.0               ┆ 41.855714     ┆ 29.467            ┆ 27.980429        │\n",
              "│ PIRIPIRI (A335) ┆ 9   ┆ 0.0               ┆ 55.325        ┆ 30.649306         ┆ 29.023472        │\n",
              "│ TERESINA (A312) ┆ 9   ┆ 0.000278          ┆ 54.777778     ┆ 30.483333         ┆ 28.784583        │\n",
              "│ CORRENTE (A374) ┆ 10  ┆ 0.0               ┆ 39.118156     ┆ 31.701729         ┆ 30.246686        │\n",
              "│ PIRIPIRI (A335) ┆ 10  ┆ 0.022043          ┆ 55.525538     ┆ 31.039785         ┆ 29.409543        │\n",
              "│ …               ┆ …   ┆ …                 ┆ …             ┆ …                 ┆ …                │\n",
              "│ PIRIPIRI (A335) ┆ 11  ┆ 0.000833          ┆ 55.804167     ┆ 31.016667         ┆ 29.482778        │\n",
              "│ TERESINA (A312) ┆ 11  ┆ 0.012222          ┆ 55.426389     ┆ 31.142778         ┆ 29.603194        │\n",
              "│ CORRENTE (A374) ┆ 12  ┆ 0.072783          ┆ 56.775915     ┆ 29.741006         ┆ 28.465244        │\n",
              "│ PIRIPIRI (A335) ┆ 12  ┆ 0.170541          ┆ 61.372973     ┆ 30.495            ┆ 29.097297        │\n",
              "│ TERESINA (A312) ┆ 12  ┆ 0.095251          ┆ 62.405699     ┆ 30.303664         ┆ 28.966214        │\n",
              "└─────────────────┴─────┴───────────────────┴───────────────┴───────────────────┴──────────────────┘"
            ]
          },
          "execution_count": 38,
          "metadata": {},
          "output_type": "execute_result"
        }
      ],
      "source": [
        "medias = dm_filtrado.group_by(['estacao_nome','mes']).agg([\n",
        "    pl.col('precipitacao_total').mean().alias('precipitacao_media'),\n",
        "    pl.col('umidade_rel_hora').mean().alias('umidade_media'),\n",
        "    pl.col('temperatura_max').mean().alias('temperatura_max_media'),\n",
        "    pl.col('temperatura_min').mean().alias('temperatura_min_media')\n",
        "]).sort(['mes','estacao_nome'])\n",
        "medias"
      ]
    },
    {
      "cell_type": "markdown",
      "metadata": {
        "id": "eXjpyuzGp2-C"
      },
      "source": [
        "<font size=4>[`polars.dataframe.group_by.GroupBy.mean`](https://docs.pola.rs/api/python/stable/reference/dataframe/api/polars.dataframe.group_by.GroupBy.mean.html)</font><br>"
      ]
    },
    {
      "cell_type": "code",
      "execution_count": null,
      "metadata": {
        "colab": {
          "base_uri": "https://localhost:8080/",
          "height": 214
        },
        "id": "wqTeVr0gp9pC",
        "outputId": "1e6bb39f-ecfb-4a29-a037-c20fc3af10c6"
      },
      "outputs": [
        {
          "data": {
            "image/png": "[encoded data removed]",
            "text/plain": [
              "<Figure size 1600x300 with 1 Axes>"
            ]
          },
          "metadata": {},
          "output_type": "display_data"
        }
      ],
      "source": [
        "tabela(medias, 'B-R-O BRÓ: Médias de setembro a dezembro de 2023 Teresina (PI), Corrente (PI) e Piripiri (PI)',\n",
        "       tamanho = (16,3))"
      ]
    },
    {
      "cell_type": "markdown",
      "metadata": {
        "id": "LiXEvLOiOxjj"
      },
      "source": [
        "# Aula 5 - Trabalhando com filtros temporais em estações"
      ]
    },
    {
      "cell_type": "markdown",
      "metadata": {
        "id": "K7Im-HDYOzBY"
      },
      "source": [
        "## Buscando estações do estado do Amazonas"
      ]
    },
    {
      "cell_type": "markdown",
      "metadata": {
        "id": "SoRHf8KXu2oq"
      },
      "source": [
        "> A equipe deseja realizar uma análise específica das estações meteorológicas localizadas no estado do Amazonas (AM). Esse recorte geográfico é relevante porque o Amazonas possui uma grande diversidade climática e desempenha um papel importante no equilíbrio ambiental, influenciando padrões de precipitação e temperatura. Ao filtrar os dados apenas para este estado, será possível investigar com maior precisão variações meteorológicas e correlacioná-las com fenômenos naturais ou impactos ambientais.\n",
        "\n",
        "<font size=2>[Fonte.](https://www.greenpeace.org/brasil/blog/clima-da-amazonia/)</font><br>\n"
      ]
    },
    {
      "cell_type": "code",
      "execution_count": null,
      "metadata": {
        "id": "1pTM-vQiw_w8"
      },
      "outputs": [],
      "source": [
        "url_c = ''"
      ]
    },
    {
      "cell_type": "code",
      "execution_count": null,
      "metadata": {
        "colab": {
          "base_uri": "https://localhost:8080/",
          "height": 254
        },
        "id": "c6zYsGF9qLW0",
        "outputId": "d3e85e8c-f2a4-4d58-c5c7-4cfd15369d65"
      },
      "outputs": [
        {
          "data": {
            "text/html": [
              "<div><style>\n",
              ".dataframe > thead > tr,\n",
              ".dataframe > tbody > tr {\n",
              "  text-align: right;\n",
              "  white-space: pre-wrap;\n",
              "}\n",
              "</style>\n",
              "<small>shape: (5, 8)</small><table border=\"1\" class=\"dataframe\"><thead><tr><th>DC_NOME</th><th>SG_ESTADO</th><th>CD_SITUACAO</th><th>VL_LATITUDE</th><th>VL_LONGITUDE</th><th>VL_ALTITUDE</th><th>DT_INICIO_OPERACAO</th><th>CD_ESTACAO</th></tr><tr><td>str</td><td>str</td><td>str</td><td>str</td><td>str</td><td>str</td><td>str</td><td>str</td></tr></thead><tbody><tr><td>&quot;ABROLHOS&quot;</td><td>&quot;BA&quot;</td><td>&quot;Pane&quot;</td><td>&quot;-17,96305555&quot;</td><td>&quot;-38,70333333&quot;</td><td>&quot;20,93&quot;</td><td>&quot;20/07/2008&quot;</td><td>&quot;A422&quot;</td></tr><tr><td>&quot;ACARAU&quot;</td><td>&quot;CE&quot;</td><td>&quot;Pane&quot;</td><td>&quot;-3,1211111&quot;</td><td>&quot;-40,08722221&quot;</td><td>&quot;67,15&quot;</td><td>&quot;21/04/2009&quot;</td><td>&quot;A360&quot;</td></tr><tr><td>&quot;AFONSO CLAUDIO&quot;</td><td>&quot;ES&quot;</td><td>&quot;Operante&quot;</td><td>&quot;-20,10416666&quot;</td><td>&quot;-41,10694444&quot;</td><td>&quot;507,48&quot;</td><td>&quot;23/09/2011&quot;</td><td>&quot;A657&quot;</td></tr><tr><td>&quot;AGUA BOA&quot;</td><td>&quot;MT&quot;</td><td>&quot;Operante&quot;</td><td>&quot;-14,01638888&quot;</td><td>&quot;-52,21166666&quot;</td><td>&quot;440&quot;</td><td>&quot;15/12/2006&quot;</td><td>&quot;A908&quot;</td></tr><tr><td>&quot;AGUA CLARA&quot;</td><td>&quot;MS&quot;</td><td>&quot;Operante&quot;</td><td>&quot;-20,44444444&quot;</td><td>&quot;-52,87583332&quot;</td><td>&quot;323,63&quot;</td><td>&quot;13/08/2010&quot;</td><td>&quot;A756&quot;</td></tr></tbody></table></div>"
            ],
            "text/plain": [
              "shape: (5, 8)\n",
              "┌────────────┬───────────┬────────────┬────────────┬───────────┬───────────┬───────────┬───────────┐\n",
              "│ DC_NOME    ┆ SG_ESTADO ┆ CD_SITUACA ┆ VL_LATITUD ┆ VL_LONGIT ┆ VL_ALTITU ┆ DT_INICIO ┆ CD_ESTACA │\n",
              "│ ---        ┆ ---       ┆ O          ┆ E          ┆ UDE       ┆ DE        ┆ _OPERACAO ┆ O         │\n",
              "│ str        ┆ str       ┆ ---        ┆ ---        ┆ ---       ┆ ---       ┆ ---       ┆ ---       │\n",
              "│            ┆           ┆ str        ┆ str        ┆ str       ┆ str       ┆ str       ┆ str       │\n",
              "╞════════════╪═══════════╪════════════╪════════════╪═══════════╪═══════════╪═══════════╪═══════════╡\n",
              "│ ABROLHOS   ┆ BA        ┆ Pane       ┆ -17,963055 ┆ -38,70333 ┆ 20,93     ┆ 20/07/200 ┆ A422      │\n",
              "│            ┆           ┆            ┆ 55         ┆ 333       ┆           ┆ 8         ┆           │\n",
              "│ ACARAU     ┆ CE        ┆ Pane       ┆ -3,1211111 ┆ -40,08722 ┆ 67,15     ┆ 21/04/200 ┆ A360      │\n",
              "│            ┆           ┆            ┆            ┆ 221       ┆           ┆ 9         ┆           │\n",
              "│ AFONSO     ┆ ES        ┆ Operante   ┆ -20,104166 ┆ -41,10694 ┆ 507,48    ┆ 23/09/201 ┆ A657      │\n",
              "│ CLAUDIO    ┆           ┆            ┆ 66         ┆ 444       ┆           ┆ 1         ┆           │\n",
              "│ AGUA BOA   ┆ MT        ┆ Operante   ┆ -14,016388 ┆ -52,21166 ┆ 440       ┆ 15/12/200 ┆ A908      │\n",
              "│            ┆           ┆            ┆ 88         ┆ 666       ┆           ┆ 6         ┆           │\n",
              "│ AGUA CLARA ┆ MS        ┆ Operante   ┆ -20,444444 ┆ -52,87583 ┆ 323,63    ┆ 13/08/201 ┆ A756      │\n",
              "│            ┆           ┆            ┆ 44         ┆ 332       ┆           ┆ 0         ┆           │\n",
              "└────────────┴───────────┴────────────┴────────────┴───────────┴───────────┴───────────┴───────────┘"
            ]
          },
          "execution_count": 41,
          "metadata": {},
          "output_type": "execute_result"
        }
      ],
      "source": [
        "ce = pl.read_csv(url_c,separator=';')\n",
        "ce.head()"
      ]
    },
    {
      "cell_type": "markdown",
      "metadata": {
        "id": "GqQ-IfZ9pkT4"
      },
      "source": [
        "| Nome             | Descrição      | Tipo    |\n",
        "|-----------------------|---------------------|---------|\n",
        "| **DC_NOME**      | Nome do local ou denominação da estação meteorológica| STRING  |\n",
        "| **SG_ESTADO**    | Sigla do Estado onde se localiza a estação | STRING  |\n",
        "| **CD_SITUACAO**  | Situação operacional da estação                           | STRING  |\n",
        "| **VL_LATITUDE**  | Latitude da estação | STRING  |\n",
        "| **VL_LONGITUDE** | Longitude da estação| STRING  |\n",
        "| **VL_ALTITUDE**  | Altitude da estação       | STRING  |\n",
        "| **DT_INICIO_OPERACAO**| Data de início de operação da estação | STRING  |\n",
        "| **CD_ESTACAO**   | Código único que identifica a estação  | STRING  |"
      ]
    },
    {
      "cell_type": "code",
      "execution_count": null,
      "metadata": {
        "colab": {
          "base_uri": "https://localhost:8080/",
          "height": 443
        },
        "id": "EhFs0l8rqMYl",
        "outputId": "902a6d56-4e5c-49de-c8ec-8c1f11179177"
      },
      "outputs": [
        {
          "data": {
            "text/html": [
              "<div><style>\n",
              ".dataframe > thead > tr,\n",
              ".dataframe > tbody > tr {\n",
              "  text-align: right;\n",
              "  white-space: pre-wrap;\n",
              "}\n",
              "</style>\n",
              "<small>shape: (19, 2)</small><table border=\"1\" class=\"dataframe\"><thead><tr><th>DC_NOME</th><th>CD_ESTACAO</th></tr><tr><td>str</td><td>str</td></tr></thead><tbody><tr><td>&quot;APUI&quot;</td><td>&quot;A113&quot;</td></tr><tr><td>&quot;AUTAZES&quot;</td><td>&quot;A120&quot;</td></tr><tr><td>&quot;BARCELOS&quot;</td><td>&quot;A128&quot;</td></tr><tr><td>&quot;BOCA DO ACRE&quot;</td><td>&quot;A110&quot;</td></tr><tr><td>&quot;COARI&quot;</td><td>&quot;A117&quot;</td></tr><tr><td>&hellip;</td><td>&hellip;</td></tr><tr><td>&quot;PARINTINS&quot;</td><td>&quot;A123&quot;</td></tr><tr><td>&quot;PRESIDENTE FIGUEIREDO&quot;</td><td>&quot;A126&quot;</td></tr><tr><td>&quot;RIO URUBU&quot;</td><td>&quot;A125&quot;</td></tr><tr><td>&quot;S, G. DA CACHOEIRA&quot;</td><td>&quot;A134&quot;</td></tr><tr><td>&quot;URUCARA&quot;</td><td>&quot;A124&quot;</td></tr></tbody></table></div>"
            ],
            "text/plain": [
              "shape: (19, 2)\n",
              "┌───────────────────────┬────────────┐\n",
              "│ DC_NOME               ┆ CD_ESTACAO │\n",
              "│ ---                   ┆ ---        │\n",
              "│ str                   ┆ str        │\n",
              "╞═══════════════════════╪════════════╡\n",
              "│ APUI                  ┆ A113       │\n",
              "│ AUTAZES               ┆ A120       │\n",
              "│ BARCELOS              ┆ A128       │\n",
              "│ BOCA DO ACRE          ┆ A110       │\n",
              "│ COARI                 ┆ A117       │\n",
              "│ …                     ┆ …          │\n",
              "│ PARINTINS             ┆ A123       │\n",
              "│ PRESIDENTE FIGUEIREDO ┆ A126       │\n",
              "│ RIO URUBU             ┆ A125       │\n",
              "│ S, G. DA CACHOEIRA    ┆ A134       │\n",
              "│ URUCARA               ┆ A124       │\n",
              "└───────────────────────┴────────────┘"
            ]
          },
          "execution_count": 42,
          "metadata": {},
          "output_type": "execute_result"
        }
      ],
      "source": [
        "ce_am = ce.filter(pl.col('SG_ESTADO')=='AM').select(['DC_NOME','CD_ESTACAO'])\n",
        "ce_am"
      ]
    },
    {
      "cell_type": "code",
      "execution_count": null,
      "metadata": {
        "colab": {
          "base_uri": "https://localhost:8080/",
          "height": 636
        },
        "id": "39v2XIPPqN9S",
        "outputId": "c1819089-111a-4079-beee-2450200f0313"
      },
      "outputs": [
        {
          "data": {
            "text/html": [
              "<div><style>\n",
              ".dataframe > thead > tr,\n",
              ".dataframe > tbody > tr {\n",
              "  text-align: right;\n",
              "  white-space: pre-wrap;\n",
              "}\n",
              "</style>\n",
              "<small>shape: (235_021, 12)</small><table border=\"1\" class=\"dataframe\"><thead><tr><th>ano</th><th>data</th><th>hora</th><th>id_estacao</th><th>precipitacao_total</th><th>pressao_atm_hora</th><th>radiacao_global</th><th>temperatura_max</th><th>temperatura_min</th><th>umidade_rel_hora</th><th>vento_direcao</th><th>vento_velocidade</th></tr><tr><td>i64</td><td>date</td><td>time</td><td>str</td><td>f64</td><td>f64</td><td>f64</td><td>f64</td><td>f64</td><td>i64</td><td>i64</td><td>f64</td></tr></thead><tbody><tr><td>2023</td><td>2023-01-01</td><td>00:00:00</td><td>&quot;A126&quot;</td><td>0.0</td><td>1003.9</td><td>0.0</td><td>23.4</td><td>23.3</td><td>94</td><td>197</td><td>0.0</td></tr><tr><td>2023</td><td>2023-01-01</td><td>00:00:00</td><td>&quot;A121&quot;</td><td>null</td><td>1006.0</td><td>0.0</td><td>23.6</td><td>23.3</td><td>94</td><td>295</td><td>0.8</td></tr><tr><td>2023</td><td>2023-01-01</td><td>00:00:00</td><td>&quot;A134&quot;</td><td>0.0</td><td>1000.2</td><td>0.0</td><td>24.1</td><td>23.3</td><td>83</td><td>81</td><td>null</td></tr><tr><td>2023</td><td>2023-01-01</td><td>00:00:00</td><td>&quot;A123&quot;</td><td>28.6</td><td>1009.3</td><td>1.3</td><td>25.4</td><td>22.9</td><td>98</td><td>187</td><td>4.6</td></tr><tr><td>2023</td><td>2023-01-01</td><td>00:00:00</td><td>&quot;A109&quot;</td><td>null</td><td>null</td><td>null</td><td>null</td><td>null</td><td>null</td><td>null</td><td>null</td></tr><tr><td>&hellip;</td><td>&hellip;</td><td>&hellip;</td><td>&hellip;</td><td>&hellip;</td><td>&hellip;</td><td>&hellip;</td><td>&hellip;</td><td>&hellip;</td><td>&hellip;</td><td>&hellip;</td><td>&hellip;</td></tr><tr><td>2024</td><td>2024-05-30</td><td>23:00:00</td><td>&quot;A125&quot;</td><td>0.0</td><td>1007.5</td><td>null</td><td>24.3</td><td>23.9</td><td>98</td><td>335</td><td>0.0</td></tr><tr><td>2024</td><td>2024-05-30</td><td>23:00:00</td><td>&quot;A111&quot;</td><td>0.0</td><td>1007.1</td><td>1.7</td><td>26.7</td><td>25.6</td><td>74</td><td>261</td><td>0.1</td></tr><tr><td>2024</td><td>2024-05-30</td><td>23:00:00</td><td>&quot;A120&quot;</td><td>0.0</td><td>1009.9</td><td>0.0</td><td>25.9</td><td>25.1</td><td>93</td><td>228</td><td>null</td></tr><tr><td>2024</td><td>2024-05-30</td><td>23:00:00</td><td>&quot;A112&quot;</td><td>0.0</td><td>1007.2</td><td>0.1</td><td>27.2</td><td>24.6</td><td>84</td><td>213</td><td>1.0</td></tr><tr><td>2024</td><td>2024-05-30</td><td>23:00:00</td><td>&quot;A121&quot;</td><td>null</td><td>null</td><td>null</td><td>null</td><td>null</td><td>null</td><td>null</td><td>null</td></tr></tbody></table></div>"
            ],
            "text/plain": [
              "shape: (235_021, 12)\n",
              "┌──────┬────────────┬──────────┬────────────┬───┬────────────┬────────────┬────────────┬───────────┐\n",
              "│ ano  ┆ data       ┆ hora     ┆ id_estacao ┆ … ┆ temperatur ┆ umidade_re ┆ vento_dire ┆ vento_vel │\n",
              "│ ---  ┆ ---        ┆ ---      ┆ ---        ┆   ┆ a_min      ┆ l_hora     ┆ cao        ┆ ocidade   │\n",
              "│ i64  ┆ date       ┆ time     ┆ str        ┆   ┆ ---        ┆ ---        ┆ ---        ┆ ---       │\n",
              "│      ┆            ┆          ┆            ┆   ┆ f64        ┆ i64        ┆ i64        ┆ f64       │\n",
              "╞══════╪════════════╪══════════╪════════════╪═══╪════════════╪════════════╪════════════╪═══════════╡\n",
              "│ 2023 ┆ 2023-01-01 ┆ 00:00:00 ┆ A126       ┆ … ┆ 23.3       ┆ 94         ┆ 197        ┆ 0.0       │\n",
              "│ 2023 ┆ 2023-01-01 ┆ 00:00:00 ┆ A121       ┆ … ┆ 23.3       ┆ 94         ┆ 295        ┆ 0.8       │\n",
              "│ 2023 ┆ 2023-01-01 ┆ 00:00:00 ┆ A134       ┆ … ┆ 23.3       ┆ 83         ┆ 81         ┆ null      │\n",
              "│ 2023 ┆ 2023-01-01 ┆ 00:00:00 ┆ A123       ┆ … ┆ 22.9       ┆ 98         ┆ 187        ┆ 4.6       │\n",
              "│ 2023 ┆ 2023-01-01 ┆ 00:00:00 ┆ A109       ┆ … ┆ null       ┆ null       ┆ null       ┆ null      │\n",
              "│ …    ┆ …          ┆ …        ┆ …          ┆ … ┆ …          ┆ …          ┆ …          ┆ …         │\n",
              "│ 2024 ┆ 2024-05-30 ┆ 23:00:00 ┆ A125       ┆ … ┆ 23.9       ┆ 98         ┆ 335        ┆ 0.0       │\n",
              "│ 2024 ┆ 2024-05-30 ┆ 23:00:00 ┆ A111       ┆ … ┆ 25.6       ┆ 74         ┆ 261        ┆ 0.1       │\n",
              "│ 2024 ┆ 2024-05-30 ┆ 23:00:00 ┆ A120       ┆ … ┆ 25.1       ┆ 93         ┆ 228        ┆ null      │\n",
              "│ 2024 ┆ 2024-05-30 ┆ 23:00:00 ┆ A112       ┆ … ┆ 24.6       ┆ 84         ┆ 213        ┆ 1.0       │\n",
              "│ 2024 ┆ 2024-05-30 ┆ 23:00:00 ┆ A121       ┆ … ┆ null       ┆ null       ┆ null       ┆ null      │\n",
              "└──────┴────────────┴──────────┴────────────┴───┴────────────┴────────────┴────────────┴───────────┘"
            ]
          },
          "execution_count": 43,
          "metadata": {},
          "output_type": "execute_result"
        }
      ],
      "source": [
        "dm_am = dm.filter(pl.col('id_estacao').is_in(ce_am['CD_ESTACAO']))\n",
        "dm_am"
      ]
    },
    {
      "cell_type": "code",
      "execution_count": null,
      "metadata": {
        "colab": {
          "base_uri": "https://localhost:8080/",
          "height": 636
        },
        "id": "WkQyJamnqQWW",
        "outputId": "7f3a3440-058d-49b6-cbaf-2b2d7f0820de"
      },
      "outputs": [
        {
          "data": {
            "text/html": [
              "<div><style>\n",
              ".dataframe > thead > tr,\n",
              ".dataframe > tbody > tr {\n",
              "  text-align: right;\n",
              "  white-space: pre-wrap;\n",
              "}\n",
              "</style>\n",
              "<small>shape: (235_021, 13)</small><table border=\"1\" class=\"dataframe\"><thead><tr><th>ano</th><th>data</th><th>hora</th><th>id_estacao</th><th>precipitacao_total</th><th>pressao_atm_hora</th><th>radiacao_global</th><th>temperatura_max</th><th>temperatura_min</th><th>umidade_rel_hora</th><th>vento_direcao</th><th>vento_velocidade</th><th>DC_NOME</th></tr><tr><td>i64</td><td>date</td><td>time</td><td>str</td><td>f64</td><td>f64</td><td>f64</td><td>f64</td><td>f64</td><td>i64</td><td>i64</td><td>f64</td><td>str</td></tr></thead><tbody><tr><td>2023</td><td>2023-01-01</td><td>00:00:00</td><td>&quot;A126&quot;</td><td>0.0</td><td>1003.9</td><td>0.0</td><td>23.4</td><td>23.3</td><td>94</td><td>197</td><td>0.0</td><td>&quot;PRESIDENTE FIGUEIREDO&quot;</td></tr><tr><td>2023</td><td>2023-01-01</td><td>00:00:00</td><td>&quot;A121&quot;</td><td>null</td><td>1006.0</td><td>0.0</td><td>23.6</td><td>23.3</td><td>94</td><td>295</td><td>0.8</td><td>&quot;ITACOATIARA&quot;</td></tr><tr><td>2023</td><td>2023-01-01</td><td>00:00:00</td><td>&quot;A134&quot;</td><td>0.0</td><td>1000.2</td><td>0.0</td><td>24.1</td><td>23.3</td><td>83</td><td>81</td><td>null</td><td>&quot;S, G. DA CACHOEIRA&quot;</td></tr><tr><td>2023</td><td>2023-01-01</td><td>00:00:00</td><td>&quot;A123&quot;</td><td>28.6</td><td>1009.3</td><td>1.3</td><td>25.4</td><td>22.9</td><td>98</td><td>187</td><td>4.6</td><td>&quot;PARINTINS&quot;</td></tr><tr><td>2023</td><td>2023-01-01</td><td>00:00:00</td><td>&quot;A109&quot;</td><td>null</td><td>null</td><td>null</td><td>null</td><td>null</td><td>null</td><td>null</td><td>null</td><td>&quot;EIRUNEPE&quot;</td></tr><tr><td>&hellip;</td><td>&hellip;</td><td>&hellip;</td><td>&hellip;</td><td>&hellip;</td><td>&hellip;</td><td>&hellip;</td><td>&hellip;</td><td>&hellip;</td><td>&hellip;</td><td>&hellip;</td><td>&hellip;</td><td>&hellip;</td></tr><tr><td>2024</td><td>2024-05-30</td><td>23:00:00</td><td>&quot;A125&quot;</td><td>0.0</td><td>1007.5</td><td>null</td><td>24.3</td><td>23.9</td><td>98</td><td>335</td><td>0.0</td><td>&quot;RIO URUBU&quot;</td></tr><tr><td>2024</td><td>2024-05-30</td><td>23:00:00</td><td>&quot;A111&quot;</td><td>0.0</td><td>1007.1</td><td>1.7</td><td>26.7</td><td>25.6</td><td>74</td><td>261</td><td>0.1</td><td>&quot;LABREA&quot;</td></tr><tr><td>2024</td><td>2024-05-30</td><td>23:00:00</td><td>&quot;A120&quot;</td><td>0.0</td><td>1009.9</td><td>0.0</td><td>25.9</td><td>25.1</td><td>93</td><td>228</td><td>null</td><td>&quot;AUTAZES&quot;</td></tr><tr><td>2024</td><td>2024-05-30</td><td>23:00:00</td><td>&quot;A112&quot;</td><td>0.0</td><td>1007.2</td><td>0.1</td><td>27.2</td><td>24.6</td><td>84</td><td>213</td><td>1.0</td><td>&quot;HUMAITA&quot;</td></tr><tr><td>2024</td><td>2024-05-30</td><td>23:00:00</td><td>&quot;A121&quot;</td><td>null</td><td>null</td><td>null</td><td>null</td><td>null</td><td>null</td><td>null</td><td>null</td><td>&quot;ITACOATIARA&quot;</td></tr></tbody></table></div>"
            ],
            "text/plain": [
              "shape: (235_021, 13)\n",
              "┌──────┬────────────┬──────────┬────────────┬───┬────────────┬────────────┬────────────┬───────────┐\n",
              "│ ano  ┆ data       ┆ hora     ┆ id_estacao ┆ … ┆ umidade_re ┆ vento_dire ┆ vento_velo ┆ DC_NOME   │\n",
              "│ ---  ┆ ---        ┆ ---      ┆ ---        ┆   ┆ l_hora     ┆ cao        ┆ cidade     ┆ ---       │\n",
              "│ i64  ┆ date       ┆ time     ┆ str        ┆   ┆ ---        ┆ ---        ┆ ---        ┆ str       │\n",
              "│      ┆            ┆          ┆            ┆   ┆ i64        ┆ i64        ┆ f64        ┆           │\n",
              "╞══════╪════════════╪══════════╪════════════╪═══╪════════════╪════════════╪════════════╪═══════════╡\n",
              "│ 2023 ┆ 2023-01-01 ┆ 00:00:00 ┆ A126       ┆ … ┆ 94         ┆ 197        ┆ 0.0        ┆ PRESIDENT │\n",
              "│      ┆            ┆          ┆            ┆   ┆            ┆            ┆            ┆ E FIGUEIR │\n",
              "│      ┆            ┆          ┆            ┆   ┆            ┆            ┆            ┆ EDO       │\n",
              "│ 2023 ┆ 2023-01-01 ┆ 00:00:00 ┆ A121       ┆ … ┆ 94         ┆ 295        ┆ 0.8        ┆ ITACOATIA │\n",
              "│      ┆            ┆          ┆            ┆   ┆            ┆            ┆            ┆ RA        │\n",
              "│ 2023 ┆ 2023-01-01 ┆ 00:00:00 ┆ A134       ┆ … ┆ 83         ┆ 81         ┆ null       ┆ S, G. DA  │\n",
              "│      ┆            ┆          ┆            ┆   ┆            ┆            ┆            ┆ CACHOEIRA │\n",
              "│ 2023 ┆ 2023-01-01 ┆ 00:00:00 ┆ A123       ┆ … ┆ 98         ┆ 187        ┆ 4.6        ┆ PARINTINS │\n",
              "│ 2023 ┆ 2023-01-01 ┆ 00:00:00 ┆ A109       ┆ … ┆ null       ┆ null       ┆ null       ┆ EIRUNEPE  │\n",
              "│ …    ┆ …          ┆ …        ┆ …          ┆ … ┆ …          ┆ …          ┆ …          ┆ …         │\n",
              "│ 2024 ┆ 2024-05-30 ┆ 23:00:00 ┆ A125       ┆ … ┆ 98         ┆ 335        ┆ 0.0        ┆ RIO URUBU │\n",
              "│ 2024 ┆ 2024-05-30 ┆ 23:00:00 ┆ A111       ┆ … ┆ 74         ┆ 261        ┆ 0.1        ┆ LABREA    │\n",
              "│ 2024 ┆ 2024-05-30 ┆ 23:00:00 ┆ A120       ┆ … ┆ 93         ┆ 228        ┆ null       ┆ AUTAZES   │\n",
              "│ 2024 ┆ 2024-05-30 ┆ 23:00:00 ┆ A112       ┆ … ┆ 84         ┆ 213        ┆ 1.0        ┆ HUMAITA   │\n",
              "│ 2024 ┆ 2024-05-30 ┆ 23:00:00 ┆ A121       ┆ … ┆ null       ┆ null       ┆ null       ┆ ITACOATIA │\n",
              "│      ┆            ┆          ┆            ┆   ┆            ┆            ┆            ┆ RA        │\n",
              "└──────┴────────────┴──────────┴────────────┴───┴────────────┴────────────┴────────────┴───────────┘"
            ]
          },
          "execution_count": 44,
          "metadata": {},
          "output_type": "execute_result"
        }
      ],
      "source": [
        "dm_am = dm_am.join(ce_am,left_on='id_estacao', right_on='CD_ESTACAO',how = 'left')\n",
        "dm_am"
      ]
    },
    {
      "cell_type": "markdown",
      "metadata": {
        "id": "o5scyK1hqTx7"
      },
      "source": [
        "<font size=4>[`polars.DataFrame.join`](https://docs.pola.rs/api/python/stable/reference/dataframe/api/polars.DataFrame.join.html)</font><br>"
      ]
    },
    {
      "cell_type": "code",
      "execution_count": null,
      "metadata": {
        "id": "GQVqWoheqaIp"
      },
      "outputs": [],
      "source": [
        "dm_am.write_csv('Dados meteorologicos - ESTACOES AM.csv')"
      ]
    },
    {
      "cell_type": "markdown",
      "metadata": {
        "id": "pZw814J0EeUI"
      },
      "source": [
        "## Trabalhando com intervalo de datas"
      ]
    },
    {
      "cell_type": "markdown",
      "metadata": {
        "id": "WpsR23sfM3f9"
      },
      "source": [
        "> A equipe deseja analisar a variação das temperaturas máximas registradas nas estações meteorológicas do Amazonas ao longo do período do último ano. Esse tipo de análise permite identificar padrões sazonais, extremos térmicos e potenciais tendências climáticas que possam impactar a região. Essas variações podem auxiliar em estudos ambientais e na formulação de políticas públicas.\n"
      ]
    },
    {
      "cell_type": "code",
      "execution_count": null,
      "metadata": {
        "colab": {
          "base_uri": "https://localhost:8080/",
          "height": 636
        },
        "id": "TfpSHclNqkeq",
        "outputId": "dc4fb5d5-10a6-45c2-a5b2-8d16078d05ae"
      },
      "outputs": [
        {
          "data": {
            "text/html": [
              "<div><style>\n",
              ".dataframe > thead > tr,\n",
              ".dataframe > tbody > tr {\n",
              "  text-align: right;\n",
              "  white-space: pre-wrap;\n",
              "}\n",
              "</style>\n",
              "<small>shape: (166_308, 13)</small><table border=\"1\" class=\"dataframe\"><thead><tr><th>ano</th><th>data</th><th>hora</th><th>id_estacao</th><th>precipitacao_total</th><th>pressao_atm_hora</th><th>radiacao_global</th><th>temperatura_max</th><th>temperatura_min</th><th>umidade_rel_hora</th><th>vento_direcao</th><th>vento_velocidade</th><th>DC_NOME</th></tr><tr><td>i64</td><td>date</td><td>time</td><td>str</td><td>f64</td><td>f64</td><td>f64</td><td>f64</td><td>f64</td><td>i64</td><td>i64</td><td>f64</td><td>str</td></tr></thead><tbody><tr><td>2023</td><td>2023-06-01</td><td>00:00:00</td><td>&quot;A144&quot;</td><td>0.0</td><td>1008.0</td><td>null</td><td>26.8</td><td>26.6</td><td>95</td><td>318</td><td>0.2</td><td>&quot;NOVO ARIPUANA&quot;</td></tr><tr><td>2023</td><td>2023-06-01</td><td>00:00:00</td><td>&quot;A110&quot;</td><td>0.0</td><td>1001.3</td><td>null</td><td>26.2</td><td>25.5</td><td>83</td><td>238</td><td>1.7</td><td>&quot;BOCA DO ACRE&quot;</td></tr><tr><td>2023</td><td>2023-06-01</td><td>00:00:00</td><td>&quot;A126&quot;</td><td>null</td><td>null</td><td>null</td><td>null</td><td>null</td><td>null</td><td>null</td><td>null</td><td>&quot;PRESIDENTE FIGUEIREDO&quot;</td></tr><tr><td>2023</td><td>2023-06-01</td><td>00:00:00</td><td>&quot;A128&quot;</td><td>0.0</td><td>1007.6</td><td>0.0</td><td>26.6</td><td>26.1</td><td>92</td><td>9</td><td>0.0</td><td>&quot;BARCELOS&quot;</td></tr><tr><td>2023</td><td>2023-06-01</td><td>00:00:00</td><td>&quot;A133&quot;</td><td>0.0</td><td>1007.5</td><td>null</td><td>25.9</td><td>25.5</td><td>86</td><td>210</td><td>1.0</td><td>&quot;MANICORE&quot;</td></tr><tr><td>&hellip;</td><td>&hellip;</td><td>&hellip;</td><td>&hellip;</td><td>&hellip;</td><td>&hellip;</td><td>&hellip;</td><td>&hellip;</td><td>&hellip;</td><td>&hellip;</td><td>&hellip;</td><td>&hellip;</td><td>&hellip;</td></tr><tr><td>2024</td><td>2024-05-30</td><td>23:00:00</td><td>&quot;A125&quot;</td><td>0.0</td><td>1007.5</td><td>null</td><td>24.3</td><td>23.9</td><td>98</td><td>335</td><td>0.0</td><td>&quot;RIO URUBU&quot;</td></tr><tr><td>2024</td><td>2024-05-30</td><td>23:00:00</td><td>&quot;A111&quot;</td><td>0.0</td><td>1007.1</td><td>1.7</td><td>26.7</td><td>25.6</td><td>74</td><td>261</td><td>0.1</td><td>&quot;LABREA&quot;</td></tr><tr><td>2024</td><td>2024-05-30</td><td>23:00:00</td><td>&quot;A120&quot;</td><td>0.0</td><td>1009.9</td><td>0.0</td><td>25.9</td><td>25.1</td><td>93</td><td>228</td><td>null</td><td>&quot;AUTAZES&quot;</td></tr><tr><td>2024</td><td>2024-05-30</td><td>23:00:00</td><td>&quot;A112&quot;</td><td>0.0</td><td>1007.2</td><td>0.1</td><td>27.2</td><td>24.6</td><td>84</td><td>213</td><td>1.0</td><td>&quot;HUMAITA&quot;</td></tr><tr><td>2024</td><td>2024-05-30</td><td>23:00:00</td><td>&quot;A121&quot;</td><td>null</td><td>null</td><td>null</td><td>null</td><td>null</td><td>null</td><td>null</td><td>null</td><td>&quot;ITACOATIARA&quot;</td></tr></tbody></table></div>"
            ],
            "text/plain": [
              "shape: (166_308, 13)\n",
              "┌──────┬────────────┬──────────┬────────────┬───┬────────────┬────────────┬────────────┬───────────┐\n",
              "│ ano  ┆ data       ┆ hora     ┆ id_estacao ┆ … ┆ umidade_re ┆ vento_dire ┆ vento_velo ┆ DC_NOME   │\n",
              "│ ---  ┆ ---        ┆ ---      ┆ ---        ┆   ┆ l_hora     ┆ cao        ┆ cidade     ┆ ---       │\n",
              "│ i64  ┆ date       ┆ time     ┆ str        ┆   ┆ ---        ┆ ---        ┆ ---        ┆ str       │\n",
              "│      ┆            ┆          ┆            ┆   ┆ i64        ┆ i64        ┆ f64        ┆           │\n",
              "╞══════╪════════════╪══════════╪════════════╪═══╪════════════╪════════════╪════════════╪═══════════╡\n",
              "│ 2023 ┆ 2023-06-01 ┆ 00:00:00 ┆ A144       ┆ … ┆ 95         ┆ 318        ┆ 0.2        ┆ NOVO      │\n",
              "│      ┆            ┆          ┆            ┆   ┆            ┆            ┆            ┆ ARIPUANA  │\n",
              "│ 2023 ┆ 2023-06-01 ┆ 00:00:00 ┆ A110       ┆ … ┆ 83         ┆ 238        ┆ 1.7        ┆ BOCA DO   │\n",
              "│      ┆            ┆          ┆            ┆   ┆            ┆            ┆            ┆ ACRE      │\n",
              "│ 2023 ┆ 2023-06-01 ┆ 00:00:00 ┆ A126       ┆ … ┆ null       ┆ null       ┆ null       ┆ PRESIDENT │\n",
              "│      ┆            ┆          ┆            ┆   ┆            ┆            ┆            ┆ E FIGUEIR │\n",
              "│      ┆            ┆          ┆            ┆   ┆            ┆            ┆            ┆ EDO       │\n",
              "│ 2023 ┆ 2023-06-01 ┆ 00:00:00 ┆ A128       ┆ … ┆ 92         ┆ 9          ┆ 0.0        ┆ BARCELOS  │\n",
              "│ 2023 ┆ 2023-06-01 ┆ 00:00:00 ┆ A133       ┆ … ┆ 86         ┆ 210        ┆ 1.0        ┆ MANICORE  │\n",
              "│ …    ┆ …          ┆ …        ┆ …          ┆ … ┆ …          ┆ …          ┆ …          ┆ …         │\n",
              "│ 2024 ┆ 2024-05-30 ┆ 23:00:00 ┆ A125       ┆ … ┆ 98         ┆ 335        ┆ 0.0        ┆ RIO URUBU │\n",
              "│ 2024 ┆ 2024-05-30 ┆ 23:00:00 ┆ A111       ┆ … ┆ 74         ┆ 261        ┆ 0.1        ┆ LABREA    │\n",
              "│ 2024 ┆ 2024-05-30 ┆ 23:00:00 ┆ A120       ┆ … ┆ 93         ┆ 228        ┆ null       ┆ AUTAZES   │\n",
              "│ 2024 ┆ 2024-05-30 ┆ 23:00:00 ┆ A112       ┆ … ┆ 84         ┆ 213        ┆ 1.0        ┆ HUMAITA   │\n",
              "│ 2024 ┆ 2024-05-30 ┆ 23:00:00 ┆ A121       ┆ … ┆ null       ┆ null       ┆ null       ┆ ITACOATIA │\n",
              "│      ┆            ┆          ┆            ┆   ┆            ┆            ┆            ┆ RA        │\n",
              "└──────┴────────────┴──────────┴────────────┴───┴────────────┴────────────┴────────────┴───────────┘"
            ]
          },
          "execution_count": 46,
          "metadata": {},
          "output_type": "execute_result"
        }
      ],
      "source": [
        "data_inicio = pl.datetime(2023, 6, 1)\n",
        "data_fim = pl.datetime(2024, 5, 30)\n",
        "\n",
        "dm_am_filtrado = dm_am.filter(\n",
        "    pl.col('data') >= data_inicio,\n",
        "    pl.col('data') <= data_fim\n",
        ")\n",
        "dm_am_filtrado"
      ]
    },
    {
      "cell_type": "markdown",
      "metadata": {
        "id": "4csLJV8sqoEZ"
      },
      "source": [
        "<font size=4>[`polars.datetime`](https://docs.pola.rs/api/python/stable/reference/expressions/api/polars.datetime.html)</font><br>"
      ]
    },
    {
      "cell_type": "code",
      "execution_count": null,
      "metadata": {
        "colab": {
          "base_uri": "https://localhost:8080/",
          "height": 636
        },
        "id": "p6ZawXJWq_aS",
        "outputId": "f2265656-b264-484f-d53f-6d6a89decdd2"
      },
      "outputs": [
        {
          "data": {
            "text/html": [
              "<div><style>\n",
              ".dataframe > thead > tr,\n",
              ".dataframe > tbody > tr {\n",
              "  text-align: right;\n",
              "  white-space: pre-wrap;\n",
              "}\n",
              "</style>\n",
              "<small>shape: (166_308, 14)</small><table border=\"1\" class=\"dataframe\"><thead><tr><th>ano</th><th>data</th><th>hora</th><th>id_estacao</th><th>precipitacao_total</th><th>pressao_atm_hora</th><th>radiacao_global</th><th>temperatura_max</th><th>temperatura_min</th><th>umidade_rel_hora</th><th>vento_direcao</th><th>vento_velocidade</th><th>DC_NOME</th><th>mes</th></tr><tr><td>i64</td><td>date</td><td>time</td><td>str</td><td>f64</td><td>f64</td><td>f64</td><td>f64</td><td>f64</td><td>i64</td><td>i64</td><td>f64</td><td>str</td><td>i8</td></tr></thead><tbody><tr><td>2023</td><td>2023-06-01</td><td>00:00:00</td><td>&quot;A144&quot;</td><td>0.0</td><td>1008.0</td><td>null</td><td>26.8</td><td>26.6</td><td>95</td><td>318</td><td>0.2</td><td>&quot;NOVO ARIPUANA&quot;</td><td>6</td></tr><tr><td>2023</td><td>2023-06-01</td><td>00:00:00</td><td>&quot;A110&quot;</td><td>0.0</td><td>1001.3</td><td>null</td><td>26.2</td><td>25.5</td><td>83</td><td>238</td><td>1.7</td><td>&quot;BOCA DO ACRE&quot;</td><td>6</td></tr><tr><td>2023</td><td>2023-06-01</td><td>00:00:00</td><td>&quot;A126&quot;</td><td>null</td><td>null</td><td>null</td><td>null</td><td>null</td><td>null</td><td>null</td><td>null</td><td>&quot;PRESIDENTE FIGUEIREDO&quot;</td><td>6</td></tr><tr><td>2023</td><td>2023-06-01</td><td>00:00:00</td><td>&quot;A128&quot;</td><td>0.0</td><td>1007.6</td><td>0.0</td><td>26.6</td><td>26.1</td><td>92</td><td>9</td><td>0.0</td><td>&quot;BARCELOS&quot;</td><td>6</td></tr><tr><td>2023</td><td>2023-06-01</td><td>00:00:00</td><td>&quot;A133&quot;</td><td>0.0</td><td>1007.5</td><td>null</td><td>25.9</td><td>25.5</td><td>86</td><td>210</td><td>1.0</td><td>&quot;MANICORE&quot;</td><td>6</td></tr><tr><td>&hellip;</td><td>&hellip;</td><td>&hellip;</td><td>&hellip;</td><td>&hellip;</td><td>&hellip;</td><td>&hellip;</td><td>&hellip;</td><td>&hellip;</td><td>&hellip;</td><td>&hellip;</td><td>&hellip;</td><td>&hellip;</td><td>&hellip;</td></tr><tr><td>2024</td><td>2024-05-30</td><td>23:00:00</td><td>&quot;A125&quot;</td><td>0.0</td><td>1007.5</td><td>null</td><td>24.3</td><td>23.9</td><td>98</td><td>335</td><td>0.0</td><td>&quot;RIO URUBU&quot;</td><td>5</td></tr><tr><td>2024</td><td>2024-05-30</td><td>23:00:00</td><td>&quot;A111&quot;</td><td>0.0</td><td>1007.1</td><td>1.7</td><td>26.7</td><td>25.6</td><td>74</td><td>261</td><td>0.1</td><td>&quot;LABREA&quot;</td><td>5</td></tr><tr><td>2024</td><td>2024-05-30</td><td>23:00:00</td><td>&quot;A120&quot;</td><td>0.0</td><td>1009.9</td><td>0.0</td><td>25.9</td><td>25.1</td><td>93</td><td>228</td><td>null</td><td>&quot;AUTAZES&quot;</td><td>5</td></tr><tr><td>2024</td><td>2024-05-30</td><td>23:00:00</td><td>&quot;A112&quot;</td><td>0.0</td><td>1007.2</td><td>0.1</td><td>27.2</td><td>24.6</td><td>84</td><td>213</td><td>1.0</td><td>&quot;HUMAITA&quot;</td><td>5</td></tr><tr><td>2024</td><td>2024-05-30</td><td>23:00:00</td><td>&quot;A121&quot;</td><td>null</td><td>null</td><td>null</td><td>null</td><td>null</td><td>null</td><td>null</td><td>null</td><td>&quot;ITACOATIARA&quot;</td><td>5</td></tr></tbody></table></div>"
            ],
            "text/plain": [
              "shape: (166_308, 14)\n",
              "┌──────┬────────────┬──────────┬────────────┬───┬──────────────┬──────────────┬──────────────┬─────┐\n",
              "│ ano  ┆ data       ┆ hora     ┆ id_estacao ┆ … ┆ vento_direca ┆ vento_veloci ┆ DC_NOME      ┆ mes │\n",
              "│ ---  ┆ ---        ┆ ---      ┆ ---        ┆   ┆ o            ┆ dade         ┆ ---          ┆ --- │\n",
              "│ i64  ┆ date       ┆ time     ┆ str        ┆   ┆ ---          ┆ ---          ┆ str          ┆ i8  │\n",
              "│      ┆            ┆          ┆            ┆   ┆ i64          ┆ f64          ┆              ┆     │\n",
              "╞══════╪════════════╪══════════╪════════════╪═══╪══════════════╪══════════════╪══════════════╪═════╡\n",
              "│ 2023 ┆ 2023-06-01 ┆ 00:00:00 ┆ A144       ┆ … ┆ 318          ┆ 0.2          ┆ NOVO         ┆ 6   │\n",
              "│      ┆            ┆          ┆            ┆   ┆              ┆              ┆ ARIPUANA     ┆     │\n",
              "│ 2023 ┆ 2023-06-01 ┆ 00:00:00 ┆ A110       ┆ … ┆ 238          ┆ 1.7          ┆ BOCA DO ACRE ┆ 6   │\n",
              "│ 2023 ┆ 2023-06-01 ┆ 00:00:00 ┆ A126       ┆ … ┆ null         ┆ null         ┆ PRESIDENTE   ┆ 6   │\n",
              "│      ┆            ┆          ┆            ┆   ┆              ┆              ┆ FIGUEIREDO   ┆     │\n",
              "│ 2023 ┆ 2023-06-01 ┆ 00:00:00 ┆ A128       ┆ … ┆ 9            ┆ 0.0          ┆ BARCELOS     ┆ 6   │\n",
              "│ 2023 ┆ 2023-06-01 ┆ 00:00:00 ┆ A133       ┆ … ┆ 210          ┆ 1.0          ┆ MANICORE     ┆ 6   │\n",
              "│ …    ┆ …          ┆ …        ┆ …          ┆ … ┆ …            ┆ …            ┆ …            ┆ …   │\n",
              "│ 2024 ┆ 2024-05-30 ┆ 23:00:00 ┆ A125       ┆ … ┆ 335          ┆ 0.0          ┆ RIO URUBU    ┆ 5   │\n",
              "│ 2024 ┆ 2024-05-30 ┆ 23:00:00 ┆ A111       ┆ … ┆ 261          ┆ 0.1          ┆ LABREA       ┆ 5   │\n",
              "│ 2024 ┆ 2024-05-30 ┆ 23:00:00 ┆ A120       ┆ … ┆ 228          ┆ null         ┆ AUTAZES      ┆ 5   │\n",
              "│ 2024 ┆ 2024-05-30 ┆ 23:00:00 ┆ A112       ┆ … ┆ 213          ┆ 1.0          ┆ HUMAITA      ┆ 5   │\n",
              "│ 2024 ┆ 2024-05-30 ┆ 23:00:00 ┆ A121       ┆ … ┆ null         ┆ null         ┆ ITACOATIARA  ┆ 5   │\n",
              "└──────┴────────────┴──────────┴────────────┴───┴──────────────┴──────────────┴──────────────┴─────┘"
            ]
          },
          "execution_count": 47,
          "metadata": {},
          "output_type": "execute_result"
        }
      ],
      "source": [
        "dm_am_filtrado = dm_am_filtrado.with_columns(\n",
        "    pl.col('data').dt.month().alias('mes')\n",
        ")\n",
        "dm_am_filtrado"
      ]
    },
    {
      "cell_type": "code",
      "execution_count": null,
      "metadata": {
        "colab": {
          "base_uri": "https://localhost:8080/",
          "height": 497
        },
        "id": "AT_nx95IY0YX",
        "outputId": "38d8c3ba-7be2-41ee-ba8c-a6ee32ea550c"
      },
      "outputs": [
        {
          "data": {
            "text/html": [
              "<div><style>\n",
              ".dataframe > thead > tr,\n",
              ".dataframe > tbody > tr {\n",
              "  text-align: right;\n",
              "  white-space: pre-wrap;\n",
              "}\n",
              "</style>\n",
              "<small>shape: (12, 20)</small><table border=\"1\" class=\"dataframe\"><thead><tr><th>mes</th><th>NOVO ARIPUANA</th><th>BOCA DO ACRE</th><th>PRESIDENTE FIGUEIREDO</th><th>BARCELOS</th><th>MANICORE</th><th>COARI</th><th>HUMAITA</th><th>PARINTINS</th><th>ITACOATIARA</th><th>MAUES</th><th>MANACAPURU</th><th>S, G. DA CACHOEIRA</th><th>URUCARA</th><th>MANAUS</th><th>RIO URUBU</th><th>AUTAZES</th><th>LABREA</th><th>EIRUNEPE</th><th>APUI</th></tr><tr><td>i8</td><td>f64</td><td>f64</td><td>f64</td><td>f64</td><td>f64</td><td>f64</td><td>f64</td><td>f64</td><td>f64</td><td>f64</td><td>f64</td><td>f64</td><td>f64</td><td>f64</td><td>f64</td><td>f64</td><td>f64</td><td>f64</td><td>f64</td></tr></thead><tbody><tr><td>6</td><td>34.2</td><td>35.5</td><td>33.7</td><td>33.1</td><td>35.1</td><td>34.5</td><td>34.5</td><td>34.0</td><td>33.2</td><td>null</td><td>34.3</td><td>34.0</td><td>33.6</td><td>34.3</td><td>33.1</td><td>34.7</td><td>34.3</td><td>null</td><td>29.6</td></tr><tr><td>7</td><td>36.4</td><td>36.7</td><td>32.7</td><td>33.5</td><td>37.9</td><td>36.7</td><td>35.9</td><td>35.2</td><td>35.8</td><td>null</td><td>35.9</td><td>33.6</td><td>33.9</td><td>35.5</td><td>34.6</td><td>35.5</td><td>36.5</td><td>null</td><td>34.2</td></tr><tr><td>8</td><td>37.6</td><td>38.3</td><td>null</td><td>35.4</td><td>38.0</td><td>37.6</td><td>37.0</td><td>36.7</td><td>37.0</td><td>null</td><td>36.6</td><td>35.8</td><td>35.4</td><td>37.7</td><td>36.8</td><td>37.7</td><td>37.0</td><td>null</td><td>34.8</td></tr><tr><td>9</td><td>38.6</td><td>38.8</td><td>null</td><td>37.8</td><td>39.0</td><td>39.3</td><td>38.9</td><td>37.2</td><td>37.9</td><td>null</td><td>39.1</td><td>37.4</td><td>37.3</td><td>38.7</td><td>37.7</td><td>38.5</td><td>37.6</td><td>null</td><td>36.5</td></tr><tr><td>10</td><td>40.5</td><td>39.7</td><td>null</td><td>38.1</td><td>39.4</td><td>39.6</td><td>38.0</td><td>38.4</td><td>39.5</td><td>null</td><td>39.5</td><td>37.8</td><td>38.0</td><td>39.2</td><td>38.5</td><td>39.0</td><td>37.8</td><td>null</td><td>38.4</td></tr><tr><td>&hellip;</td><td>&hellip;</td><td>&hellip;</td><td>&hellip;</td><td>&hellip;</td><td>&hellip;</td><td>&hellip;</td><td>&hellip;</td><td>&hellip;</td><td>&hellip;</td><td>&hellip;</td><td>&hellip;</td><td>&hellip;</td><td>&hellip;</td><td>&hellip;</td><td>&hellip;</td><td>&hellip;</td><td>&hellip;</td><td>&hellip;</td><td>&hellip;</td></tr><tr><td>1</td><td>34.5</td><td>34.6</td><td>null</td><td>36.1</td><td>35.5</td><td>35.7</td><td>35.4</td><td>34.9</td><td>34.3</td><td>null</td><td>34.2</td><td>35.7</td><td>34.1</td><td>35.2</td><td>33.7</td><td>35.2</td><td>35.1</td><td>null</td><td>34.4</td></tr><tr><td>2</td><td>36.1</td><td>35.5</td><td>null</td><td>36.7</td><td>36.7</td><td>36.3</td><td>35.3</td><td>35.3</td><td>34.9</td><td>null</td><td>35.2</td><td>37.5</td><td>34.0</td><td>36.2</td><td>34.3</td><td>35.2</td><td>35.7</td><td>null</td><td>null</td></tr><tr><td>3</td><td>35.3</td><td>35.8</td><td>null</td><td>35.2</td><td>36.1</td><td>36.1</td><td>36.4</td><td>35.7</td><td>35.0</td><td>null</td><td>35.2</td><td>35.9</td><td>34.0</td><td>35.1</td><td>34.5</td><td>35.3</td><td>35.4</td><td>null</td><td>22.8</td></tr><tr><td>4</td><td>35.0</td><td>36.6</td><td>null</td><td>34.7</td><td>35.5</td><td>35.2</td><td>36.4</td><td>34.2</td><td>33.8</td><td>null</td><td>34.2</td><td>35.9</td><td>33.2</td><td>34.7</td><td>34.0</td><td>35.1</td><td>35.4</td><td>null</td><td>32.0</td></tr><tr><td>5</td><td>35.0</td><td>36.0</td><td>null</td><td>33.7</td><td>35.3</td><td>35.4</td><td>36.1</td><td>34.4</td><td>34.0</td><td>null</td><td>34.2</td><td>34.3</td><td>33.1</td><td>34.1</td><td>33.3</td><td>35.2</td><td>35.1</td><td>null</td><td>null</td></tr></tbody></table></div>"
            ],
            "text/plain": [
              "shape: (12, 20)\n",
              "┌─────┬───────────────┬──────────────┬────────────┬───┬─────────┬────────┬──────────┬──────┐\n",
              "│ mes ┆ NOVO ARIPUANA ┆ BOCA DO ACRE ┆ PRESIDENTE ┆ … ┆ AUTAZES ┆ LABREA ┆ EIRUNEPE ┆ APUI │\n",
              "│ --- ┆ ---           ┆ ---          ┆ FIGUEIREDO ┆   ┆ ---     ┆ ---    ┆ ---      ┆ ---  │\n",
              "│ i8  ┆ f64           ┆ f64          ┆ ---        ┆   ┆ f64     ┆ f64    ┆ f64      ┆ f64  │\n",
              "│     ┆               ┆              ┆ f64        ┆   ┆         ┆        ┆          ┆      │\n",
              "╞═════╪═══════════════╪══════════════╪════════════╪═══╪═════════╪════════╪══════════╪══════╡\n",
              "│ 6   ┆ 34.2          ┆ 35.5         ┆ 33.7       ┆ … ┆ 34.7    ┆ 34.3   ┆ null     ┆ 29.6 │\n",
              "│ 7   ┆ 36.4          ┆ 36.7         ┆ 32.7       ┆ … ┆ 35.5    ┆ 36.5   ┆ null     ┆ 34.2 │\n",
              "│ 8   ┆ 37.6          ┆ 38.3         ┆ null       ┆ … ┆ 37.7    ┆ 37.0   ┆ null     ┆ 34.8 │\n",
              "│ 9   ┆ 38.6          ┆ 38.8         ┆ null       ┆ … ┆ 38.5    ┆ 37.6   ┆ null     ┆ 36.5 │\n",
              "│ 10  ┆ 40.5          ┆ 39.7         ┆ null       ┆ … ┆ 39.0    ┆ 37.8   ┆ null     ┆ 38.4 │\n",
              "│ …   ┆ …             ┆ …            ┆ …          ┆ … ┆ …       ┆ …      ┆ …        ┆ …    │\n",
              "│ 1   ┆ 34.5          ┆ 34.6         ┆ null       ┆ … ┆ 35.2    ┆ 35.1   ┆ null     ┆ 34.4 │\n",
              "│ 2   ┆ 36.1          ┆ 35.5         ┆ null       ┆ … ┆ 35.2    ┆ 35.7   ┆ null     ┆ null │\n",
              "│ 3   ┆ 35.3          ┆ 35.8         ┆ null       ┆ … ┆ 35.3    ┆ 35.4   ┆ null     ┆ 22.8 │\n",
              "│ 4   ┆ 35.0          ┆ 36.6         ┆ null       ┆ … ┆ 35.1    ┆ 35.4   ┆ null     ┆ 32.0 │\n",
              "│ 5   ┆ 35.0          ┆ 36.0         ┆ null       ┆ … ┆ 35.2    ┆ 35.1   ┆ null     ┆ null │\n",
              "└─────┴───────────────┴──────────────┴────────────┴───┴─────────┴────────┴──────────┴──────┘"
            ]
          },
          "execution_count": 48,
          "metadata": {},
          "output_type": "execute_result"
        }
      ],
      "source": [
        "tabela_temp_max = dm_am_filtrado.pivot(\n",
        "    values='temperatura_max',\n",
        "    index = 'mes',\n",
        "    on = 'DC_NOME',\n",
        "    aggregate_function = 'max',\n",
        "    maintain_order = True\n",
        ")\n",
        "tabela_temp_max"
      ]
    },
    {
      "cell_type": "markdown",
      "metadata": {
        "id": "nccHiyPbrBZL"
      },
      "source": [
        "<font size=4>[`polars.DataFrame.pivot`](https://docs.pola.rs/api/python/stable/reference/dataframe/api/polars.DataFrame.pivot.html)</font><br>"
      ]
    },
    {
      "cell_type": "code",
      "execution_count": null,
      "metadata": {
        "id": "goUFwZxurEHe"
      },
      "outputs": [],
      "source": [
        "tabela_temp_max.write_csv('Temperaturas máximas por estacao AM.csv')"
      ]
    },
    {
      "cell_type": "markdown",
      "metadata": {
        "id": "WLvkMCwHEi6W"
      },
      "source": [
        "## Filtrando dados por horários"
      ]
    },
    {
      "cell_type": "markdown",
      "metadata": {
        "id": "5zu63jOIy8M6"
      },
      "source": [
        "> A equipe busca compreender como as temperaturas máximas e mínimas variam ao longo do dia durante o último ano na cidade de Manaus. Analisar as temperaturas por períodos do dia (manhã, tarde e noite) pode fornecer insights importantes sobre padrões térmicos e sua variação sazonal."
      ]
    },
    {
      "cell_type": "code",
      "execution_count": null,
      "metadata": {
        "colab": {
          "base_uri": "https://localhost:8080/",
          "height": 361
        },
        "id": "8dmqTntWlqzL",
        "outputId": "80ecdc2f-b73c-4794-fe57-cdfdfc273d01"
      },
      "outputs": [
        {
          "data": {
            "text/html": [
              "<div><style>\n",
              ".dataframe > thead > tr,\n",
              ".dataframe > tbody > tr {\n",
              "  text-align: right;\n",
              "  white-space: pre-wrap;\n",
              "}\n",
              "</style>\n",
              "<small>shape: (5, 14)</small><table border=\"1\" class=\"dataframe\"><thead><tr><th>ano</th><th>data</th><th>hora</th><th>id_estacao</th><th>precipitacao_total</th><th>pressao_atm_hora</th><th>radiacao_global</th><th>temperatura_max</th><th>temperatura_min</th><th>umidade_rel_hora</th><th>vento_direcao</th><th>vento_velocidade</th><th>DC_NOME</th><th>mes</th></tr><tr><td>i64</td><td>date</td><td>time</td><td>str</td><td>f64</td><td>f64</td><td>f64</td><td>f64</td><td>f64</td><td>i64</td><td>i64</td><td>f64</td><td>str</td><td>i8</td></tr></thead><tbody><tr><td>2023</td><td>2023-06-01</td><td>00:00:00</td><td>&quot;A101&quot;</td><td>0.0</td><td>1006.4</td><td>0.0</td><td>28.4</td><td>28.0</td><td>74</td><td>54</td><td>1.6</td><td>&quot;MANAUS&quot;</td><td>6</td></tr><tr><td>2023</td><td>2023-06-01</td><td>01:00:00</td><td>&quot;A101&quot;</td><td>0.0</td><td>1007.0</td><td>0.0</td><td>28.1</td><td>27.8</td><td>73</td><td>72</td><td>1.7</td><td>&quot;MANAUS&quot;</td><td>6</td></tr><tr><td>2023</td><td>2023-06-01</td><td>02:00:00</td><td>&quot;A101&quot;</td><td>0.0</td><td>1007.6</td><td>0.0</td><td>28.0</td><td>27.6</td><td>75</td><td>105</td><td>1.1</td><td>&quot;MANAUS&quot;</td><td>6</td></tr><tr><td>2023</td><td>2023-06-01</td><td>03:00:00</td><td>&quot;A101&quot;</td><td>0.0</td><td>1007.6</td><td>0.0</td><td>27.8</td><td>27.2</td><td>80</td><td>76</td><td>1.5</td><td>&quot;MANAUS&quot;</td><td>6</td></tr><tr><td>2023</td><td>2023-06-01</td><td>04:00:00</td><td>&quot;A101&quot;</td><td>0.0</td><td>1007.6</td><td>0.0</td><td>27.2</td><td>26.8</td><td>83</td><td>70</td><td>1.5</td><td>&quot;MANAUS&quot;</td><td>6</td></tr></tbody></table></div>"
            ],
            "text/plain": [
              "shape: (5, 14)\n",
              "┌──────┬────────────┬──────────┬────────────┬───┬───────────────┬──────────────────┬─────────┬─────┐\n",
              "│ ano  ┆ data       ┆ hora     ┆ id_estacao ┆ … ┆ vento_direcao ┆ vento_velocidade ┆ DC_NOME ┆ mes │\n",
              "│ ---  ┆ ---        ┆ ---      ┆ ---        ┆   ┆ ---           ┆ ---              ┆ ---     ┆ --- │\n",
              "│ i64  ┆ date       ┆ time     ┆ str        ┆   ┆ i64           ┆ f64              ┆ str     ┆ i8  │\n",
              "╞══════╪════════════╪══════════╪════════════╪═══╪═══════════════╪══════════════════╪═════════╪═════╡\n",
              "│ 2023 ┆ 2023-06-01 ┆ 00:00:00 ┆ A101       ┆ … ┆ 54            ┆ 1.6              ┆ MANAUS  ┆ 6   │\n",
              "│ 2023 ┆ 2023-06-01 ┆ 01:00:00 ┆ A101       ┆ … ┆ 72            ┆ 1.7              ┆ MANAUS  ┆ 6   │\n",
              "│ 2023 ┆ 2023-06-01 ┆ 02:00:00 ┆ A101       ┆ … ┆ 105           ┆ 1.1              ┆ MANAUS  ┆ 6   │\n",
              "│ 2023 ┆ 2023-06-01 ┆ 03:00:00 ┆ A101       ┆ … ┆ 76            ┆ 1.5              ┆ MANAUS  ┆ 6   │\n",
              "│ 2023 ┆ 2023-06-01 ┆ 04:00:00 ┆ A101       ┆ … ┆ 70            ┆ 1.5              ┆ MANAUS  ┆ 6   │\n",
              "└──────┴────────────┴──────────┴────────────┴───┴───────────────┴──────────────────┴─────────┴─────┘"
            ]
          },
          "execution_count": 53,
          "metadata": {},
          "output_type": "execute_result"
        }
      ],
      "source": [
        "dm_manaus = dm_am_filtrado.filter(pl.col('DC_NOME')=='MANAUS')\n",
        "dm_manaus.head()"
      ]
    },
    {
      "cell_type": "code",
      "execution_count": null,
      "metadata": {
        "colab": {
          "base_uri": "https://localhost:8080/",
          "height": 636
        },
        "id": "tB7cy7ZwlpQ8",
        "outputId": "cdcc1db2-e0be-4496-e656-a0d99307e9da"
      },
      "outputs": [
        {
          "data": {
            "text/html": [
              "<div><style>\n",
              ".dataframe > thead > tr,\n",
              ".dataframe > tbody > tr {\n",
              "  text-align: right;\n",
              "  white-space: pre-wrap;\n",
              "}\n",
              "</style>\n",
              "<small>shape: (8_753, 15)</small><table border=\"1\" class=\"dataframe\"><thead><tr><th>ano</th><th>data</th><th>hora</th><th>id_estacao</th><th>precipitacao_total</th><th>pressao_atm_hora</th><th>radiacao_global</th><th>temperatura_max</th><th>temperatura_min</th><th>umidade_rel_hora</th><th>vento_direcao</th><th>vento_velocidade</th><th>DC_NOME</th><th>mes</th><th>periodo_dia</th></tr><tr><td>i64</td><td>date</td><td>time</td><td>str</td><td>f64</td><td>f64</td><td>f64</td><td>f64</td><td>f64</td><td>i64</td><td>i64</td><td>f64</td><td>str</td><td>i8</td><td>str</td></tr></thead><tbody><tr><td>2023</td><td>2023-06-01</td><td>00:00:00</td><td>&quot;A101&quot;</td><td>0.0</td><td>1006.4</td><td>0.0</td><td>28.4</td><td>28.0</td><td>74</td><td>54</td><td>1.6</td><td>&quot;MANAUS&quot;</td><td>6</td><td>&quot;3 - Noite&quot;</td></tr><tr><td>2023</td><td>2023-06-01</td><td>01:00:00</td><td>&quot;A101&quot;</td><td>0.0</td><td>1007.0</td><td>0.0</td><td>28.1</td><td>27.8</td><td>73</td><td>72</td><td>1.7</td><td>&quot;MANAUS&quot;</td><td>6</td><td>&quot;3 - Noite&quot;</td></tr><tr><td>2023</td><td>2023-06-01</td><td>02:00:00</td><td>&quot;A101&quot;</td><td>0.0</td><td>1007.6</td><td>0.0</td><td>28.0</td><td>27.6</td><td>75</td><td>105</td><td>1.1</td><td>&quot;MANAUS&quot;</td><td>6</td><td>&quot;3 - Noite&quot;</td></tr><tr><td>2023</td><td>2023-06-01</td><td>03:00:00</td><td>&quot;A101&quot;</td><td>0.0</td><td>1007.6</td><td>0.0</td><td>27.8</td><td>27.2</td><td>80</td><td>76</td><td>1.5</td><td>&quot;MANAUS&quot;</td><td>6</td><td>&quot;3 - Noite&quot;</td></tr><tr><td>2023</td><td>2023-06-01</td><td>04:00:00</td><td>&quot;A101&quot;</td><td>0.0</td><td>1007.6</td><td>0.0</td><td>27.2</td><td>26.8</td><td>83</td><td>70</td><td>1.5</td><td>&quot;MANAUS&quot;</td><td>6</td><td>&quot;3 - Noite&quot;</td></tr><tr><td>&hellip;</td><td>&hellip;</td><td>&hellip;</td><td>&hellip;</td><td>&hellip;</td><td>&hellip;</td><td>&hellip;</td><td>&hellip;</td><td>&hellip;</td><td>&hellip;</td><td>&hellip;</td><td>&hellip;</td><td>&hellip;</td><td>&hellip;</td><td>&hellip;</td></tr><tr><td>2024</td><td>2024-05-30</td><td>19:00:00</td><td>&quot;A101&quot;</td><td>0.0</td><td>1006.2</td><td>855.5</td><td>28.2</td><td>27.3</td><td>76</td><td>207</td><td>1.5</td><td>&quot;MANAUS&quot;</td><td>5</td><td>&quot;3 - Noite&quot;</td></tr><tr><td>2024</td><td>2024-05-30</td><td>20:00:00</td><td>&quot;A101&quot;</td><td>0.0</td><td>1005.7</td><td>563.6</td><td>27.7</td><td>27.1</td><td>77</td><td>150</td><td>0.9</td><td>&quot;MANAUS&quot;</td><td>5</td><td>&quot;3 - Noite&quot;</td></tr><tr><td>2024</td><td>2024-05-30</td><td>21:00:00</td><td>&quot;A101&quot;</td><td>0.0</td><td>1005.7</td><td>236.8</td><td>27.3</td><td>26.7</td><td>80</td><td>114</td><td>0.6</td><td>&quot;MANAUS&quot;</td><td>5</td><td>&quot;3 - Noite&quot;</td></tr><tr><td>2024</td><td>2024-05-30</td><td>22:00:00</td><td>&quot;A101&quot;</td><td>0.0</td><td>1006.3</td><td>79.7</td><td>26.9</td><td>26.1</td><td>85</td><td>119</td><td>0.4</td><td>&quot;MANAUS&quot;</td><td>5</td><td>&quot;3 - Noite&quot;</td></tr><tr><td>2024</td><td>2024-05-30</td><td>23:00:00</td><td>&quot;A101&quot;</td><td>0.0</td><td>1006.7</td><td>0.0</td><td>26.1</td><td>25.4</td><td>88</td><td>21</td><td>0.3</td><td>&quot;MANAUS&quot;</td><td>5</td><td>&quot;3 - Noite&quot;</td></tr></tbody></table></div>"
            ],
            "text/plain": [
              "shape: (8_753, 15)\n",
              "┌──────┬────────────┬──────────┬────────────┬───┬──────────────────┬─────────┬─────┬─────────────┐\n",
              "│ ano  ┆ data       ┆ hora     ┆ id_estacao ┆ … ┆ vento_velocidade ┆ DC_NOME ┆ mes ┆ periodo_dia │\n",
              "│ ---  ┆ ---        ┆ ---      ┆ ---        ┆   ┆ ---              ┆ ---     ┆ --- ┆ ---         │\n",
              "│ i64  ┆ date       ┆ time     ┆ str        ┆   ┆ f64              ┆ str     ┆ i8  ┆ str         │\n",
              "╞══════╪════════════╪══════════╪════════════╪═══╪══════════════════╪═════════╪═════╪═════════════╡\n",
              "│ 2023 ┆ 2023-06-01 ┆ 00:00:00 ┆ A101       ┆ … ┆ 1.6              ┆ MANAUS  ┆ 6   ┆ 3 - Noite   │\n",
              "│ 2023 ┆ 2023-06-01 ┆ 01:00:00 ┆ A101       ┆ … ┆ 1.7              ┆ MANAUS  ┆ 6   ┆ 3 - Noite   │\n",
              "│ 2023 ┆ 2023-06-01 ┆ 02:00:00 ┆ A101       ┆ … ┆ 1.1              ┆ MANAUS  ┆ 6   ┆ 3 - Noite   │\n",
              "│ 2023 ┆ 2023-06-01 ┆ 03:00:00 ┆ A101       ┆ … ┆ 1.5              ┆ MANAUS  ┆ 6   ┆ 3 - Noite   │\n",
              "│ 2023 ┆ 2023-06-01 ┆ 04:00:00 ┆ A101       ┆ … ┆ 1.5              ┆ MANAUS  ┆ 6   ┆ 3 - Noite   │\n",
              "│ …    ┆ …          ┆ …        ┆ …          ┆ … ┆ …                ┆ …       ┆ …   ┆ …           │\n",
              "│ 2024 ┆ 2024-05-30 ┆ 19:00:00 ┆ A101       ┆ … ┆ 1.5              ┆ MANAUS  ┆ 5   ┆ 3 - Noite   │\n",
              "│ 2024 ┆ 2024-05-30 ┆ 20:00:00 ┆ A101       ┆ … ┆ 0.9              ┆ MANAUS  ┆ 5   ┆ 3 - Noite   │\n",
              "│ 2024 ┆ 2024-05-30 ┆ 21:00:00 ┆ A101       ┆ … ┆ 0.6              ┆ MANAUS  ┆ 5   ┆ 3 - Noite   │\n",
              "│ 2024 ┆ 2024-05-30 ┆ 22:00:00 ┆ A101       ┆ … ┆ 0.4              ┆ MANAUS  ┆ 5   ┆ 3 - Noite   │\n",
              "│ 2024 ┆ 2024-05-30 ┆ 23:00:00 ┆ A101       ┆ … ┆ 0.3              ┆ MANAUS  ┆ 5   ┆ 3 - Noite   │\n",
              "└──────┴────────────┴──────────┴────────────┴───┴──────────────────┴─────────┴─────┴─────────────┘"
            ]
          },
          "execution_count": 54,
          "metadata": {},
          "output_type": "execute_result"
        }
      ],
      "source": [
        "manha = pl.time(6,0,0)\n",
        "tarde = pl.time(12,0,0)\n",
        "noite = pl.time(18,0,0)\n",
        "\n",
        "dm_manaus = dm_manaus.with_columns(\n",
        "    pl.when((pl.col('hora') >= manha)&(pl.col('hora') < tarde)).then(pl.lit('1 - Manhã'))\n",
        "    .when((pl.col('hora')>=tarde) & (pl.col('hora')<noite)).then(pl.lit('2 - Tarde'))\n",
        "    .otherwise(pl.lit('3 - Noite'))\n",
        "    .alias('periodo_dia')\n",
        ")\n",
        "dm_manaus"
      ]
    },
    {
      "cell_type": "markdown",
      "metadata": {
        "id": "J84uGJnErSXY"
      },
      "source": [
        "<font size=4>[`polars.time`](https://docs.pola.rs/api/python/stable/reference/expressions/api/polars.time.html)</font><br>"
      ]
    },
    {
      "cell_type": "code",
      "execution_count": null,
      "metadata": {
        "colab": {
          "base_uri": "https://localhost:8080/",
          "height": 443
        },
        "id": "u1SRyRljgCD8",
        "outputId": "189c2c21-008d-4589-ddb7-0cda9a1c8253"
      },
      "outputs": [
        {
          "data": {
            "text/html": [
              "<div><style>\n",
              ".dataframe > thead > tr,\n",
              ".dataframe > tbody > tr {\n",
              "  text-align: right;\n",
              "  white-space: pre-wrap;\n",
              "}\n",
              "</style>\n",
              "<small>shape: (36, 4)</small><table border=\"1\" class=\"dataframe\"><thead><tr><th>mes</th><th>periodo_dia</th><th>temperatura_max_media</th><th>temperatura_min_media</th></tr><tr><td>i8</td><td>str</td><td>f64</td><td>f64</td></tr></thead><tbody><tr><td>5</td><td>&quot;3 - Noite&quot;</td><td>28.400556</td><td>27.585556</td></tr><tr><td>11</td><td>&quot;1 - Manhã&quot;</td><td>27.612222</td><td>26.932222</td></tr><tr><td>11</td><td>&quot;3 - Noite&quot;</td><td>31.12906</td><td>30.11453</td></tr><tr><td>4</td><td>&quot;3 - Noite&quot;</td><td>28.688056</td><td>27.759722</td></tr><tr><td>2</td><td>&quot;2 - Tarde&quot;</td><td>30.189655</td><td>28.596552</td></tr><tr><td>&hellip;</td><td>&hellip;</td><td>&hellip;</td><td>&hellip;</td></tr><tr><td>8</td><td>&quot;2 - Tarde&quot;</td><td>32.946774</td><td>30.951613</td></tr><tr><td>4</td><td>&quot;2 - Tarde&quot;</td><td>29.711667</td><td>28.161111</td></tr><tr><td>11</td><td>&quot;2 - Tarde&quot;</td><td>31.972222</td><td>30.210556</td></tr><tr><td>6</td><td>&quot;2 - Tarde&quot;</td><td>30.005556</td><td>28.412778</td></tr><tr><td>10</td><td>&quot;3 - Noite&quot;</td><td>32.270752</td><td>31.299721</td></tr></tbody></table></div>"
            ],
            "text/plain": [
              "shape: (36, 4)\n",
              "┌─────┬─────────────┬───────────────────────┬───────────────────────┐\n",
              "│ mes ┆ periodo_dia ┆ temperatura_max_media ┆ temperatura_min_media │\n",
              "│ --- ┆ ---         ┆ ---                   ┆ ---                   │\n",
              "│ i8  ┆ str         ┆ f64                   ┆ f64                   │\n",
              "╞═════╪═════════════╪═══════════════════════╪═══════════════════════╡\n",
              "│ 5   ┆ 3 - Noite   ┆ 28.400556             ┆ 27.585556             │\n",
              "│ 11  ┆ 1 - Manhã   ┆ 27.612222             ┆ 26.932222             │\n",
              "│ 11  ┆ 3 - Noite   ┆ 31.12906              ┆ 30.11453              │\n",
              "│ 4   ┆ 3 - Noite   ┆ 28.688056             ┆ 27.759722             │\n",
              "│ 2   ┆ 2 - Tarde   ┆ 30.189655             ┆ 28.596552             │\n",
              "│ …   ┆ …           ┆ …                     ┆ …                     │\n",
              "│ 8   ┆ 2 - Tarde   ┆ 32.946774             ┆ 30.951613             │\n",
              "│ 4   ┆ 2 - Tarde   ┆ 29.711667             ┆ 28.161111             │\n",
              "│ 11  ┆ 2 - Tarde   ┆ 31.972222             ┆ 30.210556             │\n",
              "│ 6   ┆ 2 - Tarde   ┆ 30.005556             ┆ 28.412778             │\n",
              "│ 10  ┆ 3 - Noite   ┆ 32.270752             ┆ 31.299721             │\n",
              "└─────┴─────────────┴───────────────────────┴───────────────────────┘"
            ]
          },
          "execution_count": 56,
          "metadata": {},
          "output_type": "execute_result"
        }
      ],
      "source": [
        "medias_temp = dm_manaus.group_by(['mes','periodo_dia']).agg([\n",
        "    pl.col('temperatura_max').mean().alias('temperatura_max_media'),\n",
        "    pl.col('temperatura_min').mean().alias('temperatura_min_media')\n",
        "])\n",
        "medias_temp"
      ]
    },
    {
      "cell_type": "code",
      "execution_count": null,
      "metadata": {
        "id": "SNQzdvVWrbDs"
      },
      "outputs": [],
      "source": [
        "medias_temp.write_csv('Temperaturas mensais - MANAUS - periodo do dia.csv')"
      ]
    },
    {
      "cell_type": "code",
      "execution_count": null,
      "metadata": {
        "id": "vzJyfsCFooGh"
      },
      "outputs": [],
      "source": []
    }
  ],
  "metadata": {
    "colab": {
      "collapsed_sections": [
        "b5I0cmI0JPkN",
        "oZjj3vO8-RZE",
        "n4TFddiGfkoR",
        "Br-jvd5ev-0l",
        "JVN5pkCCMkoz",
        "Pdt7kM-Di5l_",
        "mtH2X_AOtdaw"
      ],
      "provenance": []
    },
    "kernelspec": {
      "display_name": "Python 3",
      "name": "python3"
    },
    "language_info": {
      "name": "python"
    }
  },
  "nbformat": 4,
  "nbformat_minor": 0
}